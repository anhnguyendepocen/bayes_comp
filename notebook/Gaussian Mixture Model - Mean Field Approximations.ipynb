{
 "cells": [
  {
   "cell_type": "code",
   "execution_count": 98,
   "metadata": {},
   "outputs": [],
   "source": [
    "import numpy as np\n",
    "import matplotlib.pyplot as plt\n",
    "np.set_printoptions(precision=4, suppress=True)\n",
    "import time\n",
    "from pbdlib import plot_gmm\n",
    "from scipy.special import digamma\n",
    "from scipy.special import logsumexp\n",
    "from scipy.stats import multivariate_normal as mvn\n",
    "from scipy.stats import t\n",
    "from scipy.special import loggamma\n",
    "from sklearn.metrics import mean_squared_error as mse\n",
    "from IPython.display import clear_output"
   ]
  },
  {
   "cell_type": "code",
   "execution_count": 69,
   "metadata": {},
   "outputs": [],
   "source": [
    "from math import *\n",
    "\n",
    "def t_logpdf(x,df,mu,Sigma):\n",
    "    '''\n",
    "    Multivariate t-student density:\n",
    "    output:\n",
    "        the density of the given element\n",
    "    input:\n",
    "        x = parameter (d dimensional numpy array or scalar)\n",
    "        mu = mean (d dimensional numpy array or scalar)\n",
    "        Sigma = scale matrix (dxd numpy array)\n",
    "        df = degrees of freedom\n",
    "        d: dimension\n",
    "    '''\n",
    "    d = x.shape[0]\n",
    "    Num = loggamma(1. * (d+df)/2)\n",
    "    Denom =  loggamma(1.*df/2) + 0.5*d*np.log(df*pi)   + 0.5*np.log(np.linalg.det(Sigma)) + \\\n",
    "            (0.5*(d+df))*np.log(1 + (1./df)*np.dot(np.dot((x - mu),np.linalg.inv(Sigma)), (x - mu)))\n",
    "    d = Num - Denom  \n",
    "    return d"
   ]
  },
  {
   "cell_type": "code",
   "execution_count": 109,
   "metadata": {},
   "outputs": [],
   "source": [
    "def calc_MSLL(y_pred, y_cov, y_true, train_mean, train_var):\n",
    "    n = y_pred.shape[0]\n",
    "    MSLL = 0\n",
    "    for i in range(n):\n",
    "        SLL_trivial = 0.5*np.log(2*np.pi*train_var) + ((train_mean-y_true[i])**2)/(2*train_var)\n",
    "        MSLL += 0.5*np.log(2*np.pi*y_cov[i]) + ((y_pred[i]-y_true[i])**2)/(2*y_cov[0]) - SLL_trivial\n",
    "    MSLL /= n\n",
    "    return MSLL"
   ]
  },
  {
   "cell_type": "code",
   "execution_count": 70,
   "metadata": {},
   "outputs": [],
   "source": [
    "def log_normalize(x):\n",
    "    return x - logsumexp(x)"
   ]
  },
  {
   "cell_type": "code",
   "execution_count": 71,
   "metadata": {},
   "outputs": [],
   "source": [
    "def filter_gaussian(means_, covariances_, weights_, threshold = 0.01):\n",
    "    means = [] \n",
    "    covs = []\n",
    "    for i,w in enumerate(weights_):\n",
    "        if w > threshold:\n",
    "            means.append(means_[i])\n",
    "            covs.append(covariances_[i])\n",
    "    \n",
    "    means = np.array(means)\n",
    "    covs = np.array(covs)\n",
    "    return means,covs"
   ]
  },
  {
   "cell_type": "markdown",
   "metadata": {},
   "source": [
    "### Define class for GMM and GMR"
   ]
  },
  {
   "cell_type": "code",
   "execution_count": 72,
   "metadata": {},
   "outputs": [],
   "source": [
    "from sklearn.cluster import KMeans\n",
    "class GMM():\n",
    "    def __init__(self, n_comp = 10, D = 1, K = 2, weight_concentration = 0.1):\n",
    "        self.n_comp = n_comp\n",
    "        self.D = D\n",
    "        self.K = K\n",
    "\n",
    "        #pi params\n",
    "        self.alpha0 = np.ones(K)*weight_concentration\n",
    "        self.alpha = np.copy(self.alpha0)\n",
    "\n",
    "        #mu and sigma params\n",
    "        self.betha0 = 0.0001\n",
    "        self.betha = np.ones(self.K)\n",
    "        self.mu0 = np.zeros(self.D)\n",
    "        self.v0 = self.D\n",
    "        self.W0 = np.eye(self.D)/(self.v0)\n",
    "        #\n",
    "        self.W = [np.eye(self.D) for i in range(self.K)]\n",
    "        self.v = np.ones(self.K)*self.D\n",
    "        \n",
    "        self.reg_covar = 1e-06\n",
    "        \n",
    "    def fit(self,x, num_iter = 10,restart=True):\n",
    "        self.x = x\n",
    "        cov = np.cov(x.T)\n",
    "        #self.W0 = np.linalg.inv(cov)/self.v0\n",
    "        self.N = self.x.shape[0]\n",
    "        if restart:\n",
    "            kMM = KMeans(n_clusters=self.K).fit(x)\n",
    "            self.mu = kMM.cluster_centers_\n",
    "            #self.mu = x[np.random.choice(len(x),size = self.K)]\n",
    "        for i in range(num_iter):\n",
    "            print 'Iteration ' + str(i)\n",
    "            self.expectation()\n",
    "            self.maximization()\n",
    "            \n",
    "        self.sigma = []\n",
    "        for k in range(self.K):\n",
    "            sigma = np.linalg.inv(self.v[k]*self.W[k])\n",
    "            self.sigma.append(sigma)\n",
    "\n",
    "        self.weights = self.alpha/np.sum(self.alpha)\n",
    "\n",
    "\n",
    "    def expectation(self):\n",
    "        self.ln_ro = np.zeros([self.N,self.K])\n",
    "        self.ro = np.zeros([self.N,self.K])\n",
    "\n",
    "        print 'Calculating ro'\n",
    "        tic = time.time()\n",
    "        for k in range(self.K):\n",
    "            E_s = self.D*np.log(2) + np.log(np.linalg.det(self.W[k])) + np.sum([digamma((self.v[k] + 1 - i)/2.) \\\n",
    "                                                                           for i in range(self.D)])\n",
    "            E_pi = digamma(self.alpha[k]) - digamma(np.sum(self.alpha))\n",
    "            E_2 = self.D*np.log(2*np.pi)\n",
    "            for n in range(self.N):\n",
    "                E_ms = self.D/self.betha[k] + self.v[k]*np.dot(self.x[n] - self.mu[k], np.dot(self.W[k], \\\n",
    "                                                                                self.x[n] - self.mu[k]))\n",
    "                self.ln_ro[n,k] = E_pi + 0.5*E_s - 0.5*E_2 - 0.5*E_ms\n",
    "\n",
    "        for n in range(self.N):        \n",
    "            self.ln_ro[n,:] = log_normalize(self.ln_ro[n,:])\n",
    "            self.ro[n,:] = np.exp(self.ln_ro[n,:])\n",
    "        toc = time.time()\n",
    "        print toc-tic\n",
    "\n",
    "\n",
    "        self.Nks = np.array([1e-12 + np.sum(self.ro[:,k]) for k in range(self.K)])\n",
    "\n",
    "        self.xks = np.dot(self.ro.T, self.x)\n",
    "        for k in range(self.K):\n",
    "            self.xks[k,:] /= self.Nks[k]\n",
    "\n",
    "\n",
    "        print 'Calculating Sk' \n",
    "        self.Sks = []\n",
    "        for k in range(self.K):\n",
    "            Sk = np.zeros([self.D,self.D])\n",
    "            for n in range(self.N):\n",
    "                Sk += self.ro[n,k]*np.outer(self.x[n]-self.xks[k], self.x[n]-self.xks[k])\n",
    "            Sk /= self.Nks[k]\n",
    "            self.Sks.append(Sk)\n",
    "\n",
    "        toc = time.time()\n",
    "        print toc-tic\n",
    "\n",
    "             \n",
    "    def maximization(self):\n",
    "        self.alpha = self.alpha0 + self.Nks\n",
    "        self.betha = self.betha0 + self.Nks\n",
    "\n",
    "        for k in range(self.K):\n",
    "            self.mu[k] = (self.betha0*self.mu0 + self.Nks[k]*self.xks[k])/self.betha[k]\n",
    "            Wk_inv = np.linalg.inv(self.W0 + self.reg_covar*np.eye(self.D)) + self.Nks[k]*self.Sks[k] + np.outer(self.xks[k]-self.mu0, \\\n",
    "                                    self.xks[k]-self.mu0)*self.betha0*self.Nks[k]/(self.betha0+self.Nks[k])\n",
    "            self.W[k] = np.linalg.inv(Wk_inv+ self.reg_covar*np.eye(self.D))\n",
    "            self.v[k] = self.v0 + self.Nks[k]\n",
    "            \n",
    "    def plot(self):\n",
    "        fig,ax = plt.subplots()\n",
    "        plot_gaussian(self.mu, self.sigma, ax, self.weights )\n"
   ]
  },
  {
   "cell_type": "code",
   "execution_count": 73,
   "metadata": {},
   "outputs": [],
   "source": [
    "class BGMR():\n",
    "    def __init__(self, GMM, n_in, n_out):\n",
    "        self.GMM = GMM\n",
    "        self.n_in = n_in\n",
    "        self.n_out = n_out\n",
    "        #segment the gaussian components\n",
    "        self.mu_x = []\n",
    "        self.mu_y = []\n",
    "        self.sigma_xx = []\n",
    "        self.sigma_yy = []\n",
    "        self.sigma_xy = []\n",
    "\n",
    "        \n",
    "        for k in range(self.GMM.K):\n",
    "            self.mu_x.append(self.GMM.mu[k][0:self.n_in])        \n",
    "            self.mu_y.append(self.GMM.mu[k][self.n_in:])        \n",
    "            self.sigma_xx.append(self.GMM.sigma[k][0:self.n_in, 0:self.n_in])        \n",
    "            self.sigma_yy.append(self.GMM.sigma[k][self.n_in:, self.n_in:])        \n",
    "            self.sigma_xy.append(self.GMM.sigma[k][0:self.n_in, self.n_in:])\n",
    "            \n",
    "        self.mu_x = np.array(self.mu_x)\n",
    "        self.mu_y = np.array(self.mu_y)\n",
    "        self.sigma_xx = np.array(self.sigma_xx)\n",
    "        self.sigma_yy = np.array(self.sigma_yy)\n",
    "        self.sigma_xy = np.array(self.sigma_xy)\n",
    "        \n",
    "        self.vy_x = self.GMM.v + self.n_in\n",
    "        \n",
    "        \n",
    "    def predict(self,x):\n",
    "        h = []\n",
    "        mu = []        \n",
    "        sigma = []\n",
    "\n",
    "        for k in range(self.GMM.K):\n",
    "            h.append(np.log(self.GMM.weights[k])+ t_logpdf(x, self.GMM.v[k], self.mu_x[k],self.sigma_xx[k]))\n",
    "            mu.append(self.mu_y[k] + np.dot(self.sigma_xy[k].T, \\\n",
    "                                            np.dot(np.linalg.inv(self.sigma_xx[k]), x - self.mu_x[k])))\n",
    "            sigma.append( (self.GMM.v[k] + np.dot(x-self.mu_x[k], np.dot(np.linalg.inv(self.sigma_xx[k]), x-self.mu_x[k]))) \\\n",
    "            *(self.sigma_yy[k]- np.dot(self.sigma_xy[k].T, np.dot(np.linalg.inv(self.sigma_xx[k]), self.sigma_xy[k]))) \\\n",
    "            / self.vy_x[k])\n",
    "              \n",
    "        h = np.array(h)\n",
    "        h = np.exp(log_normalize(h))\n",
    "        #h = h/np.sum(h)\n",
    "        mu = np.array(mu)\n",
    "        #print h,mu\n",
    "        #print h.shape,mu.shape\n",
    "        sigma_one = np.zeros([self.n_out, self.n_out])\n",
    "        mu_one = np.zeros(self.n_out)\n",
    "        for k in range(self.GMM.K):\n",
    "            sigma_one += h[k]*(sigma[k] + np.outer(mu[k],mu[k]))\n",
    "            mu_one += h[k]*mu[k]\n",
    "            \n",
    "        sigma_one -= np.outer(mu_one, mu_one)\n",
    "        return mu_one, sigma_one"
   ]
  },
  {
   "cell_type": "code",
   "execution_count": 74,
   "metadata": {},
   "outputs": [],
   "source": [
    "class GMR():\n",
    "    def __init__(self, GMM, n_in, n_out):\n",
    "        self.GMM = GMM\n",
    "        self.n_in = n_in\n",
    "        self.n_out = n_out\n",
    "        #segment the gaussian components\n",
    "        self.mu_x = []\n",
    "        self.mu_y = []\n",
    "        self.sigma_xx = []\n",
    "        self.sigma_yy = []\n",
    "        self.sigma_xy = []\n",
    "        self.sigma_xyx = []\n",
    "        for k in range(self.GMM.K):\n",
    "            self.mu_x.append(self.GMM.mu[k][0:self.n_in])        \n",
    "            self.mu_y.append(self.GMM.mu[k][self.n_in:])        \n",
    "            self.sigma_xx.append(self.GMM.sigma[k][0:self.n_in, 0:self.n_in])        \n",
    "            self.sigma_yy.append(self.GMM.sigma[k][self.n_in:, self.n_in:])        \n",
    "            self.sigma_xy.append(self.GMM.sigma[k][0:self.n_in, self.n_in:])\n",
    "            self.sigma_xyx.append(np.dot(self.sigma_xy[k].T,np.linalg.inv(self.sigma_xx[k])))\n",
    "            \n",
    "        self.mu_x = np.array(self.mu_x)\n",
    "        self.mu_y = np.array(self.mu_y)\n",
    "        self.sigma_xx = np.array(self.sigma_xx)\n",
    "        self.sigma_yy = np.array(self.sigma_yy)\n",
    "        self.sigma_xy = np.array(self.sigma_xy)\n",
    "        self.sigma =[self.sigma_yy[k]- np.dot(self.sigma_xy[k].T, \\\n",
    "            np.dot(np.linalg.inv(self.sigma_xx[k]), self.sigma_xy[k])) for k in range(self.GMM.K)]\n",
    "        \n",
    "    def predict(self,x):\n",
    "        h = []\n",
    "        mu = []        \n",
    "\n",
    "        for k in range(self.GMM.K):\n",
    "            h.append(self.GMM.weights[k]*mvn(mean = self.mu_x[k], cov = self.sigma_xx[k]).pdf(x))\n",
    "            mu.append(self.mu_y[k] + np.dot(self.sigma_xyx[k], x - self.mu_x[k]))\n",
    "        \n",
    "        h = np.array(h)\n",
    "        h = h/np.sum(h)\n",
    "        mu = np.array(mu)\n",
    "        sigma = self.sigma\n",
    "        \n",
    "        sigma_one = np.zeros([self.n_out, self.n_out])\n",
    "        mu_one = np.zeros(self.n_out)\n",
    "        for k in range(self.GMM.K):\n",
    "            sigma_one += h[k]*(sigma[k] + np.outer(mu[k],mu[k]))\n",
    "            mu_one += h[k]*mu[k]\n",
    "            \n",
    "        sigma_one -= np.outer(mu_one, mu_one)\n",
    "        return mu_one, sigma_one"
   ]
  },
  {
   "cell_type": "markdown",
   "metadata": {},
   "source": [
    "###  Try GMM with Data"
   ]
  },
  {
   "cell_type": "code",
   "execution_count": 75,
   "metadata": {},
   "outputs": [
    {
     "data": {
      "image/png": "[encoded data removed]",
      "text/plain": [
       "<Figure size 432x288 with 1 Axes>"
      ]
     },
     "metadata": {
      "needs_background": "light"
     },
     "output_type": "display_data"
    }
   ],
   "source": [
    "import numpy as np\n",
    "import matplotlib.pyplot as plt\n",
    "D = 2\n",
    "K_true = 5\n",
    "N = 500\n",
    "is_plot = True\n",
    "\n",
    "mus_true = []\n",
    "sigmas_true = []\n",
    "samples = []\n",
    "for k in range(K_true):\n",
    "    mu = 5*np.random.normal(size=D)\n",
    "    sigma = 3*np.diag(np.random.rand(D))\n",
    "    sample = np.random.multivariate_normal(mu, cov = sigma, size = N/K_true)\n",
    "    mus_true.append(mu)\n",
    "    sigmas_true.append(sigma)\n",
    "    samples.append(sample)\n",
    "    \n",
    "x = np.vstack(samples)\n",
    "mus_true = np.array(mus_true)\n",
    "sigmas_true = np.array(sigmas_true)\n",
    "\n",
    "if is_plot:\n",
    "    fig,ax = plt.subplots()\n",
    "    plot_gmm(mus_true,sigmas_true)#,ax)\n",
    "    plt.plot(x[:,0],x[:,1],'*',zorder = 1)"
   ]
  },
  {
   "cell_type": "code",
   "execution_count": 76,
   "metadata": {
    "scrolled": true
   },
   "outputs": [
    {
     "name": "stdout",
     "output_type": "stream",
     "text": [
      "Iteration 0\n",
      "Calculating ro\n",
      "0.0264670848846\n",
      "Calculating Sk\n",
      "0.0614681243896\n",
      "Iteration 1\n",
      "Calculating ro\n",
      "0.0271117687225\n",
      "Calculating Sk\n",
      "0.0627748966217\n",
      "Iteration 2\n",
      "Calculating ro\n",
      "0.0267820358276\n",
      "Calculating Sk\n",
      "0.0614869594574\n",
      "Iteration 3\n",
      "Calculating ro\n",
      "0.0281457901001\n",
      "Calculating Sk\n",
      "0.06764793396\n",
      "Iteration 4\n",
      "Calculating ro\n",
      "0.0263478755951\n",
      "Calculating Sk\n",
      "0.0610270500183\n",
      "Iteration 5\n",
      "Calculating ro\n",
      "0.0262191295624\n",
      "Calculating Sk\n",
      "0.0609080791473\n",
      "Iteration 6\n",
      "Calculating ro\n",
      "0.0257811546326\n",
      "Calculating Sk\n",
      "0.0602240562439\n",
      "Iteration 7\n",
      "Calculating ro\n",
      "0.031790971756\n",
      "Calculating Sk\n",
      "0.0676591396332\n",
      "Iteration 8\n",
      "Calculating ro\n",
      "0.0261080265045\n",
      "Calculating Sk\n",
      "0.0605621337891\n",
      "Iteration 9\n",
      "Calculating ro\n",
      "0.026486158371\n",
      "Calculating Sk\n",
      "0.061133146286\n",
      "Iteration 10\n",
      "Calculating ro\n",
      "0.0292789936066\n",
      "Calculating Sk\n",
      "0.0793960094452\n",
      "Iteration 11\n",
      "Calculating ro\n",
      "0.0485520362854\n",
      "Calculating Sk\n",
      "0.112215042114\n",
      "Iteration 12\n",
      "Calculating ro\n",
      "0.052227973938\n",
      "Calculating Sk\n",
      "0.113007068634\n",
      "Iteration 13\n",
      "Calculating ro\n",
      "0.0480599403381\n",
      "Calculating Sk\n",
      "0.111438989639\n",
      "Iteration 14\n",
      "Calculating ro\n",
      "0.0520849227905\n",
      "Calculating Sk\n",
      "0.116065979004\n",
      "Iteration 15\n",
      "Calculating ro\n",
      "0.0473959445953\n",
      "Calculating Sk\n",
      "0.109081983566\n",
      "Iteration 16\n",
      "Calculating ro\n",
      "0.0513410568237\n",
      "Calculating Sk\n",
      "0.114221096039\n",
      "Iteration 17\n",
      "Calculating ro\n",
      "0.0488200187683\n",
      "Calculating Sk\n",
      "0.104319095612\n",
      "Iteration 18\n",
      "Calculating ro\n",
      "0.0514740943909\n",
      "Calculating Sk\n",
      "0.11479306221\n",
      "Iteration 19\n",
      "Calculating ro\n",
      "0.0484318733215\n",
      "Calculating Sk\n",
      "0.111348867416\n",
      "Iteration 20\n",
      "Calculating ro\n",
      "0.0515849590302\n",
      "Calculating Sk\n",
      "0.108371019363\n",
      "Iteration 21\n",
      "Calculating ro\n",
      "0.0481548309326\n",
      "Calculating Sk\n",
      "0.111196994781\n",
      "Iteration 22\n",
      "Calculating ro\n",
      "0.0528218746185\n",
      "Calculating Sk\n",
      "0.11660695076\n",
      "Iteration 23\n",
      "Calculating ro\n",
      "0.04807305336\n",
      "Calculating Sk\n",
      "0.111328125\n",
      "Iteration 24\n",
      "Calculating ro\n",
      "0.0517718791962\n",
      "Calculating Sk\n",
      "0.114352941513\n",
      "Iteration 25\n",
      "Calculating ro\n",
      "0.0479671955109\n",
      "Calculating Sk\n",
      "0.115790128708\n",
      "Iteration 26\n",
      "Calculating ro\n",
      "0.0527119636536\n",
      "Calculating Sk\n",
      "0.127020835876\n",
      "Iteration 27\n",
      "Calculating ro\n",
      "0.0490009784698\n",
      "Calculating Sk\n",
      "0.123308181763\n",
      "Iteration 28\n",
      "Calculating ro\n",
      "0.0505208969116\n",
      "Calculating Sk\n",
      "0.122460842133\n",
      "Iteration 29\n",
      "Calculating ro\n",
      "0.028315782547\n",
      "Calculating Sk\n",
      "0.0684089660645\n",
      "Iteration 30\n",
      "Calculating ro\n",
      "0.0279619693756\n",
      "Calculating Sk\n",
      "0.0643730163574\n",
      "Iteration 31\n",
      "Calculating ro\n",
      "0.0262060165405\n",
      "Calculating Sk\n",
      "0.060714006424\n",
      "Iteration 32\n",
      "Calculating ro\n",
      "0.0264101028442\n",
      "Calculating Sk\n",
      "0.0589280128479\n",
      "Iteration 33\n",
      "Calculating ro\n",
      "0.0263628959656\n",
      "Calculating Sk\n",
      "0.0608260631561\n",
      "Iteration 34\n",
      "Calculating ro\n",
      "0.0283708572388\n",
      "Calculating Sk\n",
      "0.0634989738464\n",
      "Iteration 35\n",
      "Calculating ro\n",
      "0.0266859531403\n",
      "Calculating Sk\n",
      "0.0612459182739\n",
      "Iteration 36\n",
      "Calculating ro\n",
      "0.0264160633087\n",
      "Calculating Sk\n",
      "0.0600891113281\n",
      "Iteration 37\n",
      "Calculating ro\n",
      "0.0262079238892\n",
      "Calculating Sk\n",
      "0.0607438087463\n",
      "Iteration 38\n",
      "Calculating ro\n",
      "0.0277879238129\n",
      "Calculating Sk\n",
      "0.0630729198456\n",
      "Iteration 39\n",
      "Calculating ro\n",
      "0.0261969566345\n",
      "Calculating Sk\n",
      "0.0608170032501\n",
      "Iteration 40\n",
      "Calculating ro\n",
      "0.0262131690979\n",
      "Calculating Sk\n",
      "0.060711145401\n",
      "Iteration 41\n",
      "Calculating ro\n",
      "0.0282411575317\n",
      "Calculating Sk\n",
      "0.0636529922485\n",
      "Iteration 42\n",
      "Calculating ro\n",
      "0.0260438919067\n",
      "Calculating Sk\n",
      "0.0606789588928\n",
      "Iteration 43\n",
      "Calculating ro\n",
      "0.0266840457916\n",
      "Calculating Sk\n",
      "0.0615260601044\n",
      "Iteration 44\n",
      "Calculating ro\n",
      "0.0263719558716\n",
      "Calculating Sk\n",
      "0.0602009296417\n",
      "Iteration 45\n",
      "Calculating ro\n",
      "0.0281558036804\n",
      "Calculating Sk\n",
      "0.0591638088226\n",
      "Iteration 46\n",
      "Calculating ro\n",
      "0.0266468524933\n",
      "Calculating Sk\n",
      "0.0612668991089\n",
      "Iteration 47\n",
      "Calculating ro\n",
      "0.0266399383545\n",
      "Calculating Sk\n",
      "0.0590178966522\n",
      "Iteration 48\n",
      "Calculating ro\n",
      "0.0275058746338\n",
      "Calculating Sk\n",
      "0.0630300045013\n",
      "Iteration 49\n",
      "Calculating ro\n",
      "0.0264849662781\n",
      "Calculating Sk\n",
      "0.0612020492554\n"
     ]
    }
   ],
   "source": [
    "gmm = GMM(D = 2, K = 10, weight_concentration=0.01)\n",
    "gmm.fit(x,num_iter = 50)"
   ]
  },
  {
   "cell_type": "code",
   "execution_count": 77,
   "metadata": {
    "scrolled": true
   },
   "outputs": [
    {
     "data": {
      "image/png": "[encoded data removed]",
      "text/plain": [
       "<Figure size 432x288 with 1 Axes>"
      ]
     },
     "metadata": {
      "needs_background": "light"
     },
     "output_type": "display_data"
    }
   ],
   "source": [
    "fig,ax = plt.subplots()\n",
    "means, covs = filter_gaussian(gmm.mu, gmm.sigma, gmm.weights,threshold=0.05)\n",
    "plot_gmm(means,covs)\n",
    "plt.plot(x[:,0], x[:,1], '*b',zorder=1)\n",
    "plt.show()"
   ]
  },
  {
   "cell_type": "markdown",
   "metadata": {},
   "source": [
    "### Try GMR on Data "
   ]
  },
  {
   "cell_type": "code",
   "execution_count": 78,
   "metadata": {},
   "outputs": [
    {
     "data": {
      "text/plain": [
       "[<matplotlib.lines.Line2D at 0x7f0f02ddbfd0>]"
      ]
     },
     "execution_count": 78,
     "metadata": {},
     "output_type": "execute_result"
    },
    {
     "data": {
      "image/png": "[encoded data removed]",
      "text/plain": [
       "<Figure size 432x288 with 1 Axes>"
      ]
     },
     "metadata": {
      "needs_background": "light"
     },
     "output_type": "display_data"
    }
   ],
   "source": [
    "x_in = np.concatenate([np.arange(0,5,0.01), np.arange(5,10,0.01)])\n",
    "#x_out = np.sin(2*x_in) + np.random.rand(len(x_in))*1\n",
    "x_out = np.exp(x_in) + np.random.rand(len(x_in))*1\n",
    "\n",
    "x = np.vstack([x_in, x_out]).T\n",
    "plt.plot(x[:,0],x[:,1],'*b',zorder=1)"
   ]
  },
  {
   "cell_type": "code",
   "execution_count": 79,
   "metadata": {},
   "outputs": [],
   "source": [
    "gmm = GMM(n_comp=10, D=2,K=30,weight_concentration=1)"
   ]
  },
  {
   "cell_type": "code",
   "execution_count": 80,
   "metadata": {
    "scrolled": true
   },
   "outputs": [
    {
     "name": "stdout",
     "output_type": "stream",
     "text": [
      "Iteration 0\n",
      "Calculating ro\n",
      "0.130238056183\n",
      "Calculating Sk\n",
      "0.351382017136\n",
      "Iteration 1\n",
      "Calculating ro\n",
      "0.155865907669\n",
      "Calculating Sk\n",
      "0.380518913269\n",
      "Iteration 2\n",
      "Calculating ro\n",
      "0.131293058395\n",
      "Calculating Sk\n",
      "0.354207992554\n",
      "Iteration 3\n",
      "Calculating ro\n",
      "0.13551402092\n",
      "Calculating Sk\n",
      "0.358550071716\n",
      "Iteration 4\n",
      "Calculating ro\n",
      "0.133205890656\n",
      "Calculating Sk\n",
      "0.353005886078\n",
      "Iteration 5\n",
      "Calculating ro\n",
      "0.136420965195\n",
      "Calculating Sk\n",
      "0.361242055893\n",
      "Iteration 6\n",
      "Calculating ro\n",
      "0.134863853455\n",
      "Calculating Sk\n",
      "0.353246927261\n",
      "Iteration 7\n",
      "Calculating ro\n",
      "0.132692813873\n",
      "Calculating Sk\n",
      "0.350465774536\n",
      "Iteration 8\n",
      "Calculating ro\n",
      "0.133996963501\n",
      "Calculating Sk\n",
      "0.354975938797\n",
      "Iteration 9\n",
      "Calculating ro\n",
      "0.133142948151\n",
      "Calculating Sk\n",
      "0.355098962784\n",
      "Iteration 10\n",
      "Calculating ro\n",
      "0.133502960205\n",
      "Calculating Sk\n",
      "0.356410980225\n",
      "Iteration 11\n",
      "Calculating ro\n",
      "0.133515119553\n",
      "Calculating Sk\n",
      "0.352331161499\n",
      "Iteration 12\n",
      "Calculating ro\n",
      "0.164036989212\n",
      "Calculating Sk\n",
      "0.413403987885\n",
      "Iteration 13\n",
      "Calculating ro\n",
      "0.1372590065\n",
      "Calculating Sk\n",
      "0.357160806656\n",
      "Iteration 14\n",
      "Calculating ro\n",
      "0.1341381073\n",
      "Calculating Sk\n",
      "0.351869106293\n",
      "Iteration 15\n",
      "Calculating ro\n",
      "0.13350892067\n",
      "Calculating Sk\n",
      "0.359148025513\n",
      "Iteration 16\n",
      "Calculating ro\n",
      "0.132910013199\n",
      "Calculating Sk\n",
      "0.350821018219\n",
      "Iteration 17\n",
      "Calculating ro\n",
      "0.131637096405\n",
      "Calculating Sk\n",
      "0.353420972824\n",
      "Iteration 18\n",
      "Calculating ro\n",
      "0.133338928223\n",
      "Calculating Sk\n",
      "0.354140996933\n",
      "Iteration 19\n",
      "Calculating ro\n",
      "0.134150981903\n",
      "Calculating Sk\n",
      "0.379684925079\n",
      "Iteration 20\n",
      "Calculating ro\n",
      "0.13676404953\n",
      "Calculating Sk\n",
      "0.362279891968\n",
      "Iteration 21\n",
      "Calculating ro\n",
      "0.136234998703\n",
      "Calculating Sk\n",
      "0.35525894165\n",
      "Iteration 22\n",
      "Calculating ro\n",
      "0.139916181564\n",
      "Calculating Sk\n",
      "0.365410089493\n",
      "Iteration 23\n",
      "Calculating ro\n",
      "0.183075904846\n",
      "Calculating Sk\n",
      "0.611902952194\n",
      "Iteration 24\n",
      "Calculating ro\n",
      "0.245309829712\n",
      "Calculating Sk\n",
      "0.645402908325\n",
      "Iteration 25\n",
      "Calculating ro\n",
      "0.243224859238\n",
      "Calculating Sk\n",
      "0.649597883224\n",
      "Iteration 26\n",
      "Calculating ro\n",
      "0.24413895607\n",
      "Calculating Sk\n",
      "0.651113033295\n",
      "Iteration 27\n",
      "Calculating ro\n",
      "0.245100021362\n",
      "Calculating Sk\n",
      "0.649493932724\n",
      "Iteration 28\n",
      "Calculating ro\n",
      "0.219871044159\n",
      "Calculating Sk\n",
      "0.430912971497\n",
      "Iteration 29\n",
      "Calculating ro\n",
      "0.136048078537\n",
      "Calculating Sk\n",
      "0.362845897675\n"
     ]
    }
   ],
   "source": [
    "gmm.fit(x,num_iter = 30,restart=True)"
   ]
  },
  {
   "cell_type": "code",
   "execution_count": 81,
   "metadata": {},
   "outputs": [
    {
     "data": {
      "image/png": "[encoded data removed]",
      "text/plain": [
       "<Figure size 432x288 with 1 Axes>"
      ]
     },
     "metadata": {
      "needs_background": "light"
     },
     "output_type": "display_data"
    }
   ],
   "source": [
    "means, covs = filter_gaussian(gmm.mu, gmm.sigma, gmm.weights,threshold=0.01)\n",
    "plot_gmm(means,covs)\n",
    "plt.plot(x[:,0],x[:,1],'*b',zorder=1)\n",
    "plt.show()"
   ]
  },
  {
   "cell_type": "code",
   "execution_count": 82,
   "metadata": {},
   "outputs": [],
   "source": [
    "gmr = BGMR(gmm, 1, 1)\n",
    "\n",
    "y_pred = []\n",
    "y_cov = []\n",
    "x_test = np.arange(-3,11,0.05)\n",
    "for x_i in x_test:\n",
    "    m, cov = (gmr.predict(np.array([x_i])))\n",
    "    y_pred.append(m)\n",
    "    y_cov.append(cov)\n",
    "       \n",
    "y_pred = np.array(y_pred)\n",
    "y_cov = np.array(y_cov)"
   ]
  },
  {
   "cell_type": "code",
   "execution_count": 83,
   "metadata": {},
   "outputs": [
    {
     "data": {
      "image/png": "[encoded data removed]",
      "text/plain": [
       "<Figure size 432x288 with 1 Axes>"
      ]
     },
     "metadata": {
      "needs_background": "light"
     },
     "output_type": "display_data"
    }
   ],
   "source": [
    "plt.plot(x_test, y_pred,'ob')\n",
    "plt.plot(x_test, y_pred[:,0]+np.sqrt(y_cov[:,0,0]),'*r',markersize=4)\n",
    "plt.plot(x_test,  y_pred[:,0]- np.sqrt(y_cov[:,0,0]),'*r',markersize=4)  \n",
    "plot_gmm(means,covs)\n",
    "plt.show()"
   ]
  },
  {
   "cell_type": "markdown",
   "metadata": {},
   "source": [
    "### SARCOS Inverse Dynamics"
   ]
  },
  {
   "cell_type": "code",
   "execution_count": 130,
   "metadata": {},
   "outputs": [],
   "source": [
    "from scipy.io import loadmat\n",
    "data_train = loadmat('data/sarcos_inv.mat')\n",
    "data_test = loadmat('data/sarcos_inv_test.mat')\n",
    "\n",
    "x_train = data_train['sarcos_inv'][:,:21]\n",
    "y_train = data_train['sarcos_inv'][:,21:22]\n",
    "y_var = np.var(y_train)\n",
    "\n",
    "x_test = data_test['sarcos_inv_test'][:,:21]\n",
    "y_test = data_test['sarcos_inv_test'][:,21:22]\n",
    "\n",
    "X  = np.hstack([np.ones((x_train.shape[0],1)), x_train])\n",
    "Y = y_train.copy()\n",
    "\n",
    "X_test = np.hstack([np.ones((x_test.shape[0],1)), x_test])\n",
    "Y_test = y_test.copy()"
   ]
  },
  {
   "cell_type": "markdown",
   "metadata": {},
   "source": [
    "#### Subsample data"
   ]
  },
  {
   "cell_type": "code",
   "execution_count": 131,
   "metadata": {},
   "outputs": [
    {
     "name": "stdout",
     "output_type": "stream",
     "text": [
      "(44484, 23)\n"
     ]
    }
   ],
   "source": [
    "data_train = np.hstack([X,Y])\n",
    "data_test = np.hstack([X_test,Y_test])\n",
    "print data_train.shape"
   ]
  },
  {
   "cell_type": "code",
   "execution_count": 132,
   "metadata": {},
   "outputs": [],
   "source": [
    "indexes = np.arange(0, len(data_train),1)\n",
    "np.random.shuffle(indexes)\n",
    "indexes = indexes[0:2000]\n",
    "data_train = data_train[indexes]"
   ]
  },
  {
   "cell_type": "markdown",
   "metadata": {},
   "source": [
    "#### Learning the joint distribution of X and Y as GMM"
   ]
  },
  {
   "cell_type": "code",
   "execution_count": 133,
   "metadata": {},
   "outputs": [],
   "source": [
    "gmm = GMM(K=50, D=data_train.shape[1],weight_concentration=0.01)"
   ]
  },
  {
   "cell_type": "code",
   "execution_count": 134,
   "metadata": {
    "scrolled": true
   },
   "outputs": [
    {
     "name": "stdout",
     "output_type": "stream",
     "text": [
      "Iteration 0\n",
      "Calculating ro\n",
      "1.04665899277\n",
      "Calculating Sk\n",
      "1.86941099167\n",
      "Iteration 1\n",
      "Calculating ro\n",
      "1.06868195534\n",
      "Calculating Sk\n",
      "1.89353990555\n",
      "Iteration 2\n",
      "Calculating ro\n",
      "1.05269503593\n",
      "Calculating Sk\n",
      "1.87897014618\n",
      "Iteration 3\n",
      "Calculating ro\n",
      "1.06317210197\n",
      "Calculating Sk\n",
      "1.89751005173\n",
      "Iteration 4\n",
      "Calculating ro\n",
      "1.11280894279\n",
      "Calculating Sk\n",
      "1.95978593826\n",
      "Iteration 5\n",
      "Calculating ro\n",
      "1.07794094086\n",
      "Calculating Sk\n",
      "1.89881491661\n",
      "Iteration 6\n",
      "Calculating ro\n",
      "1.0696709156\n",
      "Calculating Sk\n",
      "1.97823190689\n",
      "Iteration 7\n",
      "Calculating ro\n",
      "1.0226650238\n",
      "Calculating Sk\n",
      "1.85179114342\n",
      "Iteration 8\n",
      "Calculating ro\n",
      "1.02723193169\n",
      "Calculating Sk\n",
      "1.8565788269\n",
      "Iteration 9\n",
      "Calculating ro\n",
      "1.00431513786\n",
      "Calculating Sk\n",
      "1.82271909714\n",
      "Iteration 10\n",
      "Calculating ro\n",
      "0.973828077316\n",
      "Calculating Sk\n",
      "1.78990697861\n",
      "Iteration 11\n",
      "Calculating ro\n",
      "1.04626989365\n",
      "Calculating Sk\n",
      "1.87226486206\n",
      "Iteration 12\n",
      "Calculating ro\n",
      "1.00464892387\n",
      "Calculating Sk\n",
      "1.81914591789\n",
      "Iteration 13\n",
      "Calculating ro\n",
      "1.02670812607\n",
      "Calculating Sk\n",
      "1.85148096085\n",
      "Iteration 14\n",
      "Calculating ro\n",
      "0.972090005875\n",
      "Calculating Sk\n",
      "1.78637290001\n",
      "Iteration 15\n",
      "Calculating ro\n",
      "1.00181293488\n",
      "Calculating Sk\n",
      "1.83223104477\n",
      "Iteration 16\n",
      "Calculating ro\n",
      "0.991765975952\n",
      "Calculating Sk\n",
      "1.81536698341\n",
      "Iteration 17\n",
      "Calculating ro\n",
      "0.986018896103\n",
      "Calculating Sk\n",
      "2.0621650219\n",
      "Iteration 18\n",
      "Calculating ro\n",
      "1.44138503075\n",
      "Calculating Sk\n",
      "2.68050909042\n",
      "Iteration 19\n",
      "Calculating ro\n",
      "1.38380289078\n",
      "Calculating Sk\n",
      "2.83867096901\n",
      "Iteration 20\n",
      "Calculating ro\n",
      "0.991618871689\n",
      "Calculating Sk\n",
      "1.80432987213\n",
      "Iteration 21\n",
      "Calculating ro\n",
      "1.03668689728\n",
      "Calculating Sk\n",
      "1.85840082169\n",
      "Iteration 22\n",
      "Calculating ro\n",
      "1.04002308846\n",
      "Calculating Sk\n",
      "1.8651239872\n",
      "Iteration 23\n",
      "Calculating ro\n",
      "1.04411101341\n",
      "Calculating Sk\n",
      "1.90803694725\n",
      "Iteration 24\n",
      "Calculating ro\n",
      "1.44901704788\n",
      "Calculating Sk\n",
      "2.36642098427\n",
      "Iteration 25\n",
      "Calculating ro\n",
      "1.03588199615\n",
      "Calculating Sk\n",
      "1.85882496834\n",
      "Iteration 26\n",
      "Calculating ro\n",
      "1.07445693016\n",
      "Calculating Sk\n",
      "1.89630699158\n",
      "Iteration 27\n",
      "Calculating ro\n",
      "1.09041190147\n",
      "Calculating Sk\n",
      "1.94055294991\n",
      "Iteration 28\n",
      "Calculating ro\n",
      "1.15537500381\n",
      "Calculating Sk\n",
      "1.99866580963\n",
      "Iteration 29\n",
      "Calculating ro\n",
      "1.42218494415\n",
      "Calculating Sk\n",
      "2.63561701775\n"
     ]
    }
   ],
   "source": [
    "gmm.fit(data_train,num_iter=30)"
   ]
  },
  {
   "cell_type": "markdown",
   "metadata": {},
   "source": [
    "#### Evaluate"
   ]
  },
  {
   "cell_type": "code",
   "execution_count": 144,
   "metadata": {},
   "outputs": [],
   "source": [
    "gmr = GMR(gmm, n_in=22,n_out=1)"
   ]
  },
  {
   "cell_type": "raw",
   "metadata": {},
   "source": [
    "x = data_test[1,0:21]\n",
    "gmr.predict(x)"
   ]
  },
  {
   "cell_type": "raw",
   "metadata": {
    "scrolled": true
   },
   "source": [
    "pred_train = []\n",
    "cov_train = []\n",
    "true_val_train = []\n",
    "for i in range(data_train.shape[0]):\n",
    "    print i\n",
    "    y_pred, y_cov = gmr.predict(data_train[i,0:22])\n",
    "    pred_train.append(y_pred)\n",
    "    cov_train.append(y_cov)\n",
    "    true_val_train.append(data_train[i,22])\n",
    "    clear_output()"
   ]
  },
  {
   "cell_type": "code",
   "execution_count": 147,
   "metadata": {
    "scrolled": true
   },
   "outputs": [
    {
     "name": "stdout",
     "output_type": "stream",
     "text": [
      "4448\n",
      "\n"
     ]
    }
   ],
   "source": [
    "pred_test = []\n",
    "cov_test = []\n",
    "true_val_test = []\n",
    "for i in range(X_test.shape[0]):\n",
    "    print i\n",
    "    y_pred, y_cov = gmr.predict(X_test[i])\n",
    "    pred_test.append(y_pred)\n",
    "    cov_test.append(y_cov)\n",
    "    true_val_test.append(Y_test[i])\n",
    "    clear_output(wait=True)"
   ]
  },
  {
   "cell_type": "code",
   "execution_count": 150,
   "metadata": {},
   "outputs": [],
   "source": [
    "pred_test = np.array(pred_test)"
   ]
  },
  {
   "cell_type": "markdown",
   "metadata": {},
   "source": [
    "#### Calculate Standard Mean Square Error (SMSE)"
   ]
  },
  {
   "cell_type": "code",
   "execution_count": null,
   "metadata": {},
   "outputs": [],
   "source": [
    "smse_train = mse(y_pred_train[:,:,0],y_train)/y_var"
   ]
  },
  {
   "cell_type": "code",
   "execution_count": 148,
   "metadata": {},
   "outputs": [
    {
     "name": "stdout",
     "output_type": "stream",
     "text": [
      "SMSE test is 0.08175380050388624\n"
     ]
    }
   ],
   "source": [
    "smse_test = mse(pred_test,Y_test)/y_var\n",
    "#print 'SMSE training is ' + str(smse_train_)\n",
    "print 'SMSE test is ' + str(smse_test)"
   ]
  },
  {
   "cell_type": "markdown",
   "metadata": {},
   "source": [
    "#### Calculate Mean Standard Log Loss (MSLL)"
   ]
  },
  {
   "cell_type": "code",
   "execution_count": 141,
   "metadata": {},
   "outputs": [],
   "source": [
    "train_mean = np.mean(y_train)\n",
    "train_var = np.var(y_train)"
   ]
  },
  {
   "cell_type": "code",
   "execution_count": 151,
   "metadata": {},
   "outputs": [
    {
     "name": "stdout",
     "output_type": "stream",
     "text": [
      "MSLL test is [[-1.1872]]\n"
     ]
    }
   ],
   "source": [
    "#msll_train_ = calc_MSLL(y_pred_train_[:,0,0], (y_cov_train_[:,0,0]), y_train, train_mean, train_var)\n",
    "msll_test = calc_MSLL(pred_test, cov_test, Y_test, train_mean, train_var)\n",
    "#print 'MSLL training is ' + str(msll_train_)\n",
    "print 'MSLL test is ' + str(msll_test)"
   ]
  },
  {
   "cell_type": "code",
   "execution_count": 143,
   "metadata": {},
   "outputs": [
    {
     "ename": "SyntaxError",
     "evalue": "invalid syntax (<ipython-input-143-645415f34ca0>, line 1)",
     "output_type": "error",
     "traceback": [
      "\u001b[0;36m  File \u001b[0;32m\"<ipython-input-143-645415f34ca0>\"\u001b[0;36m, line \u001b[0;32m1\u001b[0m\n\u001b[0;31m    MSLL test is [[-1.4047]] using GMR\u001b[0m\n\u001b[0m            ^\u001b[0m\n\u001b[0;31mSyntaxError\u001b[0m\u001b[0;31m:\u001b[0m invalid syntax\n"
     ]
    }
   ],
   "source": [
    "MSLL test is [[-1.4047]] using GMR"
   ]
  },
  {
   "cell_type": "markdown",
   "metadata": {},
   "source": [
    "### Using polynomial input"
   ]
  },
  {
   "cell_type": "code",
   "execution_count": 117,
   "metadata": {},
   "outputs": [],
   "source": [
    "from sklearn.preprocessing import PolynomialFeatures\n",
    "poly = PolynomialFeatures(degree=2)\n",
    "x_train_poly = poly.fit_transform(X)\n",
    "x_test_poly = poly.fit_transform(X_test)\n",
    "\n",
    "data_train_poly = np.hstack([x_train_poly, y_train])\n",
    "data_test_poly = np.hstack([x_test_poly, y_test])"
   ]
  },
  {
   "cell_type": "code",
   "execution_count": 125,
   "metadata": {},
   "outputs": [],
   "source": [
    "indexes = np.arange(0, len(data_train_poly),1)\n",
    "np.random.shuffle(indexes)\n",
    "indexes = indexes[0:2000]\n",
    "data_train_poly = data_train_poly[indexes]"
   ]
  },
  {
   "cell_type": "code",
   "execution_count": 126,
   "metadata": {},
   "outputs": [],
   "source": [
    "gmm = GMM(K=50, D=data_train_poly.shape[1],weight_concentration=100)"
   ]
  },
  {
   "cell_type": "code",
   "execution_count": 127,
   "metadata": {
    "scrolled": true
   },
   "outputs": [
    {
     "name": "stdout",
     "output_type": "stream",
     "text": [
      "Iteration 0\n",
      "Calculating ro\n",
      "2.8874130249\n",
      "Calculating Sk\n",
      "14.2675919533\n",
      "Iteration 1\n",
      "Calculating ro\n"
     ]
    },
    {
     "name": "stderr",
     "output_type": "stream",
     "text": [
      "/home/teguh/.local/lib/python2.7/site-packages/ipykernel_launcher.py:53: RuntimeWarning: divide by zero encountered in log\n",
      "/home/teguh/.local/lib/python2.7/site-packages/ipykernel_launcher.py:2: RuntimeWarning: invalid value encountered in subtract\n",
      "  \n"
     ]
    },
    {
     "name": "stdout",
     "output_type": "stream",
     "text": [
      "2.93174505234\n",
      "Calculating Sk\n",
      "14.341864109\n",
      "Iteration 2\n",
      "Calculating ro\n"
     ]
    },
    {
     "ename": "KeyboardInterrupt",
     "evalue": "",
     "output_type": "error",
     "traceback": [
      "\u001b[0;31m---------------------------------------------------------------------------\u001b[0m",
      "\u001b[0;31mKeyboardInterrupt\u001b[0m                         Traceback (most recent call last)",
      "\u001b[0;32m<ipython-input-127-bcd7bd56472d>\u001b[0m in \u001b[0;36m<module>\u001b[0;34m()\u001b[0m\n\u001b[0;32m----> 1\u001b[0;31m \u001b[0mgmm\u001b[0m\u001b[0;34m.\u001b[0m\u001b[0mfit\u001b[0m\u001b[0;34m(\u001b[0m\u001b[0mdata_train_poly\u001b[0m\u001b[0;34m,\u001b[0m\u001b[0mnum_iter\u001b[0m\u001b[0;34m=\u001b[0m\u001b[0;36m30\u001b[0m\u001b[0;34m)\u001b[0m\u001b[0;34m\u001b[0m\u001b[0m\n\u001b[0m",
      "\u001b[0;32m<ipython-input-72-b169b8683095>\u001b[0m in \u001b[0;36mfit\u001b[0;34m(self, x, num_iter, restart)\u001b[0m\n\u001b[1;32m     33\u001b[0m         \u001b[0;32mfor\u001b[0m \u001b[0mi\u001b[0m \u001b[0;32min\u001b[0m \u001b[0mrange\u001b[0m\u001b[0;34m(\u001b[0m\u001b[0mnum_iter\u001b[0m\u001b[0;34m)\u001b[0m\u001b[0;34m:\u001b[0m\u001b[0;34m\u001b[0m\u001b[0m\n\u001b[1;32m     34\u001b[0m             \u001b[0;32mprint\u001b[0m \u001b[0;34m'Iteration '\u001b[0m \u001b[0;34m+\u001b[0m \u001b[0mstr\u001b[0m\u001b[0;34m(\u001b[0m\u001b[0mi\u001b[0m\u001b[0;34m)\u001b[0m\u001b[0;34m\u001b[0m\u001b[0m\n\u001b[0;32m---> 35\u001b[0;31m             \u001b[0mself\u001b[0m\u001b[0;34m.\u001b[0m\u001b[0mexpectation\u001b[0m\u001b[0;34m(\u001b[0m\u001b[0;34m)\u001b[0m\u001b[0;34m\u001b[0m\u001b[0m\n\u001b[0m\u001b[1;32m     36\u001b[0m             \u001b[0mself\u001b[0m\u001b[0;34m.\u001b[0m\u001b[0mmaximization\u001b[0m\u001b[0;34m(\u001b[0m\u001b[0;34m)\u001b[0m\u001b[0;34m\u001b[0m\u001b[0m\n\u001b[1;32m     37\u001b[0m \u001b[0;34m\u001b[0m\u001b[0m\n",
      "\u001b[0;32m<ipython-input-72-b169b8683095>\u001b[0m in \u001b[0;36mexpectation\u001b[0;34m(self)\u001b[0m\n\u001b[1;32m     55\u001b[0m             \u001b[0mE_2\u001b[0m \u001b[0;34m=\u001b[0m \u001b[0mself\u001b[0m\u001b[0;34m.\u001b[0m\u001b[0mD\u001b[0m\u001b[0;34m*\u001b[0m\u001b[0mnp\u001b[0m\u001b[0;34m.\u001b[0m\u001b[0mlog\u001b[0m\u001b[0;34m(\u001b[0m\u001b[0;36m2\u001b[0m\u001b[0;34m*\u001b[0m\u001b[0mnp\u001b[0m\u001b[0;34m.\u001b[0m\u001b[0mpi\u001b[0m\u001b[0;34m)\u001b[0m\u001b[0;34m\u001b[0m\u001b[0m\n\u001b[1;32m     56\u001b[0m             \u001b[0;32mfor\u001b[0m \u001b[0mn\u001b[0m \u001b[0;32min\u001b[0m \u001b[0mrange\u001b[0m\u001b[0;34m(\u001b[0m\u001b[0mself\u001b[0m\u001b[0;34m.\u001b[0m\u001b[0mN\u001b[0m\u001b[0;34m)\u001b[0m\u001b[0;34m:\u001b[0m\u001b[0;34m\u001b[0m\u001b[0m\n\u001b[0;32m---> 57\u001b[0;31m                 \u001b[0mE_ms\u001b[0m \u001b[0;34m=\u001b[0m \u001b[0mself\u001b[0m\u001b[0;34m.\u001b[0m\u001b[0mD\u001b[0m\u001b[0;34m/\u001b[0m\u001b[0mself\u001b[0m\u001b[0;34m.\u001b[0m\u001b[0mbetha\u001b[0m\u001b[0;34m[\u001b[0m\u001b[0mk\u001b[0m\u001b[0;34m]\u001b[0m \u001b[0;34m+\u001b[0m \u001b[0mself\u001b[0m\u001b[0;34m.\u001b[0m\u001b[0mv\u001b[0m\u001b[0;34m[\u001b[0m\u001b[0mk\u001b[0m\u001b[0;34m]\u001b[0m\u001b[0;34m*\u001b[0m\u001b[0mnp\u001b[0m\u001b[0;34m.\u001b[0m\u001b[0mdot\u001b[0m\u001b[0;34m(\u001b[0m\u001b[0mself\u001b[0m\u001b[0;34m.\u001b[0m\u001b[0mx\u001b[0m\u001b[0;34m[\u001b[0m\u001b[0mn\u001b[0m\u001b[0;34m]\u001b[0m \u001b[0;34m-\u001b[0m \u001b[0mself\u001b[0m\u001b[0;34m.\u001b[0m\u001b[0mmu\u001b[0m\u001b[0;34m[\u001b[0m\u001b[0mk\u001b[0m\u001b[0;34m]\u001b[0m\u001b[0;34m,\u001b[0m \u001b[0mnp\u001b[0m\u001b[0;34m.\u001b[0m\u001b[0mdot\u001b[0m\u001b[0;34m(\u001b[0m\u001b[0mself\u001b[0m\u001b[0;34m.\u001b[0m\u001b[0mW\u001b[0m\u001b[0;34m[\u001b[0m\u001b[0mk\u001b[0m\u001b[0;34m]\u001b[0m\u001b[0;34m,\u001b[0m                                                                                 \u001b[0mself\u001b[0m\u001b[0;34m.\u001b[0m\u001b[0mx\u001b[0m\u001b[0;34m[\u001b[0m\u001b[0mn\u001b[0m\u001b[0;34m]\u001b[0m \u001b[0;34m-\u001b[0m \u001b[0mself\u001b[0m\u001b[0;34m.\u001b[0m\u001b[0mmu\u001b[0m\u001b[0;34m[\u001b[0m\u001b[0mk\u001b[0m\u001b[0;34m]\u001b[0m\u001b[0;34m)\u001b[0m\u001b[0;34m)\u001b[0m\u001b[0;34m\u001b[0m\u001b[0m\n\u001b[0m\u001b[1;32m     58\u001b[0m                 \u001b[0mself\u001b[0m\u001b[0;34m.\u001b[0m\u001b[0mln_ro\u001b[0m\u001b[0;34m[\u001b[0m\u001b[0mn\u001b[0m\u001b[0;34m,\u001b[0m\u001b[0mk\u001b[0m\u001b[0;34m]\u001b[0m \u001b[0;34m=\u001b[0m \u001b[0mE_pi\u001b[0m \u001b[0;34m+\u001b[0m \u001b[0;36m0.5\u001b[0m\u001b[0;34m*\u001b[0m\u001b[0mE_s\u001b[0m \u001b[0;34m-\u001b[0m \u001b[0;36m0.5\u001b[0m\u001b[0;34m*\u001b[0m\u001b[0mE_2\u001b[0m \u001b[0;34m-\u001b[0m \u001b[0;36m0.5\u001b[0m\u001b[0;34m*\u001b[0m\u001b[0mE_ms\u001b[0m\u001b[0;34m\u001b[0m\u001b[0m\n\u001b[1;32m     59\u001b[0m \u001b[0;34m\u001b[0m\u001b[0m\n",
      "\u001b[0;31mKeyboardInterrupt\u001b[0m: "
     ]
    }
   ],
   "source": [
    "gmm.fit(data_train_poly,num_iter=30)"
   ]
  },
  {
   "cell_type": "code",
   "execution_count": null,
   "metadata": {},
   "outputs": [],
   "source": [
    "gmr = GMR(gmm, n_in=x_train_poly.shape[1],n_out=1)"
   ]
  },
  {
   "cell_type": "code",
   "execution_count": null,
   "metadata": {},
   "outputs": [],
   "source": [
    "pred_train = []\n",
    "cov_train = []\n",
    "true_val_train = []\n",
    "for i in range(data_train.shape[0]):\n",
    "    print i\n",
    "    y_pred, y_cov = gmr.predict(data_train[i,0:22])\n",
    "    pred_train.append(y_pred)\n",
    "    cov_train.append(y_cov)\n",
    "    true_val_train.append(data_train[i,22])\n",
    "    clear_output()"
   ]
  },
  {
   "cell_type": "code",
   "execution_count": 103,
   "metadata": {
    "scrolled": true
   },
   "outputs": [],
   "source": [
    "pred_test = []\n",
    "cov_test = []\n",
    "true_val_test = []\n",
    "for i in range(X_test.shape[0]):\n",
    "    print i\n",
    "    y_pred, y_cov = gmr.predict(x_test_poly[i])\n",
    "    pred_test.append(y_pred)\n",
    "    cov_test.append(y_cov)\n",
    "    true_val_test.append(Y_test[i])\n",
    "    clear_output()"
   ]
  },
  {
   "cell_type": "code",
   "execution_count": 104,
   "metadata": {},
   "outputs": [
    {
     "name": "stdout",
     "output_type": "stream",
     "text": [
      "(4449, 1)\n"
     ]
    }
   ],
   "source": [
    "pred_test = np.array(pred_test)\n",
    "print pred_test.shape"
   ]
  },
  {
   "cell_type": "markdown",
   "metadata": {},
   "source": [
    "#### Calculate Standard Mean Square Error (SMSE)"
   ]
  },
  {
   "cell_type": "code",
   "execution_count": null,
   "metadata": {},
   "outputs": [],
   "source": [
    "smse_train = mse(y_pred_train[:,:,0],y_train)/y_var"
   ]
  },
  {
   "cell_type": "code",
   "execution_count": 106,
   "metadata": {},
   "outputs": [
    {
     "name": "stdout",
     "output_type": "stream",
     "text": [
      "SMSE test is 0.052050898939286556\n"
     ]
    }
   ],
   "source": [
    "smse_test = mse(pred_test,Y_test)/y_var\n",
    "#print 'SMSE training is ' + str(smse_train_)\n",
    "print 'SMSE test is ' + str(smse_test)"
   ]
  },
  {
   "cell_type": "markdown",
   "metadata": {},
   "source": [
    "#### Calculate Mean Standard Log Loss (MSLL)"
   ]
  },
  {
   "cell_type": "code",
   "execution_count": 107,
   "metadata": {},
   "outputs": [],
   "source": [
    "train_mean = np.mean(y_train)\n",
    "train_var = np.var(y_train)"
   ]
  },
  {
   "cell_type": "code",
   "execution_count": 111,
   "metadata": {},
   "outputs": [
    {
     "name": "stdout",
     "output_type": "stream",
     "text": [
      "MSLL test is [[-1.4047]]\n"
     ]
    }
   ],
   "source": [
    "#msll_train_ = calc_MSLL(y_pred_train_[:,0,0], (y_cov_train_[:,0,0]), y_train, train_mean, train_var)\n",
    "msll_test = calc_MSLL(pred_test, cov_test, Y_test, train_mean, train_var)\n",
    "#print 'MSLL training is ' + str(msll_train_)\n",
    "print 'MSLL test is ' + str(msll_test)"
   ]
  }
 ],
 "metadata": {
  "kernelspec": {
   "display_name": "Python 2",
   "language": "python",
   "name": "python2"
  },
  "language_info": {
   "codemirror_mode": {
    "name": "ipython",
    "version": 2
   },
   "file_extension": ".py",
   "mimetype": "text/x-python",
   "name": "python",
   "nbconvert_exporter": "python",
   "pygments_lexer": "ipython2",
   "version": "2.7.12"
  }
 },
 "nbformat": 4,
 "nbformat_minor": 2
}
