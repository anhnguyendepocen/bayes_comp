{
 "cells": [
  {
   "cell_type": "code",
   "execution_count": 1,
   "metadata": {},
   "outputs": [],
   "source": [
    "import numpy as np"
   ]
  },
  {
   "cell_type": "code",
   "execution_count": 2,
   "metadata": {},
   "outputs": [],
   "source": [
    "from sklearn.mixture import VBGMM"
   ]
  },
  {
   "cell_type": "code",
   "execution_count": 21,
   "metadata": {},
   "outputs": [],
   "source": [
    "tetha = np.array([0.5,0.5,0.5])\n",
    "tethas = []\n",
    "for i in range(20):\n",
    "    new_tetha = np.random.rand()*np.array([0,1,-1]) + tetha\n",
    "    tethas.append(new_tetha[np.newaxis])\n",
    "\n",
    "#for i in range(20):\n",
    "#    new_tetha = np.random.rand()*np.array([1,0,-1]) + tetha\n",
    "#    tethas.append(new_tetha[np.newaxis])\n",
    "\n",
    "tethas = np.concatenate(tethas)"
   ]
  },
  {
   "cell_type": "code",
   "execution_count": 22,
   "metadata": {},
   "outputs": [],
   "source": [
    "s,v,d = np.linalg.svd(tethas)"
   ]
  },
  {
   "cell_type": "code",
   "execution_count": null,
   "metadata": {},
   "outputs": [],
   "source": []
  }
 ],
 "metadata": {
  "kernelspec": {
   "display_name": "Python 2",
   "language": "python",
   "name": "python2"
  },
  "language_info": {
   "codemirror_mode": {
    "name": "ipython",
    "version": 2
   },
   "file_extension": ".py",
   "mimetype": "text/x-python",
   "name": "python",
   "nbconvert_exporter": "python",
   "pygments_lexer": "ipython2",
   "version": "2.7.12"
  }
 },
 "nbformat": 4,
 "nbformat_minor": 2
}
