{
 "cells": [
  {
   "cell_type": "code",
   "execution_count": 3,
   "metadata": {},
   "outputs": [],
   "source": [
    "import numpy as np\n",
    "import matplotlib.pyplot as plt\n",
    "from scipy.special import gamma \n",
    "from numpy import dot\n",
    "np.set_printoptions(precision=5, suppress=True)"
   ]
  },
  {
   "cell_type": "code",
   "execution_count": 4,
   "metadata": {},
   "outputs": [],
   "source": [
    "def generate_lin_reg(theta, n, sigma = 0.1):\n",
    "    dof = theta.shape[0]\n",
    "    #generate X data\n",
    "    mean = np.zeros((dof))\n",
    "    cov = np.eye(dof)*10\n",
    "    X = np.random.multivariate_normal(mean,cov,size=n)\n",
    "    #calculate Y\n",
    "    Y = dot(X,theta) + np.random.multivariate_normal(np.zeros(n), sigma*np.eye(n)).reshape(n,1)\n",
    "    return X,Y"
   ]
  },
  {
   "cell_type": "code",
   "execution_count": 56,
   "metadata": {},
   "outputs": [],
   "source": [
    "def compute_posterior(X,Y, mu0=0, S=0.1, a=1, b=1):\n",
    "    #refine the parameters\n",
    "    dof = X.shape[1]\n",
    "    S = S*np.eye(dof)\n",
    "    mu0 = mu0*np.zeros((dof,1))\n",
    "    n = X.shape[0]\n",
    "    \n",
    "    #compute the posterior parameters\n",
    "    S_new = S + dot(X.T,X)\n",
    "    a_new = a + n/2.0\n",
    "    mu_new = dot(np.linalg.inv(S + dot(X.T,X)), (dot(S,mu0) + dot(X.T,Y)))\n",
    "    \n",
    "    diff = np.sum(np.array([Y[i] - dot(mu_new.T, X[i]) for i in range(n)])**2)\n",
    "    b_new = b + 0.5*dot((mu_new-mu0).T, dot(S,mu_new-mu0)) + 0.5*diff\n",
    "    #print b_new\n",
    "    #b_new = b + 0.5*dot((mu_new-mu0).T, dot(S,mu_new-mu0)) + 0.5*np.sum(dot((Y-dot(X,mu_new)).T,Y-dot(X,mu_new) ))\n",
    "    #print b_new\n",
    "    #b_new = b + 0.5*dot(mu0.T, dot(S,mu0)) -0.5*dot(mu_new.T, dot(S_new,mu_new)) + 0.5*dot(Y.T,Y) \n",
    "    #print b_new\n",
    "    C = (b**a)*gamma(a_new)*np.sqrt(np.linalg.det(S))/(((2*np.pi)**(n/2.0))*(b_new**a_new)*gamma(a)*np.sqrt(np.linalg.det(S_new)))\n",
    "    return mu_new, S_new, a_new, b_new, C"
   ]
  },
  {
   "cell_type": "markdown",
   "metadata": {},
   "source": [
    "### Try generating linear regression data"
   ]
  },
  {
   "cell_type": "code",
   "execution_count": 57,
   "metadata": {},
   "outputs": [],
   "source": [
    "theta = np.array([[3.09],[1.02],[3.1]])\n",
    "X,Y = generate_lin_reg(theta, 50, sigma = 0.1)\n",
    "mu,S, a, b, C =  compute_posterior(X,Y)\n",
    "#print mu, a, b, np.log(C[0][0])\n",
    "#print b\n"
   ]
  },
  {
   "cell_type": "markdown",
   "metadata": {},
   "source": [
    "### Defining non linear regression problems"
   ]
  },
  {
   "cell_type": "code",
   "execution_count": 58,
   "metadata": {},
   "outputs": [],
   "source": [
    "def generate_nonlin_reg(func, t, noise, sigma = 0.1):\n",
    "    #generate non-linear regression data based on the function func\n",
    "    n = t.shape[0]\n",
    "    y = func(t) + noise(np.zeros(n),sigma*np.eye(n))\n",
    "    return y\n",
    "\n",
    "def func(t):\n",
    "    #non linear function\n",
    "    return  9.12*(t**2) + 2.9*t + 2.3 + 30*np.sin(2*t)\n",
    "def poly_reg(t,y,d=2):\n",
    "    #polynomial regression on t and y\n",
    "    n = t.shape[0]\n",
    "    X = np.ones((n,d+1))\n",
    "    for i in range(1,d+1):\n",
    "        X[:,i] = t**i\n",
    "    Y = y.reshape(n,1)\n",
    "    mu, S, a, b, C = compute_posterior(X,Y, S = 0.1)\n",
    "    return mu, S, a, b, C, X\n"
   ]
  },
  {
   "cell_type": "markdown",
   "metadata": {},
   "source": [
    "### Model Selection"
   ]
  },
  {
   "cell_type": "code",
   "execution_count": 59,
   "metadata": {},
   "outputs": [],
   "source": [
    "def compute_prior(max_d=6, alpha=0.3):\n",
    "    p = np.zeros(max_d+1)\n",
    "    for i in range(max_d+1):\n",
    "        p[i] = alpha**i\n",
    "    p = p/np.sum(p)\n",
    "    return p\n",
    "\n",
    "def model_evaluate(t,y,prior):\n",
    "    prob = np.zeros(len(prior))\n",
    "    for d in range(len(prior)):\n",
    "        _,_,_,_,C,_ = poly_reg(t,y,d)\n",
    "        prob[d] = C*prior[d]\n",
    "    prob = prob/np.sum(prob)\n",
    "    return prob"
   ]
  },
  {
   "cell_type": "markdown",
   "metadata": {},
   "source": [
    "### Generate non linear regression data "
   ]
  },
  {
   "cell_type": "code",
   "execution_count": 60,
   "metadata": {
    "scrolled": true
   },
   "outputs": [
    {
     "data": {
      "text/plain": [
       "[<matplotlib.lines.Line2D at 0x7f323683c190>]"
      ]
     },
     "execution_count": 60,
     "metadata": {},
     "output_type": "execute_result"
    },
    {
     "data": {
      "image/png": "[encoded data removed]",
      "text/plain": [
       "<Figure size 432x288 with 1 Axes>"
      ]
     },
     "metadata": {},
     "output_type": "display_data"
    }
   ],
   "source": [
    "t = np.arange(-2, 2, 0.1)\n",
    "y = generate_nonlin_reg(func,t,np.random.multivariate_normal, 0.1)\n",
    "plt.plot(t,y,'*')"
   ]
  },
  {
   "cell_type": "markdown",
   "metadata": {},
   "source": [
    "### Evaluate the models"
   ]
  },
  {
   "cell_type": "code",
   "execution_count": 61,
   "metadata": {},
   "outputs": [
    {
     "name": "stdout",
     "output_type": "stream",
     "text": [
      "[0.      0.      0.      0.      0.      0.95874 0.03784 0.0032  0.00014\n",
      " 0.00007 0.     ]\n"
     ]
    }
   ],
   "source": [
    "print model_evaluate(t,y,compute_prior(10,0.9999))"
   ]
  },
  {
   "cell_type": "code",
   "execution_count": 62,
   "metadata": {},
   "outputs": [
    {
     "name": "stdout",
     "output_type": "stream",
     "text": [
      "[[0.]]\n",
      "[[  2.42279]\n",
      " [ 57.18594]\n",
      " [  8.93674]\n",
      " [-30.93826]\n",
      " [  0.06217]\n",
      " [  3.65135]]\n"
     ]
    },
    {
     "data": {
      "text/plain": [
       "[<matplotlib.lines.Line2D at 0x7f323683ca50>]"
      ]
     },
     "execution_count": 62,
     "metadata": {},
     "output_type": "execute_result"
    },
    {
     "data": {
      "image/png": "[encoded data removed]",
      "text/plain": [
       "<Figure size 432x288 with 1 Axes>"
      ]
     },
     "metadata": {},
     "output_type": "display_data"
    }
   ],
   "source": [
    "mu, S, a, b, C, X = poly_reg(t,y,5)\n",
    "print C\n",
    "print mu\n",
    "y_new = np.dot(X,mu)\n",
    "plt.plot(t,y,'*r')\n",
    "plt.plot(t,y_new,'*b')"
   ]
  },
  {
   "cell_type": "code",
   "execution_count": null,
   "metadata": {},
   "outputs": [],
   "source": []
  },
  {
   "cell_type": "code",
   "execution_count": null,
   "metadata": {},
   "outputs": [],
   "source": []
  }
 ],
 "metadata": {
  "kernelspec": {
   "display_name": "Python 2",
   "language": "python",
   "name": "python2"
  },
  "language_info": {
   "codemirror_mode": {
    "name": "ipython",
    "version": 2
   },
   "file_extension": ".py",
   "mimetype": "text/x-python",
   "name": "python",
   "nbconvert_exporter": "python",
   "pygments_lexer": "ipython2",
   "version": "2.7.12"
  }
 },
 "nbformat": 4,
 "nbformat_minor": 2
}
