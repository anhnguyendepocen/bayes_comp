{
 "cells": [
  {
   "cell_type": "code",
   "execution_count": 248,
   "metadata": {},
   "outputs": [],
   "source": [
    "import numpy as np\n",
    "import matplotlib.pyplot as plt\n",
    "%matplotlib inline"
   ]
  },
  {
   "cell_type": "markdown",
   "metadata": {},
   "source": [
    "### Simple Gradient Descent"
   ]
  },
  {
   "cell_type": "code",
   "execution_count": 249,
   "metadata": {},
   "outputs": [],
   "source": [
    "def grad_descent(func, grad, lamda, data, tetha, n):\n",
    "    tethas = [tetha]\n",
    "    func_values = [func(data,tetha)] \n",
    "    for i in range(n):\n",
    "        tetha = tetha - lamda*grad(data,tetha)\n",
    "        tethas.append(tetha)\n",
    "        func_values.append(func(data,tetha))\n",
    "    return tethas, func_values"
   ]
  },
  {
   "cell_type": "code",
   "execution_count": 357,
   "metadata": {},
   "outputs": [],
   "source": [
    "def LSgrad_descent(func, grad, lamda0, data, tetha, n, alpha = 0.5, betha = 0.8, gama = 0.5):\n",
    "    tethas = [tetha]\n",
    "    cur_func = func(data,tetha)\n",
    "    func_values = [cur_func] \n",
    "    cur_tetha = tetha\n",
    "    \n",
    "    for i in range(n):\n",
    "        lamda = lamda0\n",
    "        #line search\n",
    "        while(True):\n",
    "            cur_grad = grad(data,cur_tetha)\n",
    "            new_tetha = cur_tetha - lamda*cur_grad\n",
    "            new_func = func(data, new_tetha)\n",
    "            new_grad = grad(data,new_tetha)\n",
    "            \n",
    "            C1 = (new_func < cur_func - alpha*lamda*np.linalg.norm(cur_grad)**2)\n",
    "            C2 = np.dot(cur_grad, new_grad) < gama*np.dot(cur_grad,cur_grad)\n",
    "            \n",
    "            if C1 and C2:\n",
    "                break\n",
    "            elif C2:\n",
    "                lamda = betha*lamda\n",
    "            elif C1:\n",
    "                lamda = lamda/betha\n",
    "            else:\n",
    "                print 'Error in Gradient!'\n",
    "                return\n",
    "            '''\n",
    "            if C1:\n",
    "                break\n",
    "            else:\n",
    "                lamda = betha*lamda'''\n",
    "        #print lamda, C1, C2\n",
    "        tethas.append(new_tetha)\n",
    "        func_values.append(new_func)\n",
    "        cur_tetha = new_tetha\n",
    "        cur_func = new_func\n",
    "    return tethas, func_values"
   ]
  },
  {
   "cell_type": "code",
   "execution_count": 374,
   "metadata": {},
   "outputs": [],
   "source": [
    "def Newt_grad_descent(func, grad, hess, lamda0, data, tetha, n, alpha = 0.5, betha = 0.8, gama = 0.5):\n",
    "    tethas = [tetha]\n",
    "    cur_func = func(data,tetha)\n",
    "    func_values = [cur_func] \n",
    "    cur_tetha = tetha\n",
    "    \n",
    "    for i in range(n):\n",
    "        lamda = lamda0\n",
    "        #line search\n",
    "        while(True):\n",
    "            cur_grad = grad(data,cur_tetha)\n",
    "            cur_hess = hess(data,cur_tetha)\n",
    "            cur_grad_hess = np.dot(np.linalg.inv(cur_hess), cur_grad)\n",
    "            new_tetha = cur_tetha - lamda*cur_grad_hess\n",
    "            new_func = func(data, new_tetha)\n",
    "            new_grad = grad(data,new_tetha)\n",
    "            \n",
    "            C1 = (new_func <= cur_func - alpha*lamda*np.dot(cur_grad_hess, cur_grad))\n",
    "            C2 = np.dot(cur_grad_hess, new_grad) <= gama*np.dot(cur_grad_hess,cur_grad)\n",
    "            \n",
    "            if C1 and C2:\n",
    "                break\n",
    "            elif C2:\n",
    "                lamda = betha*lamda\n",
    "            elif C1:\n",
    "                lamda = lamda/betha\n",
    "            else:\n",
    "                print 'Error in Gradient!'\n",
    "                return\n",
    "            '''\n",
    "            if C1:\n",
    "                break\n",
    "            else:\n",
    "                lamda = betha*lamda'''\n",
    "        print lamda, C1, C2\n",
    "        tethas.append(new_tetha)\n",
    "        func_values.append(new_func)\n",
    "        cur_tetha = new_tetha\n",
    "        cur_func = new_func\n",
    "    return tethas, func_values"
   ]
  },
  {
   "cell_type": "markdown",
   "metadata": {},
   "source": [
    "### Stochastic Gradient Descent "
   ]
  },
  {
   "cell_type": "code",
   "execution_count": 379,
   "metadata": {},
   "outputs": [],
   "source": [
    "def SGD(func, grad, lamdas, data, tetha, n):\n",
    "    tethas = [tetha]\n",
    "    func_values = [func(data,tetha)] \n",
    "    for i in range(n):\n",
    "        tetha = tetha - lamdas[i]*grad(data,tetha)\n",
    "        tethas.append(tetha)\n",
    "        func_values.append(func(data,tetha))\n",
    "    return tethas, func_values"
   ]
  },
  {
   "cell_type": "markdown",
   "metadata": {},
   "source": [
    "### Quadratic Target"
   ]
  },
  {
   "cell_type": "code",
   "execution_count": 392,
   "metadata": {},
   "outputs": [],
   "source": [
    "def quad_func(data,tetha):\n",
    "    sigma = data['sigma']\n",
    "    func_val = np.dot(tetha.T, np.dot(sigma,tetha))\n",
    "    grad = 2*np.dot(sigma,tetha)\n",
    "    hess = 2*sigma\n",
    "    return func_val\n",
    "\n",
    "def quad_grad(data, tetha):\n",
    "    sigma = data['sigma']\n",
    "    grad = 2*np.dot(sigma,tetha)\n",
    "    return grad\n",
    "\n",
    "def quad_grad_noise(data, tetha):\n",
    "    sigma = data['sigma']\n",
    "    d = sigma.shape[0]\n",
    "    grad = 2*np.dot(sigma,tetha) + np.random.multivariate_normal(np.zeros(d), 100000*np.eye(d))\n",
    "    return grad\n",
    "\n",
    "\n",
    "def quad_hess(data, tetha):\n",
    "    sigma = data['sigma']\n",
    "    hess = 2*sigma\n",
    "    return hess"
   ]
  },
  {
   "cell_type": "code",
   "execution_count": 401,
   "metadata": {},
   "outputs": [
    {
     "name": "stdout",
     "output_type": "stream",
     "text": [
      "[1592.23943032 -721.50961223  186.56842047   46.64210512]\n",
      "[3.72403544e+00 4.29347782e-06 7.62186777e-01 1.90546694e-01]\n",
      "1 True True\n",
      "1 True True\n",
      "1 True True\n",
      "1 True True\n",
      "1 True True\n",
      "1 True True\n",
      "1 True True\n",
      "1 True True\n",
      "1 True True\n",
      "1 True True\n",
      "[0. 0. 0. 0.]\n",
      "[array([ 4000, -5000,  4000,  1000]), array([ -4000.,  15000., -20000.,  -5000.]), array([     0., -15000.,  40000.,  10000.]), array([     0.,   5000., -40000., -10000.]), array([    0.,     0., 20000.,  5000.]), array([    0.,     0., -4000., -1000.]), array([0., 0., 0., 0.]), array([0., 0., 0., 0.]), array([0., 0., 0., 0.]), array([0., 0., 0., 0.]), array([0., 0., 0., 0.])]\n"
     ]
    },
    {
     "data": {
      "image/png": "[encoded data removed]",
      "text/plain": [
       "<Figure size 432x288 with 1 Axes>"
      ]
     },
     "metadata": {},
     "output_type": "display_data"
    },
    {
     "data": {
      "image/png": "[encoded data removed]",
      "text/plain": [
       "<Figure size 432x288 with 1 Axes>"
      ]
     },
     "metadata": {},
     "output_type": "display_data"
    },
    {
     "data": {
      "image/png": "[encoded data removed]",
      "text/plain": [
       "<Figure size 432x288 with 1 Axes>"
      ]
     },
     "metadata": {},
     "output_type": "display_data"
    },
    {
     "data": {
      "image/png": "[encoded data removed]",
      "text/plain": [
       "<Figure size 432x288 with 1 Axes>"
      ]
     },
     "metadata": {},
     "output_type": "display_data"
    }
   ],
   "source": [
    "#Generate data\n",
    "sigma = np.diag([1,2,3,3])\n",
    "data = dict()\n",
    "data['sigma'] = sigma\n",
    "tetha_zero = np.array([4000,-5000,4000,1000]) \n",
    "\n",
    "n = 10\n",
    "\n",
    "\n",
    "tethas, vals = grad_descent(quad_func, quad_grad, 0.044, data, tetha_zero, n)\n",
    "plt.plot(tethas)\n",
    "print tethas[-1]\n",
    "\n",
    "tethas, vals = LSgrad_descent(quad_func, quad_grad, 10, data, tetha_zero, n, gama = 0.5)\n",
    "plt.figure()\n",
    "plt.plot(tethas)\n",
    "print tethas[-1]\n",
    "tethas, vals = Newt_grad_descent(quad_func, quad_grad, quad_hess, 1, data, tetha_zero, n, gama = 0.5)\n",
    "plt.figure()\n",
    "plt.plot(tethas)\n",
    "print tethas[-1]\n",
    "lamdas = [1.0/i for i in range(1,n+1)]\n",
    "tethas, vals = SGD(quad_func, quad_grad,  lamdas, data, tetha_zero, n)\n",
    "plt.figure()\n",
    "plt.plot(tethas)\n",
    "print tethas"
   ]
  },
  {
   "cell_type": "markdown",
   "metadata": {},
   "source": [
    "### Negative Log-likelihood "
   ]
  },
  {
   "cell_type": "code",
   "execution_count": 479,
   "metadata": {},
   "outputs": [],
   "source": [
    "def neg_log(data,tetha):\n",
    "    x = data['x']\n",
    "    y = data['y']\n",
    "    n = len(y)\n",
    "    func_val = 0\n",
    "    grad = 0\n",
    "    hess = 0\n",
    "    for i in range(n):\n",
    "        val =  np.exp(-1*y[i]*np.dot(x[i,:], tetha))\n",
    "        func_val += np.log(1+val)\n",
    "        grad += -1*val*y[i]*x[i,:]/(1+val)\n",
    "    return func_val/n\n",
    "\n",
    "def grad_neg_log(data,tetha):\n",
    "    x = data['x']\n",
    "    y = data['y']\n",
    "    n = len(y)\n",
    "    grad = 0\n",
    "    for i in range(n):\n",
    "        val =  np.exp(-1*y[i]*np.dot(x[i,:], tetha))\n",
    "        grad += -1*val*y[i]*x[i,:]/(1+val)\n",
    "    return grad/n\n",
    "\n",
    "def grad_neg_log_app(data,tetha):\n",
    "    x = data['x']\n",
    "    y = data['y']\n",
    "    s = data['s']\n",
    "    n = len(y)\n",
    "    grad = 0\n",
    "    for i in range(s):\n",
    "        index = np.random.randint(n)\n",
    "        val =  np.exp(-1*y[index]*np.dot(x[index,:], tetha))\n",
    "        grad += -1*val*y[index]*x[index,:]/(1+val)\n",
    "    return grad/s"
   ]
  },
  {
   "cell_type": "markdown",
   "metadata": {},
   "source": [
    "### Create data "
   ]
  },
  {
   "cell_type": "code",
   "execution_count": 419,
   "metadata": {},
   "outputs": [],
   "source": [
    "tetha_true = np.array([3, 5])\n",
    "d = len(tetha_true)\n",
    "x = np.random.multivariate_normal(np.zeros(d), 6*np.eye(d), size=200)\n",
    "y_true =  (np.dot(x,tetha_true) > 0)*1"
   ]
  },
  {
   "cell_type": "code",
   "execution_count": 430,
   "metadata": {},
   "outputs": [
    {
     "name": "stdout",
     "output_type": "stream",
     "text": [
      "0.38478660262936315\n",
      "[ 0.1867693  -0.74725033]\n",
      "[0. 0.]\n"
     ]
    }
   ],
   "source": [
    "data = dict()\n",
    "data['x'] = x\n",
    "data['y'] = y_true\n",
    "tetha_zero =  3*np.array([10,-10])\n",
    "print neg_log(data,tetha_true)\n",
    "print grad_neg_log(data,tetha_zero)\n",
    "print grad_neg_log_app(data,tetha_zero,s=10)"
   ]
  },
  {
   "cell_type": "code",
   "execution_count": 442,
   "metadata": {
    "scrolled": false
   },
   "outputs": [
    {
     "name": "stdout",
     "output_type": "stream",
     "text": [
      "0.3606993902840741\n",
      "0.36826278312779887\n"
     ]
    },
    {
     "data": {
      "image/png": "[encoded data removed]",
      "text/plain": [
       "<Figure size 432x288 with 1 Axes>"
      ]
     },
     "metadata": {},
     "output_type": "display_data"
    },
    {
     "data": {
      "image/png": "[encoded data removed]",
      "text/plain": [
       "<Figure size 432x288 with 1 Axes>"
      ]
     },
     "metadata": {},
     "output_type": "display_data"
    },
    {
     "data": {
      "image/png": "[encoded data removed]",
      "text/plain": [
       "<Figure size 432x288 with 1 Axes>"
      ]
     },
     "metadata": {},
     "output_type": "display_data"
    }
   ],
   "source": [
    "n = 100\n",
    "tethas, vals = grad_descent(neg_log, grad_neg_log, 0.05, data, tetha_zero, n)\n",
    "plt.plot(vals)\n",
    "plt.figure()\n",
    "tethas, vals = LSgrad_descent(neg_log, grad_neg_log, 2, data, tetha_zero, n,gama=0.9)\n",
    "plt.plot(vals)\n",
    "print vals[-1]\n",
    "plt.figure()\n",
    "lamdas = [1.0/i for i in range(1,n+1)]\n",
    "data['s'] = 30\n",
    "tethas, vals = SGD(neg_log, grad_neg_log_app, lamdas, data, tetha_zero, n)\n",
    "plt.plot(vals)\n",
    "print vals[-1]"
   ]
  },
  {
   "cell_type": "code",
   "execution_count": 854,
   "metadata": {},
   "outputs": [
    {
     "name": "stdout",
     "output_type": "stream",
     "text": [
      "[3 5]\n",
      "[30 50]\n",
      "[ 0.00426602 -0.00262976]\n",
      "6.462233424389654e-05\n"
     ]
    }
   ],
   "source": [
    "#Calculating the variance of gradient\n",
    "print tetha_true\n",
    "tetha_zero =  10*np.array([3,5])\n",
    "print tetha_zero\n",
    "grads = []\n",
    "true_grad = grad_neg_log(data,tetha_zero)\n",
    "print true_grad\n",
    "data['s'] = 10\n",
    "for i in range(100):\n",
    "    cur_grad = grad_neg_log_app(data,tetha_zero)\n",
    "    #print cur_grad\n",
    "    #grads.append(np.linalg.norm(cur_grad-true_grad))\n",
    "    grads.append(cur_grad)\n",
    "#print np.mean(grads)\n",
    "print np.var(grads)"
   ]
  },
  {
   "cell_type": "code",
   "execution_count": 462,
   "metadata": {},
   "outputs": [
    {
     "name": "stdout",
     "output_type": "stream",
     "text": [
      "[0.51449576 0.85749293]\n",
      "[0.47741375 0.87867862]\n"
     ]
    },
    {
     "data": {
      "text/plain": [
       "array([1.71602212, 1.89500024])"
      ]
     },
     "execution_count": 462,
     "metadata": {},
     "output_type": "execute_result"
    }
   ],
   "source": [
    "print tetha_true/np.linalg.norm(tetha_true)\n",
    "print tethas[-1]/np.linalg.norm(tethas[-1])\n",
    "\n",
    "tethas[-1]/tetha_true"
   ]
  },
  {
   "cell_type": "code",
   "execution_count": 463,
   "metadata": {},
   "outputs": [
    {
     "data": {
      "text/plain": [
       "[<matplotlib.lines.Line2D at 0x7fc5ce645bd0>]"
      ]
     },
     "execution_count": 463,
     "metadata": {},
     "output_type": "execute_result"
    },
    {
     "data": {
      "image/png": "[encoded data removed]",
      "text/plain": [
       "<Figure size 432x288 with 1 Axes>"
      ]
     },
     "metadata": {},
     "output_type": "display_data"
    }
   ],
   "source": [
    "plt.plot(y_true,'*')\n",
    "y_pred = 1*(np.dot(x,tethas[-1]) > 0)\n",
    "plt.plot(y_pred, '^')"
   ]
  },
  {
   "cell_type": "markdown",
   "metadata": {},
   "source": [
    "### Visualize the energy function"
   ]
  },
  {
   "cell_type": "code",
   "execution_count": 240,
   "metadata": {},
   "outputs": [
    {
     "name": "stdout",
     "output_type": "stream",
     "text": [
      "(10, 15)\n",
      "(10, 15)\n"
     ]
    }
   ],
   "source": [
    "from mpl_toolkits.mplot3d import Axes3D\n",
    "\n",
    "mus = np.arange(2, 4, 0.2)\n",
    "sigmas = np.arange(3, 6, 0.2)\n",
    "M = np.meshgrid(mus, sigmas, indexing='ij')\n",
    "print M[0].shape\n",
    "print M[1].shape"
   ]
  },
  {
   "cell_type": "code",
   "execution_count": 241,
   "metadata": {},
   "outputs": [],
   "source": [
    "grid = np.vstack([M[0].ravel(), M[1].ravel()]).T\n",
    "vals = []\n",
    "for g in grid:\n",
    "    val,_ = neg_log(data, g)\n",
    "    vals.append(val)"
   ]
  },
  {
   "cell_type": "code",
   "execution_count": 242,
   "metadata": {},
   "outputs": [
    {
     "name": "stdout",
     "output_type": "stream",
     "text": [
      "(10, 15)\n"
     ]
    }
   ],
   "source": [
    "vals = np.array([vals])\n",
    "vals = vals.reshape(M[0].shape)\n",
    "print vals.shape"
   ]
  },
  {
   "cell_type": "code",
   "execution_count": 244,
   "metadata": {},
   "outputs": [],
   "source": [
    "a = plt.pcolormesh(M[0], M[1], vals)\n",
    "#plt.clabel(a, inline=1, fontsize=10)\n",
    "plt.show()"
   ]
  },
  {
   "cell_type": "code",
   "execution_count": 218,
   "metadata": {},
   "outputs": [],
   "source": [
    "vals = vals.flatten()\n",
    "\n",
    "%matplotlib tk\n",
    "fig = plt.figure()\n",
    "ax = fig.add_subplot(111, projection='3d')\n",
    "ax.plot(grid[:,0], grid[:,1], vals, '*')\n",
    "plt.show()"
   ]
  },
  {
   "cell_type": "markdown",
   "metadata": {},
   "source": [
    "### Student Model "
   ]
  },
  {
   "cell_type": "code",
   "execution_count": 245,
   "metadata": {},
   "outputs": [],
   "source": [
    "def student_func(data, tetha):\n",
    "    x = data['x']\n",
    "    d = data['d']\n",
    "    mu = tetha[0]\n",
    "    sigma = tetha[1]\n",
    "    n = len(x)\n",
    "    val = 0\n",
    "    for i in range(n):\n",
    "        C = ((x[i]-mu)**2)/(d*(sigma**2))\n",
    "        val += np.log(sigma) + 0.5*(d+1)*np.log(1 + C)\n",
    "    return val\n",
    "                            \n",
    "def student_grad(data, tetha):\n",
    "    x = data['x']\n",
    "    d = data['d']\n",
    "    mu = tetha[0]\n",
    "    sigma = tetha[1]\n",
    "    n = len(x)\n",
    "    grad = np.zeros(2)\n",
    "    for i in range(n):\n",
    "        C = ((x[i]-mu)**2)/(d*(sigma**2))\n",
    "        grad[0] += (d+1)*(mu-x[i])/((1+C)*d*(sigma)**2)  #sigma\n",
    "        grad[1] += (1.0/sigma)*(1 - C*(d+1)/(1+C))\n",
    "    return grad     \n",
    "\n"
   ]
  },
  {
   "cell_type": "markdown",
   "metadata": {},
   "source": [
    "### Generate Data "
   ]
  },
  {
   "cell_type": "code",
   "execution_count": 347,
   "metadata": {},
   "outputs": [],
   "source": [
    "from numpy.random import standard_t\n",
    "def generate_t(mu, sigma, d, n):\n",
    "    return mu + sigma*standard_t(d, size=n)"
   ]
  },
  {
   "cell_type": "code",
   "execution_count": 348,
   "metadata": {},
   "outputs": [
    {
     "name": "stdout",
     "output_type": "stream",
     "text": [
      "(500,)\n"
     ]
    }
   ],
   "source": [
    "d = 400\n",
    "x1 = generate_t(1,2,d, 250)\n",
    "x2 = generate_t(9,2,d, 250)\n",
    "x = np.concatenate([x1,x2])\n",
    "print x.shape"
   ]
  },
  {
   "cell_type": "code",
   "execution_count": 350,
   "metadata": {
    "scrolled": false
   },
   "outputs": [
    {
     "name": "stdout",
     "output_type": "stream",
     "text": [
      "0.0381469726562 True True\n",
      "0.01953125 True True\n",
      "0.015625 True True\n",
      "0.0125 True True\n",
      "0.0125 True True\n",
      "0.0125 True True\n",
      "0.0125 True True\n",
      "0.015625 True True\n",
      "0.015625 True True\n",
      "0.015625 True True\n",
      "0.015625 True True\n",
      "0.015625 True True\n",
      "0.015625 True True\n",
      "0.015625 True True\n",
      "0.015625 True True\n",
      "0.015625 True True\n",
      "0.015625 True True\n",
      "0.015625 True True\n",
      "0.015625 True True\n",
      "0.015625 True True\n"
     ]
    },
    {
     "data": {
      "text/plain": [
       "[<matplotlib.lines.Line2D at 0x7fc5ce770050>]"
      ]
     },
     "execution_count": 350,
     "metadata": {},
     "output_type": "execute_result"
    },
    {
     "data": {
      "image/png": "[encoded data removed]",
      "text/plain": [
       "<Figure size 432x288 with 1 Axes>"
      ]
     },
     "metadata": {},
     "output_type": "display_data"
    },
    {
     "data": {
      "image/png": "[encoded data removed]",
      "text/plain": [
       "<Figure size 432x288 with 1 Axes>"
      ]
     },
     "metadata": {},
     "output_type": "display_data"
    },
    {
     "data": {
      "image/png": "[encoded data removed]",
      "text/plain": [
       "<Figure size 432x288 with 1 Axes>"
      ]
     },
     "metadata": {},
     "output_type": "display_data"
    }
   ],
   "source": [
    "plt.hist(x,bins=100)\n",
    "data = dict()\n",
    "data['x'] = x\n",
    "data['d'] = d\n",
    "mu_zero = np.array([3.2, 6.5])\n",
    "tethas, vals =  grad_descent(student_func,student_grad, 0.01,data, mu_zero, 20 )\n",
    "plt.figure()\n",
    "plt.plot(vals)\n",
    "tethas, vals =  LSgrad_descent(student_func,student_grad, 0.01,data, mu_zero, 20,gama=0.7)\n",
    "plt.figure()\n",
    "plt.plot(vals)"
   ]
  },
  {
   "cell_type": "markdown",
   "metadata": {},
   "source": [
    "### Visualize the energy function"
   ]
  },
  {
   "cell_type": "code",
   "execution_count": 101,
   "metadata": {},
   "outputs": [],
   "source": [
    "from mpl_toolkits.mplot3d import Axes3D\n",
    "\n",
    "mus = np.arange(-10, 10, 0.2)\n",
    "sigmas = np.arange(1, 10, 0.2)\n",
    "M = np.meshgrid(mus, sigmas, indexing='ij')\n",
    "grid = np.vstack([M[0].ravel(), M[1].ravel()]).T\n",
    "vals = []\n",
    "for g in grid:\n",
    "    val = student_func(data, g)\n",
    "    vals.append(val)"
   ]
  },
  {
   "cell_type": "code",
   "execution_count": 102,
   "metadata": {},
   "outputs": [],
   "source": [
    "vals = np.array([vals])"
   ]
  },
  {
   "cell_type": "code",
   "execution_count": 103,
   "metadata": {},
   "outputs": [],
   "source": [
    "vals = vals.flatten()\n"
   ]
  },
  {
   "cell_type": "code",
   "execution_count": 104,
   "metadata": {},
   "outputs": [],
   "source": [
    "fig = plt.figure()\n",
    "ax = fig.add_subplot(111, projection='3d')\n",
    "ax.plot(grid[:,0], grid[:,1], vals, '*')\n",
    "plt.show()\n"
   ]
  },
  {
   "cell_type": "code",
   "execution_count": null,
   "metadata": {},
   "outputs": [],
   "source": []
  }
 ],
 "metadata": {
  "kernelspec": {
   "display_name": "Python 2",
   "language": "python",
   "name": "python2"
  },
  "language_info": {
   "codemirror_mode": {
    "name": "ipython",
    "version": 2
   },
   "file_extension": ".py",
   "mimetype": "text/x-python",
   "name": "python",
   "nbconvert_exporter": "python",
   "pygments_lexer": "ipython2",
   "version": "2.7.12"
  }
 },
 "nbformat": 4,
 "nbformat_minor": 2
}
