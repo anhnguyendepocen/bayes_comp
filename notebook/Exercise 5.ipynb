{
 "cells": [
  {
   "cell_type": "code",
   "execution_count": 1,
   "metadata": {},
   "outputs": [],
   "source": [
    "import numpy as np\n",
    "import matplotlib.pyplot as plt"
   ]
  },
  {
   "cell_type": "code",
   "execution_count": 11,
   "metadata": {},
   "outputs": [],
   "source": [
    "from scipy.stats import norm\n",
    "from numpy.random import rand"
   ]
  },
  {
   "cell_type": "code",
   "execution_count": 5,
   "metadata": {},
   "outputs": [
    {
     "data": {
      "text/plain": [
       "[<matplotlib.lines.Line2D at 0x7f7e77e96910>]"
      ]
     },
     "execution_count": 5,
     "metadata": {},
     "output_type": "execute_result"
    },
    {
     "data": {
      "image/png": "[encoded data removed]",
      "text/plain": [
       "<Figure size 432x288 with 1 Axes>"
      ]
     },
     "metadata": {},
     "output_type": "display_data"
    }
   ],
   "source": [
    "x = np.arange(-5,5,0.1)\n",
    "y = norm.pdf(x, 0, 1)\n",
    "plt.plot(x,y)"
   ]
  },
  {
   "cell_type": "code",
   "execution_count": 93,
   "metadata": {},
   "outputs": [],
   "source": [
    "def RS(mu_target, sigma_target, mu_model, sigma_model, n = 100):\n",
    "        K = 1.0/(np.sqrt(2*np.pi)*sigma_target*norm.pdf(mu_model, mu_target, sigma_target))\n",
    "        print K\n",
    "        #generate samples from the model\n",
    "        samples = np.random.normal(mu_model, sigma_model, n)\n",
    "        #determine whether to reject or not\n",
    "        accepted_sample = []\n",
    "        for sample in samples:\n",
    "            model_h = norm.pdf(sample, loc=mu_model, scale=sigma_model)\n",
    "            target_h = norm.pdf(sample, loc=mu_target, scale=sigma_target)\n",
    "            h = np.random.rand()*model_h*K\n",
    "            if h <= target_h:\n",
    "                accepted_sample.append(sample)\n",
    "                \n",
    "        return samples, accepted_sample"
   ]
  },
  {
   "cell_type": "code",
   "execution_count": 98,
   "metadata": {},
   "outputs": [],
   "source": [
    "def IS(mu_target, sigma_target, mu_model, sigma_model, n = 100):\n",
    "        #generate samples from the model\n",
    "        samples = np.random.normal(mu_model, sigma_model, n)\n",
    "        #determine whether to reject or not\n",
    "        weights = []\n",
    "        for sample in samples:\n",
    "            model_h = norm.pdf(sample, loc=mu_model, scale=sigma_model)\n",
    "            target_h = norm.pdf(sample, loc=mu_target, scale=sigma_target)\n",
    "            weights.append(target_h/model_h)\n",
    "        return samples, np.array(weights)"
   ]
  },
  {
   "cell_type": "code",
   "execution_count": 158,
   "metadata": {},
   "outputs": [
    {
     "name": "stdout",
     "output_type": "stream",
     "text": [
      "2980.9579870417283\n",
      "nan\n",
      "nan\n"
     ]
    }
   ],
   "source": [
    "samples, accepted_samples = RS(0, 2, 8, 1, 3000)\n",
    "print np.mean(accepted_samples)\n",
    "print np.std(accepted_samples)"
   ]
  },
  {
   "cell_type": "code",
   "execution_count": 92,
   "metadata": {},
   "outputs": [
    {
     "name": "stdout",
     "output_type": "stream",
     "text": [
      "22.759895093526726\n",
      "-0.057824492570064744\n",
      "1.9572725443355783\n"
     ]
    }
   ],
   "source": [
    "plt.hist(samples,bins =30)\n",
    "\n",
    "plt.hist(accepted_samples,bins =30)"
   ]
  },
  {
   "cell_type": "code",
   "execution_count": 162,
   "metadata": {},
   "outputs": [
    {
     "data": {
      "text/plain": [
       "(array([ 12.,  37., 148., 215., 261., 198.,  92.,  30.,   4.,   3.]),\n",
       " array([3.12691239, 3.3264262 , 3.52594   , 3.72545381, 3.92496762,\n",
       "        4.12448142, 4.32399523, 4.52350903, 4.72302284, 4.92253665,\n",
       "        5.12205045]),\n",
       " <a list of 10 Patch objects>)"
      ]
     },
     "execution_count": 162,
     "metadata": {},
     "output_type": "execute_result"
    },
    {
     "data": {
      "image/png": "[encoded data removed]",
      "text/plain": [
       "<Figure size 432x288 with 1 Axes>"
      ]
     },
     "metadata": {},
     "output_type": "display_data"
    }
   ],
   "source": [
    "samples1 = np.random.normal(-2,3,1000)\n",
    "samples2 = np.random.normal(4,0.3,1000)\n",
    "plt.hist(samples1)\n",
    "plt.hist(samples2)"
   ]
  },
  {
   "cell_type": "code",
   "execution_count": 163,
   "metadata": {},
   "outputs": [],
   "source": [
    "samples, weights = IS(-2,3,4,0.3,3000)"
   ]
  },
  {
   "cell_type": "code",
   "execution_count": 159,
   "metadata": {},
   "outputs": [
    {
     "data": {
      "text/plain": [
       "(array([  1.,   1.,   0.,   4.,   2.,   5.,   1.,   2.,   1.,   1.,   3.,\n",
       "          4.,   1.,   8.,  10.,   5.,   6.,   8.,   9.,  16.,  12.,  22.,\n",
       "         18.,  22.,  11.,  26.,  24.,  27.,  34.,  38.,  37.,  36.,  46.,\n",
       "         57.,  62.,  48.,  59.,  67.,  84.,  72.,  60.,  78.,  76.,  78.,\n",
       "         75.,  80.,  80., 100.,  75.,  89.,  78.,  65.,  79.,  70.,  63.,\n",
       "         65.,  70.,  74.,  51.,  55.,  51.,  53.,  59.,  51.,  49.,  38.,\n",
       "         42.,  33.,  31.,  35.,  32.,  34.,  25.,  17.,  14.,  12.,  11.,\n",
       "          9.,   5.,   6.,  10.,   8.,   3.,   3.,   1.,   3.,   2.,   2.,\n",
       "          1.,   2.,   1.,   0.,   1.,   0.,   1.,   3.,   0.,   0.,   0.,\n",
       "          1.]),\n",
       " array([ 4.71502099,  4.78269333,  4.85036567,  4.91803801,  4.98571035,\n",
       "         5.05338269,  5.12105504,  5.18872738,  5.25639972,  5.32407206,\n",
       "         5.3917444 ,  5.45941674,  5.52708909,  5.59476143,  5.66243377,\n",
       "         5.73010611,  5.79777845,  5.8654508 ,  5.93312314,  6.00079548,\n",
       "         6.06846782,  6.13614016,  6.2038125 ,  6.27148485,  6.33915719,\n",
       "         6.40682953,  6.47450187,  6.54217421,  6.60984656,  6.6775189 ,\n",
       "         6.74519124,  6.81286358,  6.88053592,  6.94820826,  7.01588061,\n",
       "         7.08355295,  7.15122529,  7.21889763,  7.28656997,  7.35424232,\n",
       "         7.42191466,  7.489587  ,  7.55725934,  7.62493168,  7.69260402,\n",
       "         7.76027637,  7.82794871,  7.89562105,  7.96329339,  8.03096573,\n",
       "         8.09863807,  8.16631042,  8.23398276,  8.3016551 ,  8.36932744,\n",
       "         8.43699978,  8.50467213,  8.57234447,  8.64001681,  8.70768915,\n",
       "         8.77536149,  8.84303383,  8.91070618,  8.97837852,  9.04605086,\n",
       "         9.1137232 ,  9.18139554,  9.24906789,  9.31674023,  9.38441257,\n",
       "         9.45208491,  9.51975725,  9.58742959,  9.65510194,  9.72277428,\n",
       "         9.79044662,  9.85811896,  9.9257913 ,  9.99346365, 10.06113599,\n",
       "        10.12880833, 10.19648067, 10.26415301, 10.33182535, 10.3994977 ,\n",
       "        10.46717004, 10.53484238, 10.60251472, 10.67018706, 10.7378594 ,\n",
       "        10.80553175, 10.87320409, 10.94087643, 11.00854877, 11.07622111,\n",
       "        11.14389346, 11.2115658 , 11.27923814, 11.34691048, 11.41458282,\n",
       "        11.48225516]),\n",
       " <a list of 100 Patch objects>)"
      ]
     },
     "execution_count": 159,
     "metadata": {},
     "output_type": "execute_result"
    },
    {
     "data": {
      "image/png": "[encoded data removed]",
      "text/plain": [
       "<Figure size 432x288 with 1 Axes>"
      ]
     },
     "metadata": {},
     "output_type": "display_data"
    }
   ],
   "source": [
    "plt.hist(samples, bins=100)"
   ]
  },
  {
   "cell_type": "code",
   "execution_count": 164,
   "metadata": {},
   "outputs": [
    {
     "name": "stdout",
     "output_type": "stream",
     "text": [
      "0.40940113563605335 1.0608023912560103\n"
     ]
    }
   ],
   "source": [
    "mu_mean = np.sum(samples*weights)/len(samples)\n",
    "mu_mean_square = np.sum(samples*samples*weights)/len(samples)\n",
    "var = mu_mean_square - mu_mean**2\n",
    "std = np.sqrt(var)\n",
    "\n",
    "print mu_mean,std"
   ]
  },
  {
   "cell_type": "code",
   "execution_count": null,
   "metadata": {},
   "outputs": [],
   "source": []
  }
 ],
 "metadata": {
  "kernelspec": {
   "display_name": "Python 2",
   "language": "python",
   "name": "python2"
  },
  "language_info": {
   "codemirror_mode": {
    "name": "ipython",
    "version": 2
   },
   "file_extension": ".py",
   "mimetype": "text/x-python",
   "name": "python",
   "nbconvert_exporter": "python",
   "pygments_lexer": "ipython2",
   "version": "2.7.12"
  }
 },
 "nbformat": 4,
 "nbformat_minor": 2
}
