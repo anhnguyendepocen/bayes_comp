{
 "cells": [
  {
   "cell_type": "code",
   "execution_count": 66,
   "metadata": {},
   "outputs": [],
   "source": [
    "import numpy as np\n",
    "import matplotlib.pyplot as plt\n",
    "from scipy.stats import multivariate_normal as mvn"
   ]
  },
  {
   "cell_type": "markdown",
   "metadata": {},
   "source": [
    "### Plot Gaussian"
   ]
  },
  {
   "cell_type": "code",
   "execution_count": 301,
   "metadata": {},
   "outputs": [],
   "source": [
    "from matplotlib.patches import Ellipse    \n",
    "        \n",
    "def plot_gaussian(mus, sigmas, weights = None):\n",
    "    K = len(mus)\n",
    "    if weights is None:\n",
    "        weights = np.ones(K)/K\n",
    "    fig, ax = plt.subplots()\n",
    "    \n",
    "    for k in range(len(mus)):\n",
    "        sigma = sigmas[k]\n",
    "        val,vec = np.linalg.eig(sigma)\n",
    "        angle = np.arctan2(vec[0,1], vec[0,0])\n",
    "        ells = Ellipse(xy=mus[k],\n",
    "                width=3.*np.sqrt(val[0]), height=3.*np.sqrt(val[1]),\n",
    "                angle=np.rad2deg(angle))\n",
    "        ells.set_clip_box(a.bbox)\n",
    "        ells.set_alpha(weights[k])\n",
    "        ax.add_artist(ells)\n",
    "    plt.xlim(-10, 10)\n",
    "    plt.ylim(-10, 10)\n",
    "    return"
   ]
  },
  {
   "cell_type": "markdown",
   "metadata": {},
   "source": [
    "### Generate Data"
   ]
  },
  {
   "cell_type": "code",
   "execution_count": 313,
   "metadata": {},
   "outputs": [
    {
     "data": {
      "text/plain": [
       "[<matplotlib.lines.Line2D at 0x7fd54ac10c10>]"
      ]
     },
     "execution_count": 313,
     "metadata": {},
     "output_type": "execute_result"
    },
    {
     "data": {
      "image/png": "[encoded data removed]",
      "text/plain": [
       "<Figure size 432x288 with 1 Axes>"
      ]
     },
     "metadata": {
      "needs_background": "light"
     },
     "output_type": "display_data"
    }
   ],
   "source": [
    "D = 2\n",
    "mu1 = np.array([3., -4.])\n",
    "sigma1 = np.diag([1., 5.])\n",
    "\n",
    "mu2 = np.array([-3., -3.])\n",
    "sigma2 = np.diag([4., 1.])\n",
    "\n",
    "N = 100\n",
    "\n",
    "sample1 = np.random.multivariate_normal(mu1, cov = sigma1, size = N/2)\n",
    "sample2 = np.random.multivariate_normal(mu2, cov = sigma2, size = N/2)\n",
    "samples = np.vstack([sample1, sample2])\n",
    "plot_gaussian([mu1,mu2],[sigma1,sigma2])\n",
    "plt.plot(sample1[:,0],sample1[:,1],'*')\n",
    "plt.plot(sample2[:,0],sample2[:,1],'*')\n"
   ]
  },
  {
   "cell_type": "code",
   "execution_count": 314,
   "metadata": {},
   "outputs": [
    {
     "data": {
      "text/plain": [
       "(100, 2)"
      ]
     },
     "execution_count": 314,
     "metadata": {},
     "output_type": "execute_result"
    }
   ],
   "source": [
    "samples.shape"
   ]
  },
  {
   "cell_type": "markdown",
   "metadata": {},
   "source": [
    "### Gaussian Mixture Model"
   ]
  },
  {
   "cell_type": "code",
   "execution_count": 315,
   "metadata": {},
   "outputs": [],
   "source": [
    "import time"
   ]
  },
  {
   "cell_type": "code",
   "execution_count": 319,
   "metadata": {},
   "outputs": [],
   "source": [
    "K = 3\n",
    "pis = np.ones(K)/K\n",
    "mus = np.random.rand(K,D)\n",
    "sigmas = np.array([np.eye(D) for i in range(K)])\n",
    "zs = np.zeros((N,K))"
   ]
  },
  {
   "cell_type": "code",
   "execution_count": 320,
   "metadata": {
    "scrolled": true
   },
   "outputs": [
    {
     "name": "stdout",
     "output_type": "stream",
     "text": [
      "[[-3.4927687  -2.99636213]\n",
      " [-2.14655485 -3.20848155]\n",
      " [ 3.04003302 -3.89524721]]\n"
     ]
    },
    {
     "data": {
      "image/png": "[encoded data removed]",
      "text/plain": [
       "<Figure size 432x288 with 1 Axes>"
      ]
     },
     "metadata": {
      "needs_background": "light"
     },
     "output_type": "display_data"
    }
   ],
   "source": [
    "from IPython.display import clear_output\n",
    "for j in range(20):    \n",
    "    ###  E-Step\n",
    "    for i in range(N):\n",
    "        for k in range(K):\n",
    "            zs[i,k] = pis[k]*mvn.pdf(samples[i,:],mus[k], sigmas[k])\n",
    "\n",
    "        zs[i,:] = zs[i,:]/np.sum(zs[i,:])\n",
    "    Ns = np.sum(zs,axis=0)\n",
    "\n",
    "    ### M-Step\n",
    "    for k in range(K):\n",
    "        mus[k,:] = np.dot(zs[:,k].T, samples)/Ns[k]\n",
    "        sigma_k = np.zeros((D,D))\n",
    "        for i in range(N):\n",
    "            sigma_k += zs[i,k]*np.outer(samples[i,:]-mus[k,:], samples[i,:].T-mus[k,:].T)\n",
    "        sigma_k /= Ns[k]\n",
    "        sigmas[k,:] = sigma_k\n",
    "        pis[k] = Ns[k]/N \n",
    "    print mus\n",
    "    \n",
    "    plot_gaussian(mus,sigmas,pis)\n",
    "    plt.plot(sample1[:,0],sample1[:,1],'r*',zorder = 0)\n",
    "    plt.plot(sample2[:,0],sample2[:,1],'y*',zorder = 0)\n",
    "    plt.show()\n",
    "    #raw_input()\n",
    "    clear_output(wait=True)\n",
    "    \n",
    "    time.sleep(0.1)\n"
   ]
  },
  {
   "cell_type": "markdown",
   "metadata": {},
   "source": [
    "### Bayesian Gaussian Mixture "
   ]
  },
  {
   "cell_type": "code",
   "execution_count": 287,
   "metadata": {},
   "outputs": [],
   "source": [
    "from sklearn.mixture import BayesianGaussianMixture"
   ]
  },
  {
   "cell_type": "code",
   "execution_count": 322,
   "metadata": {},
   "outputs": [
    {
     "data": {
      "text/plain": [
       "[<matplotlib.lines.Line2D at 0x7fd54acb2c10>]"
      ]
     },
     "execution_count": 322,
     "metadata": {},
     "output_type": "execute_result"
    },
    {
     "data": {
      "image/png": "[encoded data removed]",
      "text/plain": [
       "<Figure size 432x288 with 1 Axes>"
      ]
     },
     "metadata": {
      "needs_background": "light"
     },
     "output_type": "display_data"
    }
   ],
   "source": [
    "bgmm = BayesianGaussianMixture(n_components=4, n_init=5)\n",
    "bgmm.fit(samples)\n",
    "plot_gaussian(bgmm.means_, bgmm.covariances_, bgmm.weights_)\n",
    "plt.plot(sample1[:,0],sample1[:,1],'r*',zorder = 0)\n",
    "plt.plot(sample2[:,0],sample2[:,1],'y*',zorder = 0)"
   ]
  },
  {
   "cell_type": "markdown",
   "metadata": {},
   "source": [
    "### Implement different techniques: MCMC sampling, Laplace Approximations, and Gaussian Variational Approximations "
   ]
  },
  {
   "cell_type": "markdown",
   "metadata": {},
   "source": [
    "#### MCMC sampling "
   ]
  },
  {
   "cell_type": "code",
   "execution_count": null,
   "metadata": {},
   "outputs": [],
   "source": []
  }
 ],
 "metadata": {
  "kernelspec": {
   "display_name": "Python 2",
   "language": "python",
   "name": "python2"
  },
  "language_info": {
   "codemirror_mode": {
    "name": "ipython",
    "version": 2
   },
   "file_extension": ".py",
   "mimetype": "text/x-python",
   "name": "python",
   "nbconvert_exporter": "python",
   "pygments_lexer": "ipython2",
   "version": "2.7.12"
  }
 },
 "nbformat": 4,
 "nbformat_minor": 2
}
