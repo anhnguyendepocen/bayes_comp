{
 "cells": [
  {
   "cell_type": "code",
   "execution_count": null,
   "metadata": {},
   "outputs": [],
   "source": [
    "import numpy as np\n",
    "import matplotlib.pyplot as plt\n",
    "np.set_printoptions(precision=4, suppress=True)\n",
    "import time\n",
    "from pbdlib import plot_gmm\n",
    "from scipy.special import digamma\n",
    "from scipy.special import logsumexp\n",
    "from scipy.stats import multivariate_normal as mvn\n",
    "from scipy.stats import t\n",
    "from scipy.special import loggamma\n",
    "from sklearn.metrics import mean_squared_error as mse\n",
    "from IPython.display import clear_output"
   ]
  },
  {
   "cell_type": "code",
   "execution_count": 169,
   "metadata": {},
   "outputs": [],
   "source": [
    "sess = tf.InteractiveSession()"
   ]
  },
  {
   "cell_type": "code",
   "execution_count": 2,
   "metadata": {},
   "outputs": [],
   "source": [
    "from math import *\n",
    "\n",
    "def t_logpdf(x,df,mu,Sigma):\n",
    "    '''\n",
    "    Multivariate t-student density:\n",
    "    output:\n",
    "        the density of the given element\n",
    "    input:\n",
    "        x = parameter (d dimensional numpy array or scalar)\n",
    "        mu = mean (d dimensional numpy array or scalar)\n",
    "        Sigma = scale matrix (dxd numpy array)\n",
    "        df = degrees of freedom\n",
    "        d: dimension\n",
    "    '''\n",
    "    d = x.shape[0]\n",
    "    Num = loggamma(1. * (d+df)/2)\n",
    "    Denom =  loggamma(1.*df/2) + 0.5*d*np.log(df*pi)   + 0.5*np.log(np.linalg.det(Sigma)) + \\\n",
    "            (0.5*(d+df))*np.log(1 + (1./df)*np.dot(np.dot((x - mu),np.linalg.inv(Sigma)), (x - mu)))\n",
    "    d = Num - Denom  \n",
    "    return d"
   ]
  },
  {
   "cell_type": "code",
   "execution_count": 3,
   "metadata": {},
   "outputs": [],
   "source": [
    "def calc_MSLL(y_pred, y_cov, y_true, train_mean, train_var): #calculate Mean Standardized Log Loss\n",
    "    n = y_pred.shape[0]\n",
    "    MSLL = 0\n",
    "    for i in range(n):\n",
    "        SLL_trivial = 0.5*np.log(2*np.pi*train_var) + ((train_mean-y_true[i])**2)/(2*train_var)\n",
    "        MSLL += 0.5*np.log(2*np.pi*y_cov[i]) + ((y_pred[i]-y_true[i])**2)/(2*y_cov[0]) - SLL_trivial\n",
    "    MSLL /= n\n",
    "    return MSLL"
   ]
  },
  {
   "cell_type": "code",
   "execution_count": 4,
   "metadata": {},
   "outputs": [],
   "source": [
    "def log_normalize(x):\n",
    "    return x - logsumexp(x)"
   ]
  },
  {
   "cell_type": "code",
   "execution_count": 5,
   "metadata": {},
   "outputs": [],
   "source": [
    "def filter_gaussian(means_, covariances_, weights_, threshold = 0.01):\n",
    "    means = [] \n",
    "    covs = []\n",
    "    for i,w in enumerate(weights_):\n",
    "        if w > threshold:\n",
    "            means.append(means_[i])\n",
    "            covs.append(covariances_[i])\n",
    "    \n",
    "    means = np.array(means)\n",
    "    covs = np.array(covs)\n",
    "    return means,covs"
   ]
  },
  {
   "cell_type": "markdown",
   "metadata": {},
   "source": [
    "### Define class for GMM and GMR"
   ]
  },
  {
   "cell_type": "code",
   "execution_count": 73,
   "metadata": {},
   "outputs": [],
   "source": [
    "from sklearn.cluster import KMeans\n",
    "class GMM():\n",
    "    def __init__(self, n_comp = 10, D = 1, K = 2, weight_concentration = 0.1):\n",
    "        self.n_comp = n_comp\n",
    "        self.D = D\n",
    "        self.K = K\n",
    "\n",
    "        #pi params\n",
    "        self.alpha0 = np.ones(K)*weight_concentration\n",
    "        self.alpha = np.copy(self.alpha0)\n",
    "\n",
    "        #mu and sigma params\n",
    "        self.betha0 = 0.0001\n",
    "        self.betha = np.ones(self.K)\n",
    "        self.mu0 = np.zeros(self.D)\n",
    "        self.v0 = self.D\n",
    "        self.W0 = np.eye(self.D)/(self.v0)\n",
    "        #\n",
    "        self.W = [np.eye(self.D) for i in range(self.K)]\n",
    "        self.v = np.ones(self.K)*self.D\n",
    "        \n",
    "        self.reg_covar = 1e-06\n",
    "        \n",
    "    def fit(self,x, num_iter = 10,restart=True, stochastic=True, batch_size = 2000):\n",
    "        self.x = x\n",
    "        self.stochastic = stochastic\n",
    "        self.batch_size = batch_size\n",
    "        cov = np.cov(x.T)\n",
    "        if restart:\n",
    "            kMM = KMeans(n_clusters=self.K).fit(x)\n",
    "            self.mu = kMM.cluster_centers_\n",
    "            #self.mu = x[np.random.choice(len(x),size = self.K)]\n",
    "        for i in range(num_iter):\n",
    "            print 'Iteration ' + str(i)\n",
    "            self.expectation()\n",
    "            #print self.ro, self.xks, self.Nks\n",
    "            self.maximization()\n",
    "            #print self.betha, self.v, self.W\n",
    "            \n",
    "        self.sigma = []\n",
    "        for k in range(self.K):\n",
    "            sigma = np.linalg.inv(self.v[k]*self.W[k])\n",
    "            self.sigma.append(sigma)\n",
    "\n",
    "        self.weights = self.alpha/np.sum(self.alpha)\n",
    "\n",
    "\n",
    "    def expectation(self):\n",
    "        if self.stochastic:\n",
    "            indexes = np.arange(0, len(self.x),1)\n",
    "            np.random.shuffle(indexes)\n",
    "            indexes = indexes[0:self.batch_size]\n",
    "            data = self.x[indexes]\n",
    "            N = self.batch_size\n",
    "        else:\n",
    "            data = self.x\n",
    "            N = data.shape[0]\n",
    "            \n",
    "        self.ln_ro = np.zeros([N,self.K])\n",
    "        self.ro = np.zeros([N,self.K])\n",
    "        \n",
    "        print 'Calculating ro'\n",
    "        tic = time.time()\n",
    "        for k in range(self.K):\n",
    "            E_s = self.D*np.log(2) + np.log(np.linalg.det(self.W[k])) + np.sum([digamma((self.v[k] + 1 - i)/2.) \\\n",
    "                                                                           for i in range(self.D)])\n",
    "            E_pi = digamma(self.alpha[k]) - digamma(np.sum(self.alpha))\n",
    "            E_2 = self.D*np.log(2*np.pi)\n",
    "            for n in range(data.shape[0]):\n",
    "                E_ms = self.D/self.betha[k] + self.v[k]*np.dot(data[n] - self.mu[k], np.dot(self.W[k], \\\n",
    "                                                                                data[n] - self.mu[k]))\n",
    "                self.ln_ro[n,k] = E_pi + 0.5*E_s - 0.5*E_2 - 0.5*E_ms\n",
    "\n",
    "        for n in range(N):        \n",
    "            self.ln_ro[n,:] = log_normalize(self.ln_ro[n,:])\n",
    "            self.ro[n,:] = np.exp(self.ln_ro[n,:])\n",
    "        toc = time.time()\n",
    "        print toc-tic\n",
    "\n",
    "\n",
    "        self.Nks = np.array([1e-6 + np.sum(self.ro[:,k]) for k in range(self.K)])\n",
    "\n",
    "        self.xks = np.dot(self.ro.T, data)\n",
    "        for k in range(self.K):\n",
    "            self.xks[k,:] /= self.Nks[k]\n",
    "\n",
    "\n",
    "        print 'Calculating Sk' \n",
    "        self.Sks = []\n",
    "        for k in range(self.K):\n",
    "            Sk = np.zeros([self.D,self.D])\n",
    "            for n in range(N):\n",
    "                Sk += self.ro[n,k]*np.outer(data[n]-self.xks[k], data[n]-self.xks[k])\n",
    "            Sk /= self.Nks[k]\n",
    "            self.Sks.append(Sk)\n",
    "\n",
    "        toc = time.time()\n",
    "        print toc-tic\n",
    "\n",
    "             \n",
    "    def maximization(self):\n",
    "        self.alpha = self.alpha0 + self.Nks\n",
    "        self.betha = self.betha0 + self.Nks\n",
    "\n",
    "        for k in range(self.K):\n",
    "            self.mu[k] = (self.betha0*self.mu0 + self.Nks[k]*self.xks[k])/self.betha[k]\n",
    "            Wk_inv = np.linalg.inv(self.W0 + self.reg_covar*np.eye(self.D)) + self.Nks[k]*self.Sks[k] + np.outer(self.xks[k]-self.mu0, \\\n",
    "                                    self.xks[k]-self.mu0)*self.betha0*self.Nks[k]/(self.betha0+self.Nks[k])\n",
    "            self.W[k] = np.linalg.inv(Wk_inv+ self.reg_covar*np.eye(self.D))\n",
    "            self.v[k] = self.v0 + self.Nks[k]\n",
    "            \n",
    "    def plot(self):\n",
    "        fig,ax = plt.subplots()\n",
    "        plot_gaussian(self.mu, self.sigma, ax, self.weights )\n"
   ]
  },
  {
   "cell_type": "code",
   "execution_count": 7,
   "metadata": {},
   "outputs": [],
   "source": [
    "class BGMR():\n",
    "    def __init__(self, GMM, n_in, n_out):\n",
    "        self.GMM = GMM\n",
    "        self.n_in = n_in\n",
    "        self.n_out = n_out\n",
    "        #segment the gaussian components\n",
    "        self.mu_x = []\n",
    "        self.mu_y = []\n",
    "        self.sigma_xx = []\n",
    "        self.sigma_yy = []\n",
    "        self.sigma_xy = []\n",
    "\n",
    "        \n",
    "        for k in range(self.GMM.K):\n",
    "            self.mu_x.append(self.GMM.mu[k][0:self.n_in])        \n",
    "            self.mu_y.append(self.GMM.mu[k][self.n_in:])        \n",
    "            self.sigma_xx.append(self.GMM.sigma[k][0:self.n_in, 0:self.n_in])        \n",
    "            self.sigma_yy.append(self.GMM.sigma[k][self.n_in:, self.n_in:])        \n",
    "            self.sigma_xy.append(self.GMM.sigma[k][0:self.n_in, self.n_in:])\n",
    "            \n",
    "        self.mu_x = np.array(self.mu_x)\n",
    "        self.mu_y = np.array(self.mu_y)\n",
    "        self.sigma_xx = np.array(self.sigma_xx)\n",
    "        self.sigma_yy = np.array(self.sigma_yy)\n",
    "        self.sigma_xy = np.array(self.sigma_xy)\n",
    "        \n",
    "        self.vy_x = self.GMM.v + self.n_in\n",
    "        \n",
    "        \n",
    "    def predict(self,x):\n",
    "        h = []\n",
    "        mu = []        \n",
    "        sigma = []\n",
    "\n",
    "        for k in range(self.GMM.K):\n",
    "            h.append(np.log(self.GMM.weights[k])+ t_logpdf(x, self.GMM.v[k], self.mu_x[k],self.sigma_xx[k]))\n",
    "            mu.append(self.mu_y[k] + np.dot(self.sigma_xy[k].T, \\\n",
    "                                            np.dot(np.linalg.inv(self.sigma_xx[k]), x - self.mu_x[k])))\n",
    "            sigma.append( (self.GMM.v[k] + np.dot(x-self.mu_x[k], np.dot(np.linalg.inv(self.sigma_xx[k]), x-self.mu_x[k]))) \\\n",
    "            *(self.sigma_yy[k]- np.dot(self.sigma_xy[k].T, np.dot(np.linalg.inv(self.sigma_xx[k]), self.sigma_xy[k]))) \\\n",
    "            / self.vy_x[k])\n",
    "              \n",
    "        h = np.array(h)\n",
    "        h = np.exp(log_normalize(h))\n",
    "        #h = h/np.sum(h)\n",
    "        mu = np.array(mu)\n",
    "        #print h,mu\n",
    "        #print h.shape,mu.shape\n",
    "        sigma_one = np.zeros([self.n_out, self.n_out])\n",
    "        mu_one = np.zeros(self.n_out)\n",
    "        for k in range(self.GMM.K):\n",
    "            sigma_one += h[k]*(sigma[k] + np.outer(mu[k],mu[k]))\n",
    "            mu_one += h[k]*mu[k]\n",
    "            \n",
    "        sigma_one -= np.outer(mu_one, mu_one)\n",
    "        return mu_one, sigma_one"
   ]
  },
  {
   "cell_type": "code",
   "execution_count": 8,
   "metadata": {},
   "outputs": [],
   "source": [
    "class GMR():\n",
    "    def __init__(self, GMM, n_in, n_out):\n",
    "        self.GMM = GMM\n",
    "        self.n_in = n_in\n",
    "        self.n_out = n_out\n",
    "        #segment the gaussian components\n",
    "        self.mu_x = []\n",
    "        self.mu_y = []\n",
    "        self.sigma_xx = []\n",
    "        self.sigma_yy = []\n",
    "        self.sigma_xy = []\n",
    "        self.sigma_xyx = []\n",
    "        for k in range(self.GMM.K):\n",
    "            self.mu_x.append(self.GMM.mu[k][0:self.n_in])        \n",
    "            self.mu_y.append(self.GMM.mu[k][self.n_in:])        \n",
    "            self.sigma_xx.append(self.GMM.sigma[k][0:self.n_in, 0:self.n_in])        \n",
    "            self.sigma_yy.append(self.GMM.sigma[k][self.n_in:, self.n_in:])        \n",
    "            self.sigma_xy.append(self.GMM.sigma[k][0:self.n_in, self.n_in:])\n",
    "            self.sigma_xyx.append(np.dot(self.sigma_xy[k].T,np.linalg.inv(self.sigma_xx[k])))\n",
    "            \n",
    "        self.mu_x = np.array(self.mu_x)\n",
    "        self.mu_y = np.array(self.mu_y)\n",
    "        self.sigma_xx = np.array(self.sigma_xx)\n",
    "        self.sigma_yy = np.array(self.sigma_yy)\n",
    "        self.sigma_xy = np.array(self.sigma_xy)\n",
    "        self.sigma =[self.sigma_yy[k]- np.dot(self.sigma_xy[k].T, \\\n",
    "            np.dot(np.linalg.inv(self.sigma_xx[k]), self.sigma_xy[k])) for k in range(self.GMM.K)]\n",
    "        \n",
    "    def predict(self,x):\n",
    "        h = []\n",
    "        mu = []        \n",
    "\n",
    "        for k in range(self.GMM.K):\n",
    "            h.append(self.GMM.weights[k]*mvn(mean = self.mu_x[k], cov = self.sigma_xx[k]).pdf(x))\n",
    "            mu.append(self.mu_y[k] + np.dot(self.sigma_xyx[k], x - self.mu_x[k]))\n",
    "        \n",
    "        h = np.array(h)\n",
    "        h = h/np.sum(h)\n",
    "        mu = np.array(mu)\n",
    "        sigma = self.sigma\n",
    "        \n",
    "        sigma_one = np.zeros([self.n_out, self.n_out])\n",
    "        mu_one = np.zeros(self.n_out)\n",
    "        for k in range(self.GMM.K):\n",
    "            sigma_one += h[k]*(sigma[k] + np.outer(mu[k],mu[k]))\n",
    "            mu_one += h[k]*mu[k]\n",
    "            \n",
    "        sigma_one -= np.outer(mu_one, mu_one)\n",
    "        return mu_one, sigma_one"
   ]
  },
  {
   "cell_type": "markdown",
   "metadata": {},
   "source": [
    "###  Try GMM with Data"
   ]
  },
  {
   "cell_type": "code",
   "execution_count": 67,
   "metadata": {},
   "outputs": [
    {
     "data": {
      "image/png": "[encoded data removed]",
      "text/plain": [
       "<Figure size 432x288 with 1 Axes>"
      ]
     },
     "metadata": {
      "needs_background": "light"
     },
     "output_type": "display_data"
    }
   ],
   "source": [
    "import numpy as np\n",
    "import matplotlib.pyplot as plt\n",
    "D = 2\n",
    "K_true = 5\n",
    "N = 10000\n",
    "is_plot = True\n",
    "\n",
    "mus_true = []\n",
    "sigmas_true = []\n",
    "samples = []\n",
    "for k in range(K_true):\n",
    "    mu = 5*np.random.normal(size=D)\n",
    "    sigma = 3*np.diag(np.random.rand(D))\n",
    "    sample = np.random.multivariate_normal(mu, cov = sigma, size = N/K_true)\n",
    "    mus_true.append(mu)\n",
    "    sigmas_true.append(sigma)\n",
    "    samples.append(sample)\n",
    "    \n",
    "x = np.vstack(samples)\n",
    "mus_true = np.array(mus_true)\n",
    "sigmas_true = np.array(sigmas_true)\n",
    "\n",
    "if is_plot:\n",
    "    fig,ax = plt.subplots()\n",
    "    plot_gmm(mus_true,sigmas_true)#,ax)\n",
    "    plt.plot(x[:,0],x[:,1],'*',zorder = 1)"
   ]
  },
  {
   "cell_type": "code",
   "execution_count": null,
   "metadata": {},
   "outputs": [],
   "source": [
    "gmm = GMM(D = 2, K = 5, weight_concentration=0.01)\n",
    "gmm.fit(x,num_iter = 50,stochastic=True,batch_size=1000)"
   ]
  },
  {
   "cell_type": "code",
   "execution_count": 72,
   "metadata": {
    "scrolled": true
   },
   "outputs": [
    {
     "data": {
      "image/png": "[encoded data removed]",
      "text/plain": [
       "<Figure size 432x288 with 1 Axes>"
      ]
     },
     "metadata": {
      "needs_background": "light"
     },
     "output_type": "display_data"
    }
   ],
   "source": [
    "fig,ax = plt.subplots()\n",
    "means, covs = filter_gaussian(gmm.mu, gmm.sigma, gmm.weights,threshold=0.05)\n",
    "plot_gmm(means,covs)\n",
    "plt.plot(x[:,0], x[:,1], '*b',zorder=1)\n",
    "plt.show()"
   ]
  },
  {
   "cell_type": "markdown",
   "metadata": {},
   "source": [
    "### Try GMR on Data "
   ]
  },
  {
   "cell_type": "code",
   "execution_count": 78,
   "metadata": {},
   "outputs": [
    {
     "data": {
      "text/plain": [
       "[<matplotlib.lines.Line2D at 0x7f0f02ddbfd0>]"
      ]
     },
     "execution_count": 78,
     "metadata": {},
     "output_type": "execute_result"
    },
    {
     "data": {
      "image/png": "[encoded data removed]",
      "text/plain": [
       "<Figure size 432x288 with 1 Axes>"
      ]
     },
     "metadata": {
      "needs_background": "light"
     },
     "output_type": "display_data"
    }
   ],
   "source": [
    "x_in = np.concatenate([np.arange(0,5,0.01), np.arange(5,10,0.01)])\n",
    "#x_out = np.sin(2*x_in) + np.random.rand(len(x_in))*1\n",
    "x_out = np.exp(x_in) + np.random.rand(len(x_in))*1\n",
    "\n",
    "x = np.vstack([x_in, x_out]).T\n",
    "plt.plot(x[:,0],x[:,1],'*b',zorder=1)"
   ]
  },
  {
   "cell_type": "code",
   "execution_count": 79,
   "metadata": {},
   "outputs": [],
   "source": [
    "gmm = GMM(n_comp=10, D=2,K=30,weight_concentration=1)"
   ]
  },
  {
   "cell_type": "code",
   "execution_count": null,
   "metadata": {},
   "outputs": [],
   "source": [
    "gmm.fit(x,num_iter = 30,restart=True)"
   ]
  },
  {
   "cell_type": "code",
   "execution_count": 81,
   "metadata": {},
   "outputs": [
    {
     "data": {
      "image/png": "[encoded data removed]",
      "text/plain": [
       "<Figure size 432x288 with 1 Axes>"
      ]
     },
     "metadata": {
      "needs_background": "light"
     },
     "output_type": "display_data"
    }
   ],
   "source": [
    "means, covs = filter_gaussian(gmm.mu, gmm.sigma, gmm.weights,threshold=0.01)\n",
    "plot_gmm(means,covs)\n",
    "plt.plot(x[:,0],x[:,1],'*b',zorder=1)\n",
    "plt.show()"
   ]
  },
  {
   "cell_type": "code",
   "execution_count": 82,
   "metadata": {},
   "outputs": [],
   "source": [
    "gmr = BGMR(gmm, 1, 1)\n",
    "\n",
    "y_pred = []\n",
    "y_cov = []\n",
    "x_test = np.arange(-3,11,0.05)\n",
    "for x_i in x_test:\n",
    "    m, cov = (gmr.predict(np.array([x_i])))\n",
    "    y_pred.append(m)\n",
    "    y_cov.append(cov)\n",
    "       \n",
    "y_pred = np.array(y_pred)\n",
    "y_cov = np.array(y_cov)"
   ]
  },
  {
   "cell_type": "code",
   "execution_count": 83,
   "metadata": {},
   "outputs": [
    {
     "data": {
      "image/png": "[encoded data removed]",
      "text/plain": [
       "<Figure size 432x288 with 1 Axes>"
      ]
     },
     "metadata": {
      "needs_background": "light"
     },
     "output_type": "display_data"
    }
   ],
   "source": [
    "plt.plot(x_test, y_pred,'ob')\n",
    "plt.plot(x_test, y_pred[:,0]+np.sqrt(y_cov[:,0,0]),'*r',markersize=4)\n",
    "plt.plot(x_test,  y_pred[:,0]- np.sqrt(y_cov[:,0,0]),'*r',markersize=4)  \n",
    "plot_gmm(means,covs)\n",
    "plt.show()"
   ]
  },
  {
   "cell_type": "markdown",
   "metadata": {},
   "source": [
    "### SARCOS Inverse Dynamics"
   ]
  },
  {
   "cell_type": "code",
   "execution_count": 74,
   "metadata": {},
   "outputs": [],
   "source": [
    "from scipy.io import loadmat\n",
    "data_train = loadmat('data/sarcos_inv.mat')\n",
    "data_test = loadmat('data/sarcos_inv_test.mat')\n",
    "\n",
    "x_train = data_train['sarcos_inv'][:,:21]\n",
    "y_train = data_train['sarcos_inv'][:,21:22]\n",
    "y_var = np.var(y_train)\n",
    "\n",
    "x_test = data_test['sarcos_inv_test'][:,:21]\n",
    "y_test = data_test['sarcos_inv_test'][:,21:22]\n",
    "\n",
    "X  = np.hstack([np.ones((x_train.shape[0],1)), x_train])\n",
    "Y = y_train.copy()\n",
    "\n",
    "X_test = np.hstack([np.ones((x_test.shape[0],1)), x_test])\n",
    "Y_test = y_test.copy()"
   ]
  },
  {
   "cell_type": "markdown",
   "metadata": {},
   "source": [
    "#### Subsample data"
   ]
  },
  {
   "cell_type": "code",
   "execution_count": 75,
   "metadata": {},
   "outputs": [
    {
     "name": "stdout",
     "output_type": "stream",
     "text": [
      "(44484, 23)\n"
     ]
    }
   ],
   "source": [
    "data_train = np.hstack([X,Y])\n",
    "data_test = np.hstack([X_test,Y_test])\n",
    "print data_train.shape"
   ]
  },
  {
   "cell_type": "code",
   "execution_count": 132,
   "metadata": {},
   "outputs": [],
   "source": [
    "indexes = np.arange(0, len(data_train),1)\n",
    "np.random.shuffle(indexes)\n",
    "indexes = indexes[0:2000]\n",
    "data_train = data_train[indexes]"
   ]
  },
  {
   "cell_type": "markdown",
   "metadata": {},
   "source": [
    "#### Learning the joint distribution of X and Y as GMM"
   ]
  },
  {
   "cell_type": "code",
   "execution_count": 115,
   "metadata": {},
   "outputs": [],
   "source": [
    "gmm = GMM(K=100, D=data_train.shape[1],weight_concentration=0.01)"
   ]
  },
  {
   "cell_type": "code",
   "execution_count": 116,
   "metadata": {
    "scrolled": true
   },
   "outputs": [
    {
     "name": "stdout",
     "output_type": "stream",
     "text": [
      "Iteration 0\n",
      "Calculating ro\n",
      "28.4104588032\n",
      "Calculating Sk\n",
      "64.6625609398\n",
      "Iteration 1\n",
      "Calculating ro\n",
      "25.6938941479\n",
      "Calculating Sk\n",
      "61.1424560547\n",
      "Iteration 2\n",
      "Calculating ro\n",
      "25.7111501694\n",
      "Calculating Sk\n",
      "60.9190130234\n",
      "Iteration 3\n",
      "Calculating ro\n",
      "26.0123040676\n",
      "Calculating Sk\n",
      "68.1863520145\n",
      "Iteration 4\n",
      "Calculating ro\n",
      "25.8650228977\n",
      "Calculating Sk\n",
      "61.073693037\n",
      "Iteration 5\n",
      "Calculating ro\n",
      "29.1804349422\n",
      "Calculating Sk\n",
      "64.2750971317\n",
      "Iteration 6\n",
      "Calculating ro\n",
      "26.6254060268\n",
      "Calculating Sk\n",
      "70.9121909142\n",
      "Iteration 7\n",
      "Calculating ro\n",
      "29.240721941\n",
      "Calculating Sk\n",
      "77.310256958\n",
      "Iteration 8\n",
      "Calculating ro\n",
      "28.2338118553\n",
      "Calculating Sk\n",
      "63.4259839058\n",
      "Iteration 9\n",
      "Calculating ro\n",
      "25.6165709496\n",
      "Calculating Sk\n",
      "61.115623951\n",
      "Iteration 10\n",
      "Calculating ro\n",
      "25.7856199741\n",
      "Calculating Sk\n",
      "70.6583628654\n",
      "Iteration 11\n",
      "Calculating ro\n",
      "26.591490984\n",
      "Calculating Sk\n",
      "65.2007269859\n",
      "Iteration 12\n",
      "Calculating ro\n",
      "27.7230119705\n",
      "Calculating Sk\n",
      "72.189896822\n",
      "Iteration 13\n",
      "Calculating ro\n",
      "28.3502819538\n",
      "Calculating Sk\n",
      "65.7394490242\n",
      "Iteration 14\n",
      "Calculating ro\n",
      "26.6548259258\n",
      "Calculating Sk\n",
      "62.1761958599\n",
      "Iteration 15\n",
      "Calculating ro\n",
      "27.5060961246\n",
      "Calculating Sk\n",
      "66.4969689846\n",
      "Iteration 16\n",
      "Calculating ro\n",
      "28.0359230042\n",
      "Calculating Sk\n",
      "63.3534059525\n",
      "Iteration 17\n",
      "Calculating ro\n",
      "27.7463428974\n",
      "Calculating Sk\n",
      "68.3363230228\n",
      "Iteration 18\n",
      "Calculating ro\n",
      "28.0811200142\n",
      "Calculating Sk\n",
      "77.6655859947\n",
      "Iteration 19\n",
      "Calculating ro\n",
      "27.4458508492\n",
      "Calculating Sk\n",
      "65.7808358669\n",
      "Iteration 20\n",
      "Calculating ro\n",
      "28.7066278458\n",
      "Calculating Sk\n",
      "65.8231937885\n",
      "Iteration 21\n",
      "Calculating ro\n",
      "28.4193818569\n",
      "Calculating Sk\n",
      "78.4339368343\n",
      "Iteration 22\n",
      "Calculating ro\n",
      "27.3200719357\n",
      "Calculating Sk\n",
      "62.4476339817\n",
      "Iteration 23\n",
      "Calculating ro\n",
      "26.8301730156\n",
      "Calculating Sk\n",
      "61.7303500175\n",
      "Iteration 24\n",
      "Calculating ro\n",
      "25.9021339417\n",
      "Calculating Sk\n",
      "67.9111559391\n",
      "Iteration 25\n",
      "Calculating ro\n",
      "30.0568110943\n",
      "Calculating Sk\n",
      "66.294271946\n",
      "Iteration 26\n",
      "Calculating ro\n",
      "27.4070279598\n",
      "Calculating Sk\n",
      "71.2506711483\n",
      "Iteration 27\n",
      "Calculating ro\n",
      "28.7254760265\n",
      "Calculating Sk\n",
      "63.9075319767\n",
      "Iteration 28\n",
      "Calculating ro\n",
      "25.5914580822\n",
      "Calculating Sk\n",
      "60.9003288746\n",
      "Iteration 29\n",
      "Calculating ro\n",
      "27.1877479553\n",
      "Calculating Sk\n",
      "68.2411749363\n",
      "Iteration 30\n",
      "Calculating ro\n",
      "27.7523579597\n",
      "Calculating Sk\n",
      "62.8279280663\n",
      "Iteration 31\n",
      "Calculating ro\n",
      "29.2413649559\n",
      "Calculating Sk\n",
      "66.886441946\n",
      "Iteration 32\n",
      "Calculating ro\n",
      "29.7980690002\n",
      "Calculating Sk\n",
      "68.2359688282\n",
      "Iteration 33\n",
      "Calculating ro\n",
      "28.4704871178\n",
      "Calculating Sk\n",
      "66.7045090199\n",
      "Iteration 34\n",
      "Calculating ro\n",
      "29.2742769718\n",
      "Calculating Sk\n",
      "71.0491988659\n",
      "Iteration 35\n",
      "Calculating ro\n",
      "29.7467961311\n",
      "Calculating Sk\n",
      "73.6316130161\n",
      "Iteration 36\n",
      "Calculating ro\n",
      "27.6207251549\n",
      "Calculating Sk\n",
      "65.1672329903\n",
      "Iteration 37\n",
      "Calculating ro\n",
      "28.9974069595\n",
      "Calculating Sk\n",
      "72.4523139\n",
      "Iteration 38\n",
      "Calculating ro\n",
      "28.3472318649\n",
      "Calculating Sk\n",
      "63.4322488308\n",
      "Iteration 39\n",
      "Calculating ro\n",
      "29.7204120159\n",
      "Calculating Sk\n",
      "66.962813139\n",
      "Iteration 40\n",
      "Calculating ro\n",
      "28.8636250496\n",
      "Calculating Sk\n",
      "75.9041130543\n",
      "Iteration 41\n",
      "Calculating ro\n",
      "29.9625339508\n",
      "Calculating Sk\n",
      "64.92806077\n",
      "Iteration 42\n",
      "Calculating ro\n",
      "27.7608559132\n",
      "Calculating Sk\n",
      "65.0829730034\n",
      "Iteration 43\n",
      "Calculating ro\n",
      "28.6927249432\n",
      "Calculating Sk\n",
      "64.0032150745\n",
      "Iteration 44\n",
      "Calculating ro\n",
      "28.0667800903\n",
      "Calculating Sk\n",
      "70.2835199833\n",
      "Iteration 45\n",
      "Calculating ro\n",
      "30.8598492146\n",
      "Calculating Sk\n",
      "78.6548371315\n",
      "Iteration 46\n",
      "Calculating ro\n",
      "29.1676180363\n",
      "Calculating Sk\n",
      "64.4576971531\n",
      "Iteration 47\n",
      "Calculating ro\n",
      "27.4046630859\n",
      "Calculating Sk\n",
      "69.4277510643\n",
      "Iteration 48\n",
      "Calculating ro\n",
      "29.2727470398\n",
      "Calculating Sk\n",
      "78.819217205\n",
      "Iteration 49\n",
      "Calculating ro\n",
      "25.7414388657\n",
      "Calculating Sk\n",
      "61.0398340225\n"
     ]
    }
   ],
   "source": [
    "gmm.fit(data_train,num_iter=50, stochastic=False, batch_size=20000,restart=True)"
   ]
  },
  {
   "cell_type": "markdown",
   "metadata": {},
   "source": [
    "#### Evaluate"
   ]
  },
  {
   "cell_type": "code",
   "execution_count": 151,
   "metadata": {},
   "outputs": [],
   "source": [
    "gmr = BGMR(gmm, n_in=22,n_out=1)"
   ]
  },
  {
   "cell_type": "code",
   "execution_count": 126,
   "metadata": {},
   "outputs": [
    {
     "name": "stdout",
     "output_type": "stream",
     "text": [
      "44483\n"
     ]
    }
   ],
   "source": [
    "#calculate training error\n",
    "pred_train = []\n",
    "cov_train = []\n",
    "true_val_train = []\n",
    "for i in range(data_train.shape[0]):\n",
    "    print i\n",
    "    y_pred, y_cov = gmr.predict(X[i])\n",
    "    pred_train.append(y_pred)\n",
    "    cov_train.append(y_cov)\n",
    "    true_val_train.append(X[i])\n",
    "    clear_output(wait=True)\n",
    "    \n",
    "pred_train = np.array(pred_train)"
   ]
  },
  {
   "cell_type": "code",
   "execution_count": 152,
   "metadata": {
    "scrolled": true
   },
   "outputs": [
    {
     "name": "stdout",
     "output_type": "stream",
     "text": [
      "4448\n"
     ]
    }
   ],
   "source": [
    "#calculate test error\n",
    "pred_test = []\n",
    "cov_test = []\n",
    "true_val_test = []\n",
    "for i in range(X_test.shape[0]):\n",
    "    print i\n",
    "    y_pred, y_cov = gmr.predict(X_test[i])\n",
    "    pred_test.append(y_pred)\n",
    "    cov_test.append(y_cov)\n",
    "    true_val_test.append(Y_test[i])\n",
    "    clear_output(wait=True)\n",
    "    \n",
    "pred_test = np.array(pred_test)"
   ]
  },
  {
   "cell_type": "markdown",
   "metadata": {},
   "source": [
    "#### Calculate Standard Mean Square Error (SMSE)"
   ]
  },
  {
   "cell_type": "code",
   "execution_count": 154,
   "metadata": {},
   "outputs": [
    {
     "name": "stdout",
     "output_type": "stream",
     "text": [
      "SMSE training is 0.038599196554095945\n"
     ]
    }
   ],
   "source": [
    "smse_train_ = mse(pred_train,Y)/y_var\n",
    "print 'SMSE training is ' + str(smse_train_)"
   ]
  },
  {
   "cell_type": "code",
   "execution_count": 155,
   "metadata": {},
   "outputs": [
    {
     "name": "stdout",
     "output_type": "stream",
     "text": [
      "SMSE test is 0.03825339729970163\n"
     ]
    }
   ],
   "source": [
    "smse_test = mse(pred_test,Y_test)/y_var\n",
    "print 'SMSE test is ' + str(smse_test)"
   ]
  },
  {
   "cell_type": "markdown",
   "metadata": {},
   "source": [
    "#### Calculate Mean Standard Log Loss (MSLL)"
   ]
  },
  {
   "cell_type": "code",
   "execution_count": 156,
   "metadata": {},
   "outputs": [],
   "source": [
    "train_mean = np.mean(y_train)\n",
    "train_var = np.var(y_train)"
   ]
  },
  {
   "cell_type": "code",
   "execution_count": 158,
   "metadata": {},
   "outputs": [
    {
     "name": "stdout",
     "output_type": "stream",
     "text": [
      "MSLL training is [[-1.73]]\n",
      "MSLL test is [[-1.73]]\n"
     ]
    }
   ],
   "source": [
    "msll_train_ = calc_MSLL(pred_train, cov_train, Y, train_mean, train_var)\n",
    "msll_test = calc_MSLL(pred_test, cov_test, Y_test, train_mean, train_var)\n",
    "print 'MSLL training is ' + str(msll_train_)\n",
    "print 'MSLL test is ' + str(msll_test)"
   ]
  },
  {
   "cell_type": "raw",
   "metadata": {},
   "source": [
    "### Using polynomial input\n",
    "\n",
    "from sklearn.preprocessing import PolynomialFeatures\n",
    "poly = PolynomialFeatures(degree=2)\n",
    "x_train_poly = poly.fit_transform(X)\n",
    "x_test_poly = poly.fit_transform(X_test)\n",
    "\n",
    "data_train_poly = np.hstack([x_train_poly, y_train])\n",
    "data_test_poly = np.hstack([x_test_poly, y_test])\n",
    "\n",
    "data_train_poly.shape\n",
    "\n",
    "X.shape\n",
    "\n",
    "indexes = np.arange(0, len(data_train_poly),1)\n",
    "np.random.shuffle(indexes)\n",
    "indexes = indexes[0:2000]\n",
    "data_train_poly = data_train_poly[indexes]\n",
    "\n",
    "gmm = GMM(K=50, D=data_train_poly.shape[1],weight_concentration=100)\n",
    "\n",
    "gmm.fit(data_train_poly,num_iter=30)\n",
    "\n",
    "gmr = GMR(gmm, n_in=x_train_poly.shape[1],n_out=1)\n",
    "\n",
    "pred_train = []\n",
    "cov_train = []\n",
    "true_val_train = []\n",
    "for i in range(data_train.shape[0]):\n",
    "    print i\n",
    "    y_pred, y_cov = gmr.predict(data_train[i,0:22])\n",
    "    pred_train.append(y_pred)\n",
    "    cov_train.append(y_cov)\n",
    "    true_val_train.append(data_train[i,22])\n",
    "    clear_output()\n",
    "\n",
    "pred_test = []\n",
    "cov_test = []\n",
    "true_val_test = []\n",
    "for i in range(X_test.shape[0]):\n",
    "    print i\n",
    "    y_pred, y_cov = gmr.predict(x_test_poly[i])\n",
    "    pred_test.append(y_pred)\n",
    "    cov_test.append(y_cov)\n",
    "    true_val_test.append(Y_test[i])\n",
    "    clear_output()\n",
    "\n",
    "pred_test = np.array(pred_test)\n",
    "print pred_test.shape\n",
    "\n",
    "#### Calculate Standard Mean Square Error (SMSE)\n",
    "\n",
    "smse_train = mse(y_pred_train[:,:,0],y_train)/y_var\n",
    "\n",
    "smse_test = mse(pred_test,Y_test)/y_var\n",
    "#print 'SMSE training is ' + str(smse_train_)\n",
    "print 'SMSE test is ' + str(smse_test)\n",
    "\n",
    "#### Calculate Mean Standard Log Loss (MSLL)\n",
    "\n",
    "train_mean = np.mean(y_train)\n",
    "train_var = np.var(y_train)\n",
    "\n",
    "#msll_train_ = calc_MSLL(y_pred_train_[:,0,0], (y_cov_train_[:,0,0]), y_train, train_mean, train_var)\n",
    "msll_test = calc_MSLL(pred_test, cov_test, Y_test, train_mean, train_var)\n",
    "#print 'MSLL training is ' + str(msll_train_)\n",
    "print 'MSLL test is ' + str(msll_test)"
   ]
  }
 ],
 "metadata": {
  "kernelspec": {
   "display_name": "Python 2",
   "language": "python",
   "name": "python2"
  },
  "language_info": {
   "codemirror_mode": {
    "name": "ipython",
    "version": 2
   },
   "file_extension": ".py",
   "mimetype": "text/x-python",
   "name": "python",
   "nbconvert_exporter": "python",
   "pygments_lexer": "ipython2",
   "version": "2.7.12"
  }
 },
 "nbformat": 4,
 "nbformat_minor": 2
}
