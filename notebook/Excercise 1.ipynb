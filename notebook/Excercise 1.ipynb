{
 "cells": [
  {
   "cell_type": "code",
   "execution_count": 1,
   "metadata": {},
   "outputs": [],
   "source": [
    "import numpy as np"
   ]
  },
  {
   "cell_type": "code",
   "execution_count": 9,
   "metadata": {},
   "outputs": [],
   "source": [
    "def bernoulli_dist(theta, n):\n",
    "    x = np.zeros(n)\n",
    "    for i in range(n):\n",
    "        prob = np.random.rand()\n",
    "        if prob < theta:\n",
    "            x[i] = 1\n",
    "        else:\n",
    "            x[i] = 0\n",
    "    return x"
   ]
  },
  {
   "cell_type": "code",
   "execution_count": 58,
   "metadata": {},
   "outputs": [],
   "source": [
    "data = bernoulli_dist(0.1, 100)"
   ]
  },
  {
   "cell_type": "code",
   "execution_count": 59,
   "metadata": {},
   "outputs": [
    {
     "name": "stdout",
     "output_type": "stream",
     "text": [
      "0.000781066281453\n"
     ]
    }
   ],
   "source": [
    "def compute_posterior(x, alpha=1, betha=1):\n",
    "    for x_i in x:\n",
    "        if x_i == 0:\n",
    "            betha += 1\n",
    "        else:\n",
    "            alpha += 1\n",
    "    def unnormalized_post(theta):\n",
    "        return (theta**(alpha-1))*(1-theta)**(betha-1)\n",
    "    variance = 1.0*(alpha*betha)/(((alpha+betha)**2)*(alpha+betha+1))\n",
    "    print variance\n",
    "    std = np.sqrt(variance)\n",
    "    m = 1.0/(1 + betha*1.0/alpha)\n",
    "    bound = [-2*std+m, 2*std+m]\n",
    "    C = 0\n",
    "    return unnormalized_post, bound, C,alpha, betha\n",
    "\n",
    "a,b,c,alpha,betha = compute_posterior(data)"
   ]
  },
  {
   "cell_type": "code",
   "execution_count": 60,
   "metadata": {},
   "outputs": [
    {
     "data": {
      "text/plain": [
       "[0.8558695797458958, 0.9676598320188102]"
      ]
     },
     "execution_count": 60,
     "metadata": {},
     "output_type": "execute_result"
    }
   ],
   "source": [
    "b"
   ]
  },
  {
   "cell_type": "code",
   "execution_count": 61,
   "metadata": {},
   "outputs": [
    {
     "name": "stdout",
     "output_type": "stream",
     "text": [
      "93\n",
      "9\n"
     ]
    }
   ],
   "source": [
    "print alpha\n",
    "print betha"
   ]
  },
  {
   "cell_type": "code",
   "execution_count": null,
   "metadata": {},
   "outputs": [],
   "source": []
  }
 ],
 "metadata": {
  "kernelspec": {
   "display_name": "Python 2",
   "language": "python",
   "name": "python2"
  },
  "language_info": {
   "codemirror_mode": {
    "name": "ipython",
    "version": 2
   },
   "file_extension": ".py",
   "mimetype": "text/x-python",
   "name": "python",
   "nbconvert_exporter": "python",
   "pygments_lexer": "ipython2",
   "version": "2.7.12"
  }
 },
 "nbformat": 4,
 "nbformat_minor": 2
}
