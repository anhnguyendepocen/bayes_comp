{
 "cells": [
  {
   "cell_type": "code",
   "execution_count": 6,
   "metadata": {},
   "outputs": [],
   "source": [
    "import numpy as np\n",
    "\n",
    "import matplotlib.pyplot as plt\n",
    "\n",
    "from scipy.linalg import logm,expm"
   ]
  },
  {
   "cell_type": "code",
   "execution_count": 2,
   "metadata": {},
   "outputs": [],
   "source": [
    "def grad(tetha, params):\n",
    "    mu = params[0]\n",
    "    sigma = params[1]\n",
    "    return np.dot(np.linalg.inv(sigma), tetha-mu)\n",
    "\n",
    "def hess(tetha, params):\n",
    "    sigma = params[1]\n",
    "    return np.linalg.inv(sigma)"
   ]
  },
  {
   "cell_type": "code",
   "execution_count": 106,
   "metadata": {},
   "outputs": [],
   "source": [
    "def grad_mu(samples, mu, L, params):\n",
    "    n = len(samples)\n",
    "    delta_mu = np.zeros(d)\n",
    "    for sample in samples:\n",
    "        delta_mu += grad(mu + np.dot(expm(L),sample), params)        \n",
    "    delta_mu /= (-n)\n",
    "    return delta_mu\n",
    "\n",
    "#Calculate grad_L using Hessian\n",
    "def grad_L2(samples, mu, L, params):\n",
    "    n = len(samples)\n",
    "    delta_L = np.zeros((d,d))\n",
    "    for sample in samples:\n",
    "        delta_L += hess(mu + np.dot(expm(L),sample), params)\n",
    "        \n",
    "    delta_L /= n\n",
    "    delta_L = np.dot(expm(2*L), delta_L)\n",
    "    delta_L = 0.5*(delta_L + delta_L.T)\n",
    "    delta_L = -1*delta_L + np.eye(d)\n",
    "    return delta_L\n",
    "\n",
    "#calculate grad_L using Grad\n",
    "def grad_L(samples, mu, L, params):\n",
    "    n = len(samples)    \n",
    "    delta_L = np.zeros((d,d))\n",
    "    for sample in samples:\n",
    "        delta_L += np.outer(np.dot(expm(L),sample), grad(mu + np.dot(expm(L),sample), params))\n",
    "        \n",
    "    delta_L /= n\n",
    "    delta_L = 0.5*(delta_L + delta_L.T)\n",
    "    delta_L = -1*delta_L + np.eye(d)\n",
    "    return delta_L"
   ]
  },
  {
   "cell_type": "code",
   "execution_count": 118,
   "metadata": {},
   "outputs": [],
   "source": [
    "def compute_GVA( mu_0, L_0, grad_mu_func, grad_L_func, params, num_iter = 200, batch_size = 30, lamda_0 = 0.2, decrease_rate = False):\n",
    "    lamda = lamda_0\n",
    "    for i in range(num_iter):\n",
    "        samples = [np.random.normal(np.zeros(d)) for j in range(batch_size)]\n",
    "        delta_mu = grad_mu_func(samples, mu_0, L_0,params)\n",
    "        delta_L = grad_L_func(samples, mu_0, L_0,params)\n",
    "        mu_0 = mu_0 + lamda*delta_mu\n",
    "        L_0 = L_0 + lamda*delta_L\n",
    "        if decrease_rate: lamda = lamda_0/(1+i)\n",
    "    return mu_0, L_0"
   ]
  },
  {
   "cell_type": "markdown",
   "metadata": {},
   "source": [
    "### The true parameters"
   ]
  },
  {
   "cell_type": "code",
   "execution_count": 119,
   "metadata": {},
   "outputs": [],
   "source": [
    "mu_true = np.array([1.4,2.7,3.3])\n",
    "sigma_true = np.diag([6.32,7.12,8.45])\n",
    "params = [mu_true,sigma_true]\n",
    "d = len(mu_true)"
   ]
  },
  {
   "cell_type": "markdown",
   "metadata": {},
   "source": [
    "### Computing the approximations"
   ]
  },
  {
   "cell_type": "code",
   "execution_count": 156,
   "metadata": {},
   "outputs": [],
   "source": [
    "mu_0 = np.array([0.,0.,0.])\n",
    "L_0 = np.diag([1.,2.,3.])"
   ]
  },
  {
   "cell_type": "code",
   "execution_count": 142,
   "metadata": {},
   "outputs": [],
   "source": [
    "mu, L = compute_GVA(mu_0, L_0, grad_mu, grad_L2, params, num_iter = 500, batch_size=20)"
   ]
  },
  {
   "cell_type": "code",
   "execution_count": 140,
   "metadata": {},
   "outputs": [],
   "source": [
    "mu, L = compute_GVA(mu_0, L_0, grad_mu, grad_L, params, num_iter = 2000, batch_size=20)"
   ]
  },
  {
   "cell_type": "markdown",
   "metadata": {},
   "source": [
    "### Comparing Approximations of the gradient of L"
   ]
  },
  {
   "cell_type": "code",
   "execution_count": 157,
   "metadata": {
    "scrolled": true
   },
   "outputs": [],
   "source": [
    "num_iter = 500\n",
    "mini_batch = 30\n",
    "delta_Ls = []\n",
    "delta_L2s = []\n",
    "for i in range(num_iter):\n",
    "    samples = [np.random.normal(np.zeros(d)) for j in range(mini_batch)]\n",
    "    delta_L = grad_L(samples, mu_0, L_0,params)\n",
    "    delta_L2 = grad_L2(samples, mu_0, L_0,params)\n",
    "    delta_Ls.append(delta_L)\n",
    "    delta_L2s.append(delta_L2)"
   ]
  },
  {
   "cell_type": "code",
   "execution_count": 158,
   "metadata": {},
   "outputs": [],
   "source": [
    "n = 500\n",
    "samples = [np.random.normal(np.zeros(d)) for j in range(n)]\n",
    "delta_L = grad_L(samples, mu_0, L_0,params)\n",
    "delta_L2 = grad_L2(samples, mu_0, L_0,params)"
   ]
  },
  {
   "cell_type": "markdown",
   "metadata": {},
   "source": [
    "# Mixture of Gaussians"
   ]
  },
  {
   "cell_type": "code",
   "execution_count": 170,
   "metadata": {},
   "outputs": [],
   "source": [
    "def mixture_of_gaussian(tetha, params):\n",
    "    pis = params[0]\n",
    "    mus = params[1]\n",
    "    sigmas = params[2]\n",
    "    k = len(pis)\n",
    "    d = 1#len(tetha)\n",
    "    val = 0\n",
    "    for i in range(k):\n",
    "        val += np.exp(-0.5*np.dot(tetha-mus[i], np.dot(1/(sigmas[i]), \\\n",
    "                    tetha-mus[i])))*pis[i]/(np.sqrt(1/(sigmas[i]))*((2*np.pi)**(d/2.0)))\n",
    "    return val\n"
   ]
  },
  {
   "cell_type": "code",
   "execution_count": 175,
   "metadata": {},
   "outputs": [
    {
     "data": {
      "text/plain": [
       "[<matplotlib.lines.Line2D at 0x7f25b9d4f4d0>]"
      ]
     },
     "execution_count": 175,
     "metadata": {},
     "output_type": "execute_result"
    },
    {
     "data": {
      "image/png": "[encoded data removed]",
      "text/plain": [
       "<Figure size 432x288 with 1 Axes>"
      ]
     },
     "metadata": {},
     "output_type": "display_data"
    }
   ],
   "source": [
    "pis = [0.3, 0.7]\n",
    "mus = [np.array([-5.]), np.array(-5.)]\n",
    "sigmas = [np.array([3.]), np.array([2.])]\n",
    "tethas = np.arange(-10,10,0.1)\n",
    "ys = []\n",
    "for tetha in tethas:\n",
    "    ys.append(mixture_of_gaussian(tetha, [pis,mus,sigmas]))\n",
    "    \n",
    "plt.plot(tethas,ys)"
   ]
  },
  {
   "cell_type": "code",
   "execution_count": null,
   "metadata": {},
   "outputs": [],
   "source": [
    "mu_0 = np.array([0.0])\n",
    "L_0 = np.array([2.3])\n",
    "params = []\n",
    "mu, L = compute_GVA(mu_0, L_0, grad_mu, grad_L2, params, num_iter = 500, batch_size=20)"
   ]
  }
 ],
 "metadata": {
  "kernelspec": {
   "display_name": "Python 2",
   "language": "python",
   "name": "python2"
  },
  "language_info": {
   "codemirror_mode": {
    "name": "ipython",
    "version": 2
   },
   "file_extension": ".py",
   "mimetype": "text/x-python",
   "name": "python",
   "nbconvert_exporter": "python",
   "pygments_lexer": "ipython2",
   "version": "2.7.12"
  }
 },
 "nbformat": 4,
 "nbformat_minor": 2
}
