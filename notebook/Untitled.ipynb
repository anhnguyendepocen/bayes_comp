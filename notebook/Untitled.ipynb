{
 "cells": [
  {
   "cell_type": "code",
   "execution_count": 1,
   "metadata": {},
   "outputs": [],
   "source": [
    "import pandas as pd\n",
    "import seaborn as sns\n",
    "import numpy as np\n",
    "import matplotlib.pyplot as plt\n",
    "from IPython.display import clear_output\n",
    "%matplotlib inline"
   ]
  },
  {
   "cell_type": "code",
   "execution_count": 2,
   "metadata": {},
   "outputs": [],
   "source": [
    "from scipy.io import loadmat\n",
    "data_train = loadmat('data/sarcos_inv.mat')\n",
    "data_test = loadmat('data/sarcos_inv_test.mat')\n",
    "\n",
    "x_train = data_train['sarcos_inv'][:,:21]\n",
    "y_train = data_train['sarcos_inv'][:,21:22]\n",
    "y_var = np.var(y_train)\n",
    "\n",
    "x_test = data_test['sarcos_inv_test'][:,:21]\n",
    "y_test = data_test['sarcos_inv_test'][:,21:22]"
   ]
  },
  {
   "cell_type": "code",
   "execution_count": 3,
   "metadata": {},
   "outputs": [],
   "source": [
    "x_train_cos = np.cos(x_train)\n",
    "x_train_sin = np.sin(x_train)\n",
    "x_train_fourier = np.hstack([x_train_cos, x_train_sin])"
   ]
  },
  {
   "cell_type": "code",
   "execution_count": 4,
   "metadata": {},
   "outputs": [],
   "source": [
    "x_test_cos = np.cos(x_test)\n",
    "x_test_sin = np.sin(x_test)\n",
    "x_test_fourier = np.hstack([x_test_cos, x_test_sin])"
   ]
  },
  {
   "cell_type": "markdown",
   "metadata": {},
   "source": [
    "### Fourier Linear Regression"
   ]
  },
  {
   "cell_type": "code",
   "execution_count": 19,
   "metadata": {},
   "outputs": [
    {
     "data": {
      "text/plain": [
       "LinearRegression(copy_X=True, fit_intercept=True, n_jobs=1, normalize=False)"
      ]
     },
     "execution_count": 19,
     "metadata": {},
     "output_type": "execute_result"
    }
   ],
   "source": [
    "from sklearn.linear_model import LinearRegression\n",
    "from sklearn.metrics import mean_squared_error\n",
    "\n",
    "lin_model = LinearRegression()\n",
    "lin_model.fit(x_train_fourier, y_train)"
   ]
  },
  {
   "cell_type": "code",
   "execution_count": 20,
   "metadata": {},
   "outputs": [
    {
     "name": "stdout",
     "output_type": "stream",
     "text": [
      "0.0582902697531906 0.05808984614131669\n"
     ]
    }
   ],
   "source": [
    "y_train_predict = lin_model.predict(x_train_fourier)\n",
    "rmse_train = np.sqrt(mean_squared_error(y_train, y_train_predict))\n",
    "\n",
    "y_test_predict = lin_model.predict(x_test_fourier)\n",
    "rmse_test = np.sqrt(mean_squared_error(y_test, y_test_predict))\n",
    "\n",
    "print rmse_train**2/y_var, rmse_test**2/y_var"
   ]
  },
  {
   "cell_type": "markdown",
   "metadata": {},
   "source": [
    "### Using polynomial expansion"
   ]
  },
  {
   "cell_type": "code",
   "execution_count": null,
   "metadata": {},
   "outputs": [],
   "source": [
    "from sklearn.preprocessing import PolynomialFeatures\n",
    "poly = PolynomialFeatures(degree = 3)\n",
    "\n",
    "x_fourier_poly_train = poly.fit_transform(x_train_fourier)\n",
    "x_fourier_poly_test = poly.fit_transform(x_test_fourier)\n",
    "\n",
    "poly3 = PolynomialFeatures(degree = 3)\n",
    "\n",
    "x_linear_poly_train = poly3.fit_transform(x_train)\n",
    "x_linear_poly_test = poly3.fit_transform(x_test)\n",
    "\n",
    "x_train_poly = np.hstack([x_linear_poly_train, x_fourier_poly_train])\n",
    "x_test_poly = np.hstack([x_linear_poly_test, x_fourier_poly_test])\n",
    "\n",
    "print x_train.shape, x_train_poly.shape"
   ]
  },
  {
   "cell_type": "code",
   "execution_count": 26,
   "metadata": {},
   "outputs": [
    {
     "name": "stdout",
     "output_type": "stream",
     "text": [
      "0.012455334701432008 0.01189985340208558\n"
     ]
    }
   ],
   "source": [
    "lin_model.fit(x_train_poly, y_train)\n",
    "\n",
    "y_train_predicted_poly = lin_model.predict(x_train_poly)\n",
    "y_test_predicted_poly = lin_model.predict(x_test_poly)\n",
    "\n",
    "rmse_train_poly = np.sqrt(mean_squared_error(y_train, y_train_predicted_poly))\n",
    "rmse_test_poly = np.sqrt(mean_squared_error(y_test, y_test_predicted_poly))\n",
    "\n",
    "print rmse_train_poly**2/y_var, rmse_test_poly**2/y_var"
   ]
  },
  {
   "cell_type": "code",
   "execution_count": null,
   "metadata": {},
   "outputs": [],
   "source": [
    "degree 2, 3: 0.012455334701432008 0.01189985340208558"
   ]
  }
 ],
 "metadata": {
  "kernelspec": {
   "display_name": "Python 2",
   "language": "python",
   "name": "python2"
  },
  "language_info": {
   "codemirror_mode": {
    "name": "ipython",
    "version": 2
   },
   "file_extension": ".py",
   "mimetype": "text/x-python",
   "name": "python",
   "nbconvert_exporter": "python",
   "pygments_lexer": "ipython2",
   "version": "2.7.12"
  }
 },
 "nbformat": 4,
 "nbformat_minor": 2
}
