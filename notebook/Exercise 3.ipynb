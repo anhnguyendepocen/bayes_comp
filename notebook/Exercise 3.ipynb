{
 "cells": [
  {
   "cell_type": "code",
   "execution_count": 2,
   "metadata": {},
   "outputs": [],
   "source": [
    "import numpy as np\n",
    "import matplotlib.pyplot as plt"
   ]
  },
  {
   "cell_type": "code",
   "execution_count": 3,
   "metadata": {},
   "outputs": [],
   "source": [
    "def compute_on_grid(grid, delta, func, func_params):\n",
    "    #compute normalization constant C\n",
    "    C = 0\n",
    "    f_ts = []\n",
    "    for t in grid:\n",
    "        f_t = func(t, func_params)\n",
    "        C += f_t*delta\n",
    "        f_ts.append(f_t)\n",
    "        \n",
    "    #compute first moment\n",
    "    moment1 = 0\n",
    "    for i,t  in enumerate(grid):\n",
    "        f_t = f_ts[i]\n",
    "        p_t = f_t/C\n",
    "        moment1 += t*p_t*delta\n",
    "    \n",
    "    #compute other moment\n",
    "    moment2 = 0\n",
    "    moment4 = 0\n",
    "    for i,t  in enumerate(grid):\n",
    "        f_t = f_ts[i]        \n",
    "        p_t = f_t/C\n",
    "        moment2 += ((t-moment1)**2)*p_t*delta\n",
    "        moment4 += ((t-moment1)**4)*p_t*delta\n",
    "    \n",
    "    max_f = grid[np.argmax(f_ts)]\n",
    "    return C, moment1, moment2, moment4, max_f"
   ]
  },
  {
   "cell_type": "markdown",
   "metadata": {},
   "source": [
    "### Gaussian Distribution "
   ]
  },
  {
   "cell_type": "code",
   "execution_count": 4,
   "metadata": {},
   "outputs": [
    {
     "name": "stdout",
     "output_type": "stream",
     "text": [
      "25.06628274631\n"
     ]
    },
    {
     "data": {
      "text/plain": [
       "(24.998603340387884,\n",
       " 2.9986668459369232,\n",
       " 97.33355678134328,\n",
       " 26800.33156711905,\n",
       " 3.0000000000004263)"
      ]
     },
     "execution_count": 4,
     "metadata": {},
     "output_type": "execute_result"
    }
   ],
   "source": [
    "mu = 3\n",
    "sigma = 10\n",
    "bound = [mu-3*sigma, mu+3*sigma]\n",
    "delta = 0.1\n",
    "grid = np.arange(bound[0],bound[1],delta)\n",
    "C_true = (1/(np.sqrt(2*np.pi)*sigma))\n",
    "print 1/C_true\n",
    "\n",
    "def unnormalized_gaussian(tetha, params):\n",
    "    mu = params[0]\n",
    "    sigma = params[1]\n",
    "    return np.exp(-(0.5*(tetha-mu)**2)/(sigma**2))\n",
    "\n",
    "\n",
    "compute_on_grid(grid, delta, unnormalized_gaussian, [mu,sigma])"
   ]
  },
  {
   "cell_type": "markdown",
   "metadata": {},
   "source": [
    "### Gamma Distribution"
   ]
  },
  {
   "cell_type": "code",
   "execution_count": 5,
   "metadata": {},
   "outputs": [],
   "source": [
    "from scipy.special import gamma\n",
    "\n",
    "def unnormalized_gamma(tetha, params):\n",
    "    alpha = params[0]\n",
    "    beta = params[1]\n",
    "    return (tetha**(alpha-1))*np.exp(-1*beta*tetha)"
   ]
  },
  {
   "cell_type": "code",
   "execution_count": 6,
   "metadata": {},
   "outputs": [
    {
     "name": "stdout",
     "output_type": "stream",
     "text": [
      "0.05\n",
      "0.05\n",
      "0.05\n",
      "0.0\n"
     ]
    },
    {
     "data": {
      "text/plain": [
       "(0.05004918074626274,\n",
       " 0.04994083057780755,\n",
       " 0.002494946733410728,\n",
       " 5.464576338521143e-05,\n",
       " 0.0)"
      ]
     },
     "execution_count": 6,
     "metadata": {},
     "output_type": "execute_result"
    }
   ],
   "source": [
    "alpha = 1\n",
    "beta = 20\n",
    "C_true = (beta**alpha)/gamma(alpha)\n",
    "print 1/C_true\n",
    "\n",
    "#true moments\n",
    "moment1_gamma_true = 1.0*alpha/(beta)\n",
    "moment2_gamma_true = np.sqrt(1.0*alpha/((beta)**2))\n",
    "max_gamma_true = (1.0*(alpha-1))/beta\n",
    "print moment1_gamma_true\n",
    "print moment2_gamma_true\n",
    "print max_gamma_true\n",
    "bound_gamma = [0, moment1_gamma_true + 10*moment2_gamma_true]\n",
    "delta_gamma = 0.0001\n",
    "grid_gamma = np.arange(bound_gamma[0], bound_gamma[1], delta_gamma)\n",
    "\n",
    "compute_on_grid(grid_gamma, delta_gamma, unnormalized_gamma, [alpha,beta])"
   ]
  },
  {
   "cell_type": "markdown",
   "metadata": {},
   "source": [
    "### Student Distribution "
   ]
  },
  {
   "cell_type": "code",
   "execution_count": 7,
   "metadata": {},
   "outputs": [],
   "source": [
    "def student_distribution(tetha, params):\n",
    "    d = params[0]\n",
    "    mu = params[1]\n",
    "    sigma = params[2]\n",
    "    return (1 + ((tetha-mu)**2)/(d*sigma*sigma))**(-0.5*(d+1))"
   ]
  },
  {
   "cell_type": "code",
   "execution_count": 9,
   "metadata": {},
   "outputs": [
    {
     "data": {
      "text/plain": [
       "(17.0769552539719,\n",
       " 2.996465848361892,\n",
       " 29.065943895712596,\n",
       " 1641.4291745172254,\n",
       " 2.999999999999787)"
      ]
     },
     "execution_count": 9,
     "metadata": {},
     "output_type": "execute_result"
    },
    {
     "data": {
      "image/png": "[encoded data removed]",
      "text/plain": [
       "<Figure size 432x288 with 1 Axes>"
      ]
     },
     "metadata": {},
     "output_type": "display_data"
    }
   ],
   "source": [
    "d = 50\n",
    "mu = 3\n",
    "sigma = 10\n",
    "bound_student = [mu-1*sigma, mu+1*sigma]\n",
    "delta_student = 0.01\n",
    "grid_student = np.arange(bound_student[0],bound_student[1], delta_student)\n",
    "plt.plot(grid_student, student_distribution(grid_student, [d,mu,sigma]))\n",
    "compute_on_grid(grid_student, delta_student, student_distribution, [d,mu,sigma])"
   ]
  },
  {
   "cell_type": "markdown",
   "metadata": {},
   "source": [
    "### Section 2"
   ]
  },
  {
   "cell_type": "code",
   "execution_count": 247,
   "metadata": {},
   "outputs": [],
   "source": [
    "def gamma_normal(tetha,params):\n",
    "    mu = tetha[0]\n",
    "    beta = tetha[1]\n",
    "    a = params[0]\n",
    "    b = params[1]\n",
    "    lamda = params[2]\n",
    "    mu0 = params[3]\n",
    "    C = (b**a)*np.sqrt(lamda)/(gamma(a)*np.sqrt(2*np.pi))\n",
    "    return C*(beta**(a-0.5))*np.exp(-b*beta - 0.5*lamda*beta*(mu-mu0)**2)"
   ]
  },
  {
   "cell_type": "code",
   "execution_count": 265,
   "metadata": {},
   "outputs": [],
   "source": [
    "def compute_posterior(X, a=0.0001, b=0.0001, lamda=0.0001, mu0=0):\n",
    "    x_mean = np.mean(X)\n",
    "    s = np.var(X)\n",
    "\n",
    "    n = len(X)\n",
    "    a_new = a + 0.5*n\n",
    "    b_new = b + 0.5*(n*s + lamda*n*((x_mean-mu0)**2)/(lamda+n))\n",
    "    lamda_new = lamda+n\n",
    "    mu_new = (lamda*mu0 + np.sum(X))/lamda_new\n",
    "    return a_new, b_new, lamda_new, mu_new"
   ]
  },
  {
   "cell_type": "code",
   "execution_count": 266,
   "metadata": {},
   "outputs": [],
   "source": [
    "def compute_bound(a,b,lamda,mu0):\n",
    "    beta_mean = a/b\n",
    "    beta_var = a/(b**2)\n",
    "    beta_sigma = np.sqrt(beta_var)\n",
    "    \n",
    "    sigma = np.sqrt((1/(lamda*beta_mean)))\n",
    "    bound_mu = [mu0-3*sigma, mu0 + 3*sigma]\n",
    "    bound_beta = [beta_mean - 3*beta_sigma, beta_mean + 3*beta_sigma]\n",
    "    return bound_mu, bound_beta"
   ]
  },
  {
   "cell_type": "code",
   "execution_count": 267,
   "metadata": {},
   "outputs": [],
   "source": [
    "def compute_on_grid(grid, delta, func, func_params):\n",
    "    #compute normalization constant C\n",
    "    C = 0\n",
    "    f_ts = []\n",
    "    for t in grid:\n",
    "        f_t = func(t, func_params)\n",
    "        C += f_t*delta\n",
    "        f_ts.append(f_t)\n",
    "        \n",
    "    #compute first moment\n",
    "    moment1 = 0\n",
    "    for i,t  in enumerate(grid):\n",
    "        f_t = f_ts[i]\n",
    "        p_t = f_t/C\n",
    "        moment1 += t*p_t*delta\n",
    "    \n",
    "    #compute other moment\n",
    "    moment2 = 0\n",
    "    moment4 = 0\n",
    "    for i,t  in enumerate(grid):\n",
    "        f_t = f_ts[i]        \n",
    "        p_t = f_t/C\n",
    "        moment2 += ((t-moment1)**2)*p_t*delta\n",
    "        moment4 += ((t-moment1)**4)*p_t*delta\n",
    "    \n",
    "    max_f = grid[np.argmax(f_ts)]\n",
    "    return C, moment1, moment2, moment4, max_f"
   ]
  },
  {
   "cell_type": "code",
   "execution_count": 271,
   "metadata": {},
   "outputs": [
    {
     "name": "stdout",
     "output_type": "stream",
     "text": [
      "100.0001 790.3575694111257 200.0001 3.0455901564713597\n",
      "0.12652513731791978\n",
      "[3.0455901564713597, 0.12652513731791978]\n",
      "[0.03991698868145277, 0.00016008594364724094]\n"
     ]
    }
   ],
   "source": [
    "mu_true = 3.0\n",
    "beta_true = 0.1\n",
    "X = np.random.normal(mu_true, np.sqrt(1/beta_true), size=200)\n",
    "\n",
    "a,b,lamda,mu = compute_posterior(X)\n",
    "n = len(X)\n",
    "print a,b,lamda,mu\n",
    "print a/b\n",
    "\n",
    "#compute the true normalization constant \n",
    "C_true = (gamma(a)/((b**a)*np.sqrt(lamda)))/((gamma(0.0001)/((0.0001**0.0001)*np.sqrt(0.0001)))/((2*np.pi)**(n/2)))\n",
    "true_mean = [mu,a/b]\n",
    "true_variance = [b/(lamda*(a-1)), a/(b**2)]\n",
    "print true_mean\n",
    "print true_variance"
   ]
  },
  {
   "cell_type": "code",
   "execution_count": 269,
   "metadata": {},
   "outputs": [],
   "source": [
    "#computing grid\n",
    "bound_mu, bound_beta = compute_bound(a,b,lamda,mu)\n",
    "delta_mu = 0.05\n",
    "delta_beta = 0.01\n",
    "mu_vals = np.arange(bound_mu[0], bound_mu[1], delta_mu)\n",
    "beta_vals = np.arange(bound_beta[0], bound_beta[1], delta_beta)\n",
    "M = np.meshgrid(mu_vals, beta_vals, indexing='ij')\n",
    "grid = np.vstack([M[0].ravel(), M[1].ravel()]).T\n",
    "delta = delta_mu*delta_beta"
   ]
  },
  {
   "cell_type": "code",
   "execution_count": 270,
   "metadata": {},
   "outputs": [
    {
     "data": {
      "text/plain": [
       "(0.9966139614028482,\n",
       " array([2.99332222, 0.10285212]),\n",
       " array([0.04785171, 0.00010446]),\n",
       " array([6.54201718e-03, 3.20118293e-08]),\n",
       " array([2.9822167 , 0.10201218]))"
      ]
     },
     "execution_count": 270,
     "metadata": {},
     "output_type": "execute_result"
    }
   ],
   "source": [
    "compute_on_grid(grid,delta,gamma_normal, [a,b,lamda,mu])"
   ]
  },
  {
   "cell_type": "code",
   "execution_count": 250,
   "metadata": {},
   "outputs": [
    {
     "name": "stdout",
     "output_type": "stream",
     "text": [
      "0.9901053315476055\n"
     ]
    }
   ],
   "source": [
    "print C"
   ]
  },
  {
   "cell_type": "code",
   "execution_count": null,
   "metadata": {},
   "outputs": [],
   "source": []
  }
 ],
 "metadata": {
  "kernelspec": {
   "display_name": "Python 2",
   "language": "python",
   "name": "python2"
  },
  "language_info": {
   "codemirror_mode": {
    "name": "ipython",
    "version": 2
   },
   "file_extension": ".py",
   "mimetype": "text/x-python",
   "name": "python",
   "nbconvert_exporter": "python",
   "pygments_lexer": "ipython2",
   "version": "2.7.12"
  }
 },
 "nbformat": 4,
 "nbformat_minor": 2
}
