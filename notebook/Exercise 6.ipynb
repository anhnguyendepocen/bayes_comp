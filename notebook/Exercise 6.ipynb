{
 "cells": [
  {
   "cell_type": "code",
   "execution_count": 3,
   "metadata": {},
   "outputs": [],
   "source": [
    "import numpy as np\n",
    "import matplotlib.pyplot as plt"
   ]
  },
  {
   "cell_type": "code",
   "execution_count": 229,
   "metadata": {},
   "outputs": [],
   "source": [
    "#Define the distributions\n",
    "#beta = np.diag(np.array([1,2,3]))\n",
    "beta = (np.array([[1,0.9,0.9], [0.9, 2, 0.9], [0.9,0.9,3]]))\n",
    "idx = np.array([0,2,3])\n",
    "\n",
    "#To choose selected rows and columns\n",
    "#print Betha[idx[None,:],idx]\n",
    "#or\n",
    "#print Betha[np.ix_([1,2,3],idx)]"
   ]
  },
  {
   "cell_type": "code",
   "execution_count": 230,
   "metadata": {},
   "outputs": [
    {
     "name": "stdout",
     "output_type": "stream",
     "text": [
      "[[1.  0.9 0.9]\n",
      " [0.9 2.  0.9]\n",
      " [0.9 0.9 3. ]]\n"
     ]
    }
   ],
   "source": [
    "print beta"
   ]
  },
  {
   "cell_type": "code",
   "execution_count": 231,
   "metadata": {},
   "outputs": [],
   "source": [
    "def unnormalised_gaussian(tetha, params):\n",
    "    beta = params\n",
    "    return np.exp(-0.5*np.dot(tetha.T, np.dot(beta, tetha)))"
   ]
  },
  {
   "cell_type": "raw",
   "metadata": {},
   "source": [
    "#Try plotting the function\n",
    "x = np.arange(-5,5,0.1)\n",
    "y = []\n",
    "for x_i in x:\n",
    "    y += [unnormalised_gaussian(x_i,3)]\n",
    "    \n",
    "plt.plot(x,y)"
   ]
  },
  {
   "cell_type": "code",
   "execution_count": 232,
   "metadata": {},
   "outputs": [],
   "source": [
    "def gibbs_sampling(tetha0, beta, update = 'random', num_iter = 100):\n",
    "    samples = []\n",
    "    dim = beta.shape[0]\n",
    "    full_indexes = np.arange(dim)\n",
    "    cur_tetha = tetha0.copy()\n",
    "    for i in range(num_iter):\n",
    "        #select the coordinate to update\n",
    "        next_index = np.random.randint(dim)\n",
    "        other_indexes = list(full_indexes)\n",
    "        other_indexes.remove(next_index)\n",
    "        other_indexes = np.array(other_indexes)\n",
    "        tetha_1 = cur_tetha[next_index] \n",
    "        tetha_2 = cur_tetha[other_indexes]\n",
    "        beta11 = beta[next_index, next_index]\n",
    "        beta12 = beta[other_indexes[:,None],next_index ].T\n",
    "        mu_post = -np.dot(1/(beta11), np.dot(beta12, tetha_2))\n",
    "        tetha_1_next = np.random.normal(mu_post, 1/np.sqrt(beta11))\n",
    "        cur_tetha[next_index] = tetha_1_next\n",
    "        samples.append(cur_tetha.copy())\n",
    "        \n",
    "    samples = np.vstack(samples)\n",
    "    return samples"
   ]
  },
  {
   "cell_type": "code",
   "execution_count": 233,
   "metadata": {},
   "outputs": [],
   "source": [
    "tetha0 = np.array([0.0,0.0,0.0])\n",
    "num_iter = 5"
   ]
  },
  {
   "cell_type": "markdown",
   "metadata": {},
   "source": [
    "### Perform Gibbs Sampling"
   ]
  },
  {
   "cell_type": "code",
   "execution_count": 234,
   "metadata": {},
   "outputs": [],
   "source": [
    "samples = gibbs_sampling(tetha0, beta, 'random', 4000)"
   ]
  },
  {
   "cell_type": "markdown",
   "metadata": {},
   "source": [
    "### Check the statistics"
   ]
  },
  {
   "cell_type": "code",
   "execution_count": 235,
   "metadata": {
    "scrolled": true
   },
   "outputs": [
    {
     "name": "stdout",
     "output_type": "stream",
     "text": [
      "The mean is:0.006235088413566111\n",
      "The variance of 0 is 1.9020191492806209\n",
      "The variance of 1 is 0.823595400691325\n",
      "The variance of 2 is 0.4415735898928347\n"
     ]
    }
   ],
   "source": [
    "print 'The mean is:' + str(np.mean(samples))\n",
    "for i in range(samples.shape[1]):\n",
    "    print 'The variance of ' + str(i) + ' is ' + str(np.var(samples[:,i]))"
   ]
  },
  {
   "cell_type": "markdown",
   "metadata": {},
   "source": [
    "### Check the autocorrelation "
   ]
  },
  {
   "cell_type": "code",
   "execution_count": 236,
   "metadata": {},
   "outputs": [],
   "source": [
    "def calc_autocorrelation(samples,d=1):\n",
    "    mu = np.mean(samples)\n",
    "    nom = 0\n",
    "    n = len(samples)\n",
    "    denom = np.var(samples)*n\n",
    "    for i in range(n-d):\n",
    "        nom += (samples[i]-mu)*(samples[i+d]-mu)\n",
    "    return nom/denom"
   ]
  },
  {
   "cell_type": "code",
   "execution_count": 237,
   "metadata": {},
   "outputs": [],
   "source": [
    "def statistics_1(samples):\n",
    "    #calculate the sum for each of the sample\n",
    "    new_samples = [np.sum(sample) for sample in samples]\n",
    "    return new_samples\n",
    "\n",
    "def statistics_2(samples):\n",
    "    new_samples = [np.dot(sample, sample) for sample in samples]\n",
    "    return new_samples\n",
    "\n",
    "def statistics_4(samples):\n",
    "    new_samples = [sample[0]**2 for sample in samples]\n",
    "    return new_samples\n"
   ]
  },
  {
   "cell_type": "code",
   "execution_count": 238,
   "metadata": {},
   "outputs": [],
   "source": [
    "sample_statistic1 = statistics_1(samples)\n",
    "sample_statistic2 = statistics_2(samples)\n",
    "sample_statistic4 = statistics_4(samples)\n"
   ]
  },
  {
   "cell_type": "code",
   "execution_count": 243,
   "metadata": {},
   "outputs": [
    {
     "data": {
      "text/plain": [
       "[<matplotlib.lines.Line2D at 0x7f2ebfc22250>]"
      ]
     },
     "execution_count": 243,
     "metadata": {},
     "output_type": "execute_result"
    },
    {
     "data": {
      "image/png": "[encoded data removed]",
      "text/plain": [
       "<Figure size 432x288 with 1 Axes>"
      ]
     },
     "metadata": {},
     "output_type": "display_data"
    }
   ],
   "source": [
    "autocorrs = []\n",
    "for d in range(100):\n",
    "    autocorrs.append(calc_autocorrelation(sample_statistic1,d))\n",
    "plt.plot(autocorrs)"
   ]
  },
  {
   "cell_type": "code",
   "execution_count": 195,
   "metadata": {},
   "outputs": [],
   "source": [
    "import scipy.stats"
   ]
  }
 ],
 "metadata": {
  "kernelspec": {
   "display_name": "Python 2",
   "language": "python",
   "name": "python2"
  },
  "language_info": {
   "codemirror_mode": {
    "name": "ipython",
    "version": 2
   },
   "file_extension": ".py",
   "mimetype": "text/x-python",
   "name": "python",
   "nbconvert_exporter": "python",
   "pygments_lexer": "ipython2",
   "version": "2.7.12"
  }
 },
 "nbformat": 4,
 "nbformat_minor": 2
}
