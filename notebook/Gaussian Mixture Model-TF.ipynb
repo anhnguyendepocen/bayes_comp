{
 "cells": [
  {
   "cell_type": "code",
   "execution_count": 1,
   "metadata": {
    "scrolled": true
   },
   "outputs": [],
   "source": [
    "import numpy as np\n",
    "import matplotlib.pyplot as plt\n",
    "from scipy.stats import multivariate_normal as mvn"
   ]
  },
  {
   "cell_type": "markdown",
   "metadata": {},
   "source": [
    "### Plot Gaussian"
   ]
  },
  {
   "cell_type": "code",
   "execution_count": 2,
   "metadata": {},
   "outputs": [],
   "source": [
    "from matplotlib.patches import Ellipse    \n",
    "        \n",
    "def plot_gaussian(mus, sigmas, ax, weights = None):\n",
    "    K = len(mus)\n",
    "    if weights is None:\n",
    "        weights = np.ones(K)/K\n",
    "    \n",
    "    for k in range(len(mus)):\n",
    "        sigma = sigmas[k]\n",
    "        val,vec = np.linalg.eig(sigma)\n",
    "        angle = np.arctan2(vec[0,1], vec[0,0])\n",
    "        ells = Ellipse(xy=mus[k],\n",
    "                width=4.*np.sqrt(val[0]), height=4.*np.sqrt(val[1]),\n",
    "                angle=np.rad2deg(angle))\n",
    "        #ells.set_clip_box(a.bbox)\n",
    "        ells.set_alpha(weights[k])\n",
    "        ax.add_artist(ells)\n",
    "    plt.xlim(-10, 10)\n",
    "    plt.ylim(-10, 10)\n",
    "    return"
   ]
  },
  {
   "cell_type": "markdown",
   "metadata": {},
   "source": [
    "### Generate Data"
   ]
  },
  {
   "cell_type": "code",
   "execution_count": 3,
   "metadata": {},
   "outputs": [
    {
     "data": {
      "text/plain": [
       "[<matplotlib.lines.Line2D at 0x7fa42bc1fa90>]"
      ]
     },
     "execution_count": 3,
     "metadata": {},
     "output_type": "execute_result"
    },
    {
     "data": {
      "image/png": "[encoded data removed]",
      "text/plain": [
       "<Figure size 432x288 with 1 Axes>"
      ]
     },
     "metadata": {},
     "output_type": "display_data"
    }
   ],
   "source": [
    "D = 2\n",
    "mu1 = np.array([3., -4.])\n",
    "sigma1 = np.diag([1., 5.])\n",
    "\n",
    "mu2 = np.array([-3., -3.])\n",
    "sigma2 = np.diag([4., 1.])\n",
    "\n",
    "N = 40\n",
    "\n",
    "sample1 = np.random.multivariate_normal(mu1, cov = sigma1, size = N/2)\n",
    "sample2 = np.random.multivariate_normal(mu2, cov = sigma2, size = N/2)\n",
    "samples = np.vstack([sample1, sample2])\n",
    "fig,ax = plt.subplots()\n",
    "plot_gaussian([mu1,mu2],[sigma1,sigma2],ax)\n",
    "plt.plot(sample1[:,0],sample1[:,1],'*')\n",
    "plt.plot(sample2[:,0],sample2[:,1],'*')\n"
   ]
  },
  {
   "cell_type": "markdown",
   "metadata": {},
   "source": [
    "### Gaussian Mixture Model"
   ]
  },
  {
   "cell_type": "code",
   "execution_count": 4,
   "metadata": {},
   "outputs": [],
   "source": [
    "import time"
   ]
  },
  {
   "cell_type": "code",
   "execution_count": 5,
   "metadata": {},
   "outputs": [],
   "source": [
    "K = 3\n",
    "pis = np.ones(K)/K\n",
    "mus = np.random.rand(K,D)\n",
    "sigmas = np.array([np.eye(D) for i in range(K)])\n",
    "zs = np.zeros((N,K))"
   ]
  },
  {
   "cell_type": "code",
   "execution_count": 6,
   "metadata": {
    "scrolled": true
   },
   "outputs": [
    {
     "name": "stdout",
     "output_type": "stream",
     "text": [
      "[[ 1.8107879  -4.03195837]\n",
      " [-0.96843402 -3.01080916]\n",
      " [-3.013334   -2.77695737]]\n"
     ]
    },
    {
     "ename": "AttributeError",
     "evalue": "'numpy.ndarray' object has no attribute 'add_artist'",
     "output_type": "error",
     "traceback": [
      "\u001b[0;31m---------------------------------------------------------------------------\u001b[0m",
      "\u001b[0;31mAttributeError\u001b[0m                            Traceback (most recent call last)",
      "\u001b[0;32m<ipython-input-6-2882182e6a61>\u001b[0m in \u001b[0;36m<module>\u001b[0;34m()\u001b[0m\n\u001b[1;32m     20\u001b[0m     \u001b[0;32mprint\u001b[0m \u001b[0mmus\u001b[0m\u001b[0;34m\u001b[0m\u001b[0m\n\u001b[1;32m     21\u001b[0m \u001b[0;34m\u001b[0m\u001b[0m\n\u001b[0;32m---> 22\u001b[0;31m     \u001b[0mplot_gaussian\u001b[0m\u001b[0;34m(\u001b[0m\u001b[0mmus\u001b[0m\u001b[0;34m,\u001b[0m\u001b[0msigmas\u001b[0m\u001b[0;34m,\u001b[0m\u001b[0mpis\u001b[0m\u001b[0;34m)\u001b[0m\u001b[0;34m\u001b[0m\u001b[0m\n\u001b[0m\u001b[1;32m     23\u001b[0m     \u001b[0mplt\u001b[0m\u001b[0;34m.\u001b[0m\u001b[0mplot\u001b[0m\u001b[0;34m(\u001b[0m\u001b[0msample1\u001b[0m\u001b[0;34m[\u001b[0m\u001b[0;34m:\u001b[0m\u001b[0;34m,\u001b[0m\u001b[0;36m0\u001b[0m\u001b[0;34m]\u001b[0m\u001b[0;34m,\u001b[0m\u001b[0msample1\u001b[0m\u001b[0;34m[\u001b[0m\u001b[0;34m:\u001b[0m\u001b[0;34m,\u001b[0m\u001b[0;36m1\u001b[0m\u001b[0;34m]\u001b[0m\u001b[0;34m,\u001b[0m\u001b[0;34m'r*'\u001b[0m\u001b[0;34m,\u001b[0m\u001b[0mzorder\u001b[0m \u001b[0;34m=\u001b[0m \u001b[0;36m0\u001b[0m\u001b[0;34m)\u001b[0m\u001b[0;34m\u001b[0m\u001b[0m\n\u001b[1;32m     24\u001b[0m     \u001b[0mplt\u001b[0m\u001b[0;34m.\u001b[0m\u001b[0mplot\u001b[0m\u001b[0;34m(\u001b[0m\u001b[0msample2\u001b[0m\u001b[0;34m[\u001b[0m\u001b[0;34m:\u001b[0m\u001b[0;34m,\u001b[0m\u001b[0;36m0\u001b[0m\u001b[0;34m]\u001b[0m\u001b[0;34m,\u001b[0m\u001b[0msample2\u001b[0m\u001b[0;34m[\u001b[0m\u001b[0;34m:\u001b[0m\u001b[0;34m,\u001b[0m\u001b[0;36m1\u001b[0m\u001b[0;34m]\u001b[0m\u001b[0;34m,\u001b[0m\u001b[0;34m'y*'\u001b[0m\u001b[0;34m,\u001b[0m\u001b[0mzorder\u001b[0m \u001b[0;34m=\u001b[0m \u001b[0;36m0\u001b[0m\u001b[0;34m)\u001b[0m\u001b[0;34m\u001b[0m\u001b[0m\n",
      "\u001b[0;32m<ipython-input-2-cd5e3752b5ab>\u001b[0m in \u001b[0;36mplot_gaussian\u001b[0;34m(mus, sigmas, ax, weights)\u001b[0m\n\u001b[1;32m     15\u001b[0m         \u001b[0;31m#ells.set_clip_box(a.bbox)\u001b[0m\u001b[0;34m\u001b[0m\u001b[0;34m\u001b[0m\u001b[0m\n\u001b[1;32m     16\u001b[0m         \u001b[0mells\u001b[0m\u001b[0;34m.\u001b[0m\u001b[0mset_alpha\u001b[0m\u001b[0;34m(\u001b[0m\u001b[0mweights\u001b[0m\u001b[0;34m[\u001b[0m\u001b[0mk\u001b[0m\u001b[0;34m]\u001b[0m\u001b[0;34m)\u001b[0m\u001b[0;34m\u001b[0m\u001b[0m\n\u001b[0;32m---> 17\u001b[0;31m         \u001b[0max\u001b[0m\u001b[0;34m.\u001b[0m\u001b[0madd_artist\u001b[0m\u001b[0;34m(\u001b[0m\u001b[0mells\u001b[0m\u001b[0;34m)\u001b[0m\u001b[0;34m\u001b[0m\u001b[0m\n\u001b[0m\u001b[1;32m     18\u001b[0m     \u001b[0mplt\u001b[0m\u001b[0;34m.\u001b[0m\u001b[0mxlim\u001b[0m\u001b[0;34m(\u001b[0m\u001b[0;34m-\u001b[0m\u001b[0;36m10\u001b[0m\u001b[0;34m,\u001b[0m \u001b[0;36m10\u001b[0m\u001b[0;34m)\u001b[0m\u001b[0;34m\u001b[0m\u001b[0m\n\u001b[1;32m     19\u001b[0m     \u001b[0mplt\u001b[0m\u001b[0;34m.\u001b[0m\u001b[0mylim\u001b[0m\u001b[0;34m(\u001b[0m\u001b[0;34m-\u001b[0m\u001b[0;36m10\u001b[0m\u001b[0;34m,\u001b[0m \u001b[0;36m10\u001b[0m\u001b[0;34m)\u001b[0m\u001b[0;34m\u001b[0m\u001b[0m\n",
      "\u001b[0;31mAttributeError\u001b[0m: 'numpy.ndarray' object has no attribute 'add_artist'"
     ]
    }
   ],
   "source": [
    "from IPython.display import clear_output\n",
    "for j in range(20):    \n",
    "    ###  E-Step\n",
    "    for i in range(N):\n",
    "        for k in range(K):\n",
    "            zs[i,k] = pis[k]*mvn.pdf(samples[i,:],mus[k], sigmas[k])\n",
    "\n",
    "        zs[i,:] = zs[i,:]/np.sum(zs[i,:])\n",
    "    Ns = np.sum(zs,axis=0)\n",
    "\n",
    "    ### M-Step\n",
    "    for k in range(K):\n",
    "        mus[k,:] = np.dot(zs[:,k].T, samples)/Ns[k]\n",
    "        sigma_k = np.zeros((D,D))\n",
    "        for i in range(N):\n",
    "            sigma_k += zs[i,k]*np.outer(samples[i,:]-mus[k,:], samples[i,:].T-mus[k,:].T)\n",
    "        sigma_k /= Ns[k]\n",
    "        sigmas[k,:] = sigma_k\n",
    "        pis[k] = Ns[k]/N \n",
    "    print mus\n",
    "    \n",
    "    plot_gaussian(mus,sigmas,pis)\n",
    "    plt.plot(sample1[:,0],sample1[:,1],'r*',zorder = 0)\n",
    "    plt.plot(sample2[:,0],sample2[:,1],'y*',zorder = 0)\n",
    "    plt.show()\n",
    "    #raw_input()\n",
    "    clear_output(wait=True)\n",
    "    \n",
    "    time.sleep(0.1)\n"
   ]
  },
  {
   "cell_type": "markdown",
   "metadata": {},
   "source": [
    "### Bayesian Gaussian Mixture "
   ]
  },
  {
   "cell_type": "code",
   "execution_count": null,
   "metadata": {
    "scrolled": true
   },
   "outputs": [],
   "source": [
    "from sklearn.mixture import BayesianGaussianMixture"
   ]
  },
  {
   "cell_type": "code",
   "execution_count": null,
   "metadata": {},
   "outputs": [],
   "source": [
    "bgmm = BayesianGaussianMixture(n_components=4, n_init=5)\n",
    "bgmm.fit(samples)\n",
    "plot_gaussian(bgmm.means_, bgmm.covariances_, bgmm.weights_)\n",
    "plt.plot(sample1[:,0],sample1[:,1],'r*',zorder = 0)\n",
    "plt.plot(sample2[:,0],sample2[:,1],'y*',zorder = 0)"
   ]
  },
  {
   "cell_type": "markdown",
   "metadata": {},
   "source": [
    "### Implement different techniques: MCMC sampling, Laplace Approximations, and Gaussian Variational Approximations "
   ]
  },
  {
   "cell_type": "markdown",
   "metadata": {},
   "source": [
    "### Generate Data"
   ]
  },
  {
   "cell_type": "code",
   "execution_count": 7,
   "metadata": {
    "scrolled": true
   },
   "outputs": [
    {
     "data": {
      "image/png": "[encoded data removed]",
      "text/plain": [
       "<Figure size 432x288 with 1 Axes>"
      ]
     },
     "metadata": {},
     "output_type": "display_data"
    }
   ],
   "source": [
    "import numpy as np\n",
    "import matplotlib.pyplot as plt\n",
    "D = 2\n",
    "K = 4\n",
    "mu1 = np.array([5., 3.])\n",
    "sigma1 = np.diag([1., 5.])\n",
    "\n",
    "mu2 = np.array([-3., -2.])\n",
    "sigma2 = np.diag([4., 1.])\n",
    "\n",
    "N = 10\n",
    "\n",
    "sample1 = np.random.multivariate_normal(mu1, cov = sigma1, size = N/4)\n",
    "sample2 = np.random.multivariate_normal(mu2, cov = sigma2, size = 3*N/4)\n",
    "samples = np.vstack([sample1, sample2])\n",
    "fig,ax = plt.subplots()\n",
    "plot_gaussian([mu1,mu2],[sigma1,sigma2],ax)\n",
    "#plt.hist(sample1)\n",
    "#plt.hist(sample2)\n"
   ]
  },
  {
   "cell_type": "code",
   "execution_count": 8,
   "metadata": {},
   "outputs": [
    {
     "name": "stdout",
     "output_type": "stream",
     "text": [
      "\n",
      "WARNING: The TensorFlow contrib module will not be included in TensorFlow 2.0.\n",
      "For more information, please see:\n",
      "  * https://github.com/tensorflow/community/blob/master/rfcs/20180907-contrib-sunset.md\n",
      "  * https://github.com/tensorflow/addons\n",
      "If you depend on functionality not listed there, please file an issue.\n",
      "\n"
     ]
    }
   ],
   "source": [
    "from scipy.stats import multivariate_normal as mvn\n",
    "from scipy.stats import dirichlet, invwishart, wishart\n",
    "from tensorflow_probability import distributions as tfd\n"
   ]
  },
  {
   "cell_type": "code",
   "execution_count": 9,
   "metadata": {},
   "outputs": [],
   "source": [
    "import tensorflow as tf"
   ]
  },
  {
   "cell_type": "code",
   "execution_count": 10,
   "metadata": {},
   "outputs": [],
   "source": [
    "sess = tf.InteractiveSession()\n"
   ]
  },
  {
   "cell_type": "code",
   "execution_count": 11,
   "metadata": {},
   "outputs": [],
   "source": [
    "def log_gaussian_prior(mu_0 = tf.zeros(D), sigma_0 = tf.eye(D)):\n",
    "    func = lambda mu: tfd.MultivariateNormalFullCovariance(loc=mu_0, covariance_matrix = sigma_0).log_prob(mu)\n",
    "    return func\n",
    "    \n",
    "def log_dirichlet_prior(alphas = tf.ones(K)/K):\n",
    "    def func( pis):\n",
    "        return tfd.Dirichlet(alphas).log_prob(pis)\n",
    "    return func\n",
    "    \n",
    "def log_wishart_prior(df = D, scale = tf.eye(D)):\n",
    "    func = lambda sigma: tfd.Wishart(df,scale).log_prob(sigma)\n",
    "    return func"
   ]
  },
  {
   "cell_type": "code",
   "execution_count": 12,
   "metadata": {},
   "outputs": [],
   "source": [
    "def log_joint_prior():\n",
    "    log_prior_mu  = log_gaussian_prior()\n",
    "    log_prior_pis = log_dirichlet_prior()\n",
    "    log_prior_sigma = log_wishart_prior()\n",
    "    func = lambda mus, sigmas, pis: np.sum([log_prior_mu(mu) for mu in mus]) + log_prior_pis(pis) + np.sum([log_prior_sigma(sigma) for sigma in sigmas])\n",
    "    return func\n",
    "\n",
    "def log_likelihood(x):\n",
    "    func = lambda mus, sigmas, pis: tf.log(tf.reduce_sum([pis[k]*tfd.MultivariateNormalFullCovariance(mus[k], sigmas[k]).prob(x) for k in range(len(pis))]))\n",
    "    return func\n",
    "    \n",
    "def log_posterior(data):\n",
    "    log_prior = log_joint_prior()\n",
    "    \n",
    "    def func(theta):\n",
    "        mus, sigmas, pis = theta[0], theta[1], theta[2]\n",
    "        val = log_prior(mus, sigmas, pis)\n",
    "        print val.dtype\n",
    "        for x in data:\n",
    "            print 'yes'\n",
    "            log_likelihood_datapoint = log_likelihood(x)\n",
    "            b = log_likelihood_datapoint(mus, sigmas, pis)\n",
    "            b = tf.cast(b,tf.float32)\n",
    "            val = val + b#log_likelihood_datapoint(mus, sigmas, pis)\n",
    "        \n",
    "        return val\n",
    "    \n",
    "    return func"
   ]
  },
  {
   "cell_type": "markdown",
   "metadata": {},
   "source": [
    "### Plotting the cross-section of the posteriors"
   ]
  },
  {
   "cell_type": "code",
   "execution_count": 15,
   "metadata": {},
   "outputs": [],
   "source": [
    "sigmas = np.array([np.eye(D), np.eye(D),np.eye(D),np.eye(D)])\n",
    "mus = np.array([np.array([10., 10.]), np.array([-10., -10.]),np.array([5., 10.]), np.array([-10., -5.])])\n",
    "pis = np.array([0.25, 0.25,0.25, 0.25])\n",
    "theta0 = [mus, sigmas, pis]"
   ]
  },
  {
   "cell_type": "code",
   "execution_count": 16,
   "metadata": {},
   "outputs": [],
   "source": [
    "sigmas_true = np.array([sigma1, sigma2])\n",
    "mus_true = np.array([mu1, mu2])\n",
    "pis_true = np.array([0.25, 0.75])\n",
    "\n",
    "log_posterior_data = log_posterior(samples)"
   ]
  },
  {
   "cell_type": "code",
   "execution_count": 19,
   "metadata": {},
   "outputs": [
    {
     "name": "stdout",
     "output_type": "stream",
     "text": [
      "<dtype: 'float32'>\n",
      "yes\n",
      "yes\n",
      "yes\n",
      "yes\n",
      "yes\n",
      "yes\n",
      "yes\n",
      "yes\n",
      "yes\n"
     ]
    }
   ],
   "source": [
    "post = log_posterior_data(theta0)"
   ]
  },
  {
   "cell_type": "code",
   "execution_count": 24,
   "metadata": {},
   "outputs": [
    {
     "data": {
      "text/plain": [
       "-727.9974"
      ]
     },
     "execution_count": 24,
     "metadata": {},
     "output_type": "execute_result"
    }
   ],
   "source": [
    "post.eval(feed_dict={''})"
   ]
  },
  {
   "cell_type": "raw",
   "metadata": {},
   "source": [
    "#### Posterior of Pis \n",
    "\n",
    "pis_proposal = np.arange(0.1,0.8,0.02)\n",
    "post = []\n",
    "for pis in pis_proposal:\n",
    "    pis = np.array([pis, 1-pis])\n",
    "    post.append(log_posterior_data([mus_true, sigmas_true, pis]))\n",
    "\n",
    "plt.figure()\n",
    "plt.plot(pis_proposal, post, '*')\n",
    "\n",
    "#### Posterior of Mus \n",
    "\n",
    "mus_proposal = np.arange(-5,10,0.04)\n",
    "post = []\n",
    "for mu in mus_proposal:\n",
    "    mus = np.array([mu1,mu])\n",
    "    post.append(log_posterior_data([mus, sigmas_true, pis_true]))\n",
    "\n",
    "plt.figure()\n",
    "plt.plot(mus_proposal, post, '*')\n",
    "\n",
    "#### Posterior of Sigmas \n",
    "\n",
    "sigmas_proposal = np.arange(0.1,20,0.1)\n",
    "post = []\n",
    "for sigma in sigmas_proposal:\n",
    "    sigmas = np.array([sigma1,np.array([[sigma]])])\n",
    "    post.append(log_posterior_data([mus_true, sigmas, pis_true]))\n",
    "    \n",
    "plt.figure()\n",
    "plt.plot(sigmas_proposal, post, '*')\n",
    "\n",
    "print sigma1,sigma2\n",
    "\n",
    "sigmas_proposal[np.argmax(post)]"
   ]
  },
  {
   "cell_type": "code",
   "execution_count": 16,
   "metadata": {},
   "outputs": [],
   "source": [
    "def random_move(theta, lamda = 0.05):\n",
    "    mus, sigmas, pis = np.copy(theta[0]), np.copy(theta[1]), np.copy(theta[2])\n",
    "    for k in range(len(mus)):\n",
    "        delta_mu = lamda*mvn.rvs(mean=np.zeros(D))\n",
    "        mus[k] += delta_mu\n",
    "        \n",
    "        sigmas[k] = invwishart.rvs(df = 600., scale = 600*sigmas[k])\n",
    "        #sigmas[k] += delta_sigma\n",
    "        #sigmas[k]  = np.exp(np.log(sigmas[k]) + 2*lamda*np.random.normal())\n",
    "        \n",
    "        delta_pis = lamda*dirichlet.rvs(np.ones(K)/K).flatten()\n",
    "        pis += delta_pis\n",
    "    \n",
    "    pis = pis / np.sum(pis)\n",
    "    \n",
    "    return [mus, sigmas, pis]"
   ]
  },
  {
   "cell_type": "markdown",
   "metadata": {},
   "source": [
    "### Do MCMC on the unnormalized posterior"
   ]
  },
  {
   "cell_type": "code",
   "execution_count": 450,
   "metadata": {},
   "outputs": [],
   "source": [
    "def MH_sampling(func,theta0, n = 1000, lamda= 0.05):\n",
    "    samples = [theta0]\n",
    "    cur_theta = theta0\n",
    "    accept_num = 0\n",
    "    for i in range(n):\n",
    "        cur_func_value = func(cur_theta)\n",
    "        #Proposal distribution\n",
    "        new_theta = random_move(cur_theta,lamda)\n",
    "\n",
    "        new_func_value = func(new_theta)\n",
    "\n",
    "        #decide whether to accept or reject\n",
    "        accept_threshold = np.exp(new_func_value-cur_func_value)\n",
    "\n",
    "        random_num = np.random.rand()\n",
    "        if random_num < accept_threshold: #equivalent to the above\n",
    "            samples.append(new_theta)\n",
    "            cur_theta = new_theta\n",
    "            accept_num += 1\n",
    "            print 'accept'\n",
    "        else:\n",
    "            samples.append(cur_theta)\n",
    "            \n",
    "        if i%10 == 0: print i\n",
    "    \n",
    "    return (samples), 1.0*accept_num/n"
   ]
  },
  {
   "cell_type": "code",
   "execution_count": 452,
   "metadata": {},
   "outputs": [],
   "source": [
    "from IPython.display import clear_output"
   ]
  },
  {
   "cell_type": "code",
   "execution_count": 453,
   "metadata": {
    "scrolled": true
   },
   "outputs": [
    {
     "name": "stdout",
     "output_type": "stream",
     "text": [
      "0.02925\n"
     ]
    }
   ],
   "source": [
    "posterior_samples, success_rate = MH_sampling(log_posterior_data, theta0, n = 4000, lamda = 0.1)\n",
    "clear_output()\n",
    "print success_rate"
   ]
  },
  {
   "cell_type": "code",
   "execution_count": 454,
   "metadata": {},
   "outputs": [],
   "source": [
    "samples_mus = []\n",
    "samples_sigmas = []\n",
    "samples_pis = []\n",
    "\n",
    "for sample in posterior_samples:\n",
    "    samples_mus.append(sample[0])\n",
    "    samples_sigmas.append(sample[1])\n",
    "    samples_pis.append(sample[2])"
   ]
  },
  {
   "cell_type": "code",
   "execution_count": 455,
   "metadata": {},
   "outputs": [
    {
     "name": "stdout",
     "output_type": "stream",
     "text": [
      "[[ 9.4798732   9.71124622]\n",
      " [-9.86184596 -9.50564643]\n",
      " [ 4.51188032  6.57828327]\n",
      " [-6.51560007 -3.21434003]]\n",
      "[[[ 0.29761399  0.1037639 ]\n",
      "  [ 0.1037639   1.44513816]]\n",
      "\n",
      " [[ 1.13379088  0.52366492]\n",
      "  [ 0.52366492  2.01064631]]\n",
      "\n",
      " [[ 0.63994865  0.95664691]\n",
      "  [ 0.95664691  4.69362593]]\n",
      "\n",
      " [[47.27229626 15.42335304]\n",
      "  [15.42335304  6.3373299 ]]]\n",
      "[0.06180786 0.05401991 0.13955565 0.74461658]\n",
      "[5. 3.] [-3. -2.]\n",
      "[[1. 0.]\n",
      " [0. 5.]] [[4. 0.]\n",
      " [0. 1.]]\n"
     ]
    }
   ],
   "source": [
    "print np.mean(np.array(samples_mus[2000:]), axis=0)\n",
    "\n",
    "print np.mean(np.array(samples_sigmas[2000:]), axis=0)\n",
    "\n",
    "print np.mean(np.array(samples_pis[2000:]), axis=0)\n",
    "\n",
    "print mu1, mu2\n",
    "\n",
    "print sigma1, sigma2"
   ]
  },
  {
   "cell_type": "code",
   "execution_count": 456,
   "metadata": {},
   "outputs": [
    {
     "data": {
      "text/plain": [
       "[<matplotlib.lines.Line2D at 0x7fa6889c6f10>,\n",
       " <matplotlib.lines.Line2D at 0x7fa6889c6110>]"
      ]
     },
     "execution_count": 456,
     "metadata": {},
     "output_type": "execute_result"
    },
    {
     "data": {
      "image/png": "[encoded data removed]",
      "text/plain": [
       "<Figure size 432x288 with 1 Axes>"
      ]
     },
     "metadata": {
      "needs_background": "light"
     },
     "output_type": "display_data"
    }
   ],
   "source": [
    "plt.plot(np.array(samples_mus)[:,1])"
   ]
  },
  {
   "cell_type": "code",
   "execution_count": 396,
   "metadata": {},
   "outputs": [
    {
     "data": {
      "text/plain": [
       "[<matplotlib.lines.Line2D at 0x7fa688278c90>,\n",
       " <matplotlib.lines.Line2D at 0x7fa688278450>]"
      ]
     },
     "execution_count": 396,
     "metadata": {},
     "output_type": "execute_result"
    },
    {
     "data": {
      "image/png": "[encoded data removed]",
      "text/plain": [
       "<Figure size 432x288 with 1 Axes>"
      ]
     },
     "metadata": {
      "needs_background": "light"
     },
     "output_type": "display_data"
    },
    {
     "data": {
      "image/png": "[encoded data removed]",
      "text/plain": [
       "<Figure size 432x288 with 1 Axes>"
      ]
     },
     "metadata": {
      "needs_background": "light"
     },
     "output_type": "display_data"
    }
   ],
   "source": [
    "plt.figure()\n",
    "plt.plot(np.array(samples_sigmas)[:,:,0,0])\n",
    "plt.figure()\n",
    "plt.plot(np.array(samples_sigmas)[:,:,1,1])"
   ]
  },
  {
   "cell_type": "code",
   "execution_count": 397,
   "metadata": {},
   "outputs": [],
   "source": [
    "posterior_samples = posterior_samples[2000:]"
   ]
  },
  {
   "cell_type": "code",
   "execution_count": 433,
   "metadata": {},
   "outputs": [
    {
     "data": {
      "image/png": "[encoded data removed]",
      "text/plain": [
       "<Figure size 432x288 with 1 Axes>"
      ]
     },
     "metadata": {
      "needs_background": "light"
     },
     "output_type": "display_data"
    }
   ],
   "source": [
    "fig, ax = plt.subplots()\n",
    "plt.plot(sample1[:,0],sample1[:,1],'*')\n",
    "plt.plot(sample2[:,0],sample2[:,1],'*')\n",
    "for i in range(1):\n",
    "    index = np.random.randint(len(posterior_samples))\n",
    "    sample = posterior_samples[index]\n",
    "    mus, sigmas, pis = sample[0], sample[1], sample[2]\n",
    "    plot_gaussian(mus,sigmas,ax,pis)\n",
    "    \n",
    "plt.show()"
   ]
  },
  {
   "cell_type": "code",
   "execution_count": 382,
   "metadata": {},
   "outputs": [
    {
     "data": {
      "text/plain": [
       "array([[ 5.25376301e+00,  7.41959325e+00],\n",
       "       [ 5.43632133e+00,  1.78844386e+00],\n",
       "       [ 7.21531225e+00,  3.87524463e+00],\n",
       "       [ 5.57769982e+00,  7.37318911e-01],\n",
       "       [ 4.70028621e+00,  9.35727964e-01],\n",
       "       [ 4.39008600e+00,  4.69068283e+00],\n",
       "       [ 6.98331713e+00, -7.76986072e-01],\n",
       "       [ 5.30648041e+00,  4.01401220e+00],\n",
       "       [ 3.90801794e+00,  4.23397214e+00],\n",
       "       [ 4.08152317e+00,  3.91564312e+00],\n",
       "       [ 5.68001541e+00,  4.47426930e+00],\n",
       "       [ 4.38769674e+00,  5.13474419e+00],\n",
       "       [ 5.58540342e+00,  2.52211282e+00],\n",
       "       [ 5.48652080e+00,  5.41210283e+00],\n",
       "       [ 6.32155880e+00,  7.71076940e+00],\n",
       "       [ 6.26227205e+00,  2.20632650e+00],\n",
       "       [ 5.26530499e+00,  1.88581915e+00],\n",
       "       [ 4.05551137e+00,  4.11604455e+00],\n",
       "       [ 4.26654055e+00,  3.68700494e+00],\n",
       "       [ 4.44987256e+00,  2.83748984e+00],\n",
       "       [ 4.68845182e+00,  2.19415601e+00],\n",
       "       [ 5.52601439e+00, -2.17683160e-01],\n",
       "       [ 3.66179426e+00,  1.42540319e+00],\n",
       "       [ 5.74970303e+00,  3.94660968e+00],\n",
       "       [ 4.08165892e+00,  1.47653525e+00],\n",
       "       [ 4.70809824e+00,  4.01824223e+00],\n",
       "       [ 4.47892703e+00,  1.63792686e+00],\n",
       "       [ 5.85753707e+00,  9.11704245e-01],\n",
       "       [ 2.64883276e+00,  3.23500678e+00],\n",
       "       [ 4.65918576e+00,  4.64732943e+00],\n",
       "       [ 4.19599332e+00,  3.65523669e+00],\n",
       "       [ 5.60688031e+00,  5.92428380e+00],\n",
       "       [ 4.77007744e+00, -1.44453547e-01],\n",
       "       [ 6.75347569e+00,  3.09011882e+00],\n",
       "       [ 3.82996653e+00,  1.95960650e+00],\n",
       "       [ 4.23697554e+00,  6.47252845e+00],\n",
       "       [ 5.69048581e+00,  3.95237627e+00],\n",
       "       [ 2.48591494e+00,  2.20602378e+00],\n",
       "       [ 4.57733458e+00,  1.58520319e+00],\n",
       "       [ 3.76138410e+00,  2.35221989e+00],\n",
       "       [ 3.32273860e+00, -2.00959408e-01],\n",
       "       [ 5.10529489e+00,  7.53809490e-01],\n",
       "       [ 5.82323077e+00,  3.30207622e-01],\n",
       "       [ 3.50195440e+00,  1.73161337e+00],\n",
       "       [ 6.64572813e+00,  3.44986061e+00],\n",
       "       [ 4.15678356e+00,  3.38650508e+00],\n",
       "       [ 4.49511979e+00,  2.41389162e+00],\n",
       "       [ 4.68027262e+00,  7.23845660e+00],\n",
       "       [ 4.09545676e+00,  5.06020248e+00],\n",
       "       [ 4.63647489e+00,  2.91256208e+00],\n",
       "       [ 5.22932251e+00,  5.79650488e+00],\n",
       "       [ 5.04636166e+00,  7.23492084e+00],\n",
       "       [ 4.15942766e+00, -7.42440557e-02],\n",
       "       [ 5.86971519e+00,  2.18102470e+00],\n",
       "       [ 4.71772050e+00,  5.32392234e+00],\n",
       "       [ 4.66795050e+00,  1.34131169e+00],\n",
       "       [ 6.92043730e+00,  2.89080708e+00],\n",
       "       [ 5.72229116e+00,  4.84107688e+00],\n",
       "       [ 3.09227274e+00,  5.53492564e+00],\n",
       "       [ 5.45987202e+00,  7.71824798e+00],\n",
       "       [ 5.56273616e+00,  8.22917874e+00],\n",
       "       [ 4.73429204e+00,  2.72139568e+00],\n",
       "       [ 4.76506242e+00,  9.61644005e-01],\n",
       "       [ 4.92576324e+00,  2.52764674e+00],\n",
       "       [ 5.13395674e+00,  5.43445648e+00],\n",
       "       [ 4.60933379e+00,  2.76464177e+00],\n",
       "       [ 4.84698815e+00, -3.83647601e-01],\n",
       "       [ 4.13921512e+00,  4.60316002e+00],\n",
       "       [ 3.87391187e+00,  3.41916359e+00],\n",
       "       [ 5.85110751e+00, -1.88174226e-01],\n",
       "       [ 5.00333200e+00,  3.87392251e+00],\n",
       "       [ 3.56322635e+00,  3.48076891e+00],\n",
       "       [ 4.76558509e+00,  5.29904305e+00],\n",
       "       [ 4.76385833e+00,  3.16610627e+00],\n",
       "       [ 4.59677901e+00,  1.12559550e+00],\n",
       "       [-2.46208011e+00, -1.42902179e+00],\n",
       "       [-5.08147885e+00, -1.57854895e+00],\n",
       "       [-1.19279423e+00, -1.41754056e+00],\n",
       "       [-2.66637993e+00, -3.02539599e+00],\n",
       "       [-2.75517887e+00, -3.42339716e+00],\n",
       "       [-3.41533469e+00, -2.48012764e+00],\n",
       "       [-2.39106935e+00, -1.46902821e+00],\n",
       "       [-3.41646129e+00, -1.31781655e+00],\n",
       "       [-4.00609449e+00, -6.42689433e-01],\n",
       "       [-8.61808941e-01, -1.72104152e+00],\n",
       "       [-1.22873446e+00, -1.93799059e+00],\n",
       "       [-1.76485072e+00, -2.35330495e+00],\n",
       "       [-4.22144492e+00, -1.88338816e+00],\n",
       "       [-4.76165671e+00, -2.68279045e+00],\n",
       "       [-4.26406493e+00, -2.18329401e+00],\n",
       "       [-2.90384679e+00, -2.30783822e+00],\n",
       "       [-4.43397248e-01, -1.13714121e+00],\n",
       "       [-3.95955338e+00, -3.65605905e+00],\n",
       "       [-2.33031435e+00, -6.45362830e-03],\n",
       "       [-6.46584400e+00, -2.83741483e+00],\n",
       "       [-1.85425857e+00, -2.68789616e+00],\n",
       "       [-2.32590325e+00, -3.55515591e+00],\n",
       "       [-2.27559659e+00, -1.69218697e+00],\n",
       "       [-2.26392622e+00, -1.23637417e+00],\n",
       "       [-3.17876705e+00, -2.06099032e+00],\n",
       "       [-1.62056283e+00, -8.32074073e-01],\n",
       "       [-2.47255172e+00, -1.21589784e+00],\n",
       "       [-3.87621936e+00, -9.52231748e-01],\n",
       "       [-2.32644340e+00, -2.91385732e+00],\n",
       "       [-3.93257771e+00, -2.18233112e+00],\n",
       "       [-3.06913255e+00, -1.32704066e+00],\n",
       "       [-3.30982997e+00, -3.03766489e+00],\n",
       "       [-2.64475007e+00, -2.86949023e+00],\n",
       "       [-1.18248877e+00, -8.65836754e-01],\n",
       "       [ 2.54697794e-01, -1.20253667e+00],\n",
       "       [-2.95761492e+00, -9.91821479e-01],\n",
       "       [-2.20944232e+00, -1.59677532e+00],\n",
       "       [ 1.50151925e+00, -1.16071828e+00],\n",
       "       [-2.83564868e+00, -4.97240066e-01],\n",
       "       [-4.37096748e+00, -2.55716128e+00],\n",
       "       [-3.80348143e+00, -1.67962994e+00],\n",
       "       [-7.13879447e+00, -2.00255493e+00],\n",
       "       [-3.33314245e+00, -3.64050161e+00],\n",
       "       [-6.21913527e+00, -1.33573138e+00],\n",
       "       [-2.97159234e+00, -3.54310096e+00],\n",
       "       [-1.41691537e+00, -1.94580468e+00],\n",
       "       [-6.20080539e+00, -3.49513716e+00],\n",
       "       [-3.83191961e+00, -1.69582809e+00],\n",
       "       [-3.14000029e+00, -1.33254979e+00],\n",
       "       [-2.08329406e+00, -1.55383538e+00],\n",
       "       [-1.56722432e+00, -7.38860763e-01],\n",
       "       [-7.36045291e-01, -1.74648606e+00],\n",
       "       [-1.64417590e+00, -2.82020536e+00],\n",
       "       [-8.90812069e-01, -4.29692598e-01],\n",
       "       [-2.55840761e+00, -1.85444153e+00],\n",
       "       [-4.20788176e+00, -3.11217328e+00],\n",
       "       [-4.75534378e+00, -3.88113090e+00],\n",
       "       [-3.57744277e-01, -3.17302309e+00],\n",
       "       [-1.77052933e+00, -2.48833590e-01],\n",
       "       [-4.51157179e+00, -1.36356847e+00],\n",
       "       [-1.79266184e+00, -1.43726104e+00],\n",
       "       [-4.65815821e+00, -2.56235280e+00],\n",
       "       [-7.49671864e+00,  4.32584796e-01],\n",
       "       [-2.76350502e+00, -2.14409130e+00],\n",
       "       [-5.73723803e+00, -4.77652956e-03],\n",
       "       [-4.68681378e+00, -2.40058308e+00],\n",
       "       [-2.13222608e+00, -3.82863918e+00],\n",
       "       [ 3.58871144e-02, -2.07782378e+00],\n",
       "       [ 1.51055779e-01, -2.10029113e+00],\n",
       "       [-5.78218556e+00, -1.58575578e+00],\n",
       "       [-3.55130910e+00, -1.96715478e+00],\n",
       "       [-4.52076354e+00, -2.56551656e+00],\n",
       "       [-2.77743979e+00, -2.44298366e+00],\n",
       "       [-1.97085456e+00, -8.44808877e-01],\n",
       "       [-4.28029902e+00, -2.53210396e+00],\n",
       "       [-4.61448361e+00, -2.82573413e+00],\n",
       "       [-1.53499325e+00, -2.87570883e+00],\n",
       "       [-2.44136876e+00, -2.27458917e+00],\n",
       "       [-4.19738207e+00, -2.57292165e+00],\n",
       "       [-3.18893822e+00, -1.01030073e+00],\n",
       "       [-5.89237184e+00, -1.63717013e+00],\n",
       "       [-4.96445726e+00, -4.61282775e-01],\n",
       "       [-4.26424629e+00, -6.94637878e-01],\n",
       "       [-3.83450598e+00, -1.86671753e+00],\n",
       "       [-5.74402317e+00, -2.94947172e+00],\n",
       "       [-2.57574157e+00, -1.75641865e+00],\n",
       "       [ 1.46257504e+00, -1.65994306e+00],\n",
       "       [-3.25279727e+00, -4.09307546e+00],\n",
       "       [-4.50877727e+00, -3.75620508e+00],\n",
       "       [ 8.66878470e-01, -3.06978399e+00],\n",
       "       [-4.75796919e+00, -1.22412900e+00],\n",
       "       [-1.31437331e+00, -2.28930354e+00],\n",
       "       [-3.63661874e+00, -2.18517411e+00],\n",
       "       [-6.29641718e+00, -4.06853197e+00],\n",
       "       [-1.00180895e+00, -3.17968110e+00],\n",
       "       [-8.86826160e+00, -2.82457411e+00],\n",
       "       [-2.11044861e+00, -2.14807660e+00],\n",
       "       [-2.23458184e+00, -1.49441958e+00],\n",
       "       [-3.26362219e+00, -1.04348421e+00],\n",
       "       [-6.61943210e-01, -1.79285062e+00],\n",
       "       [-1.77863086e+00, -2.27726523e+00],\n",
       "       [-2.94920847e+00, -3.15357997e+00],\n",
       "       [-2.20098037e+00, -1.99623211e+00],\n",
       "       [-4.50364963e+00, -2.16496884e+00],\n",
       "       [-2.57962743e+00, -1.07871592e+00],\n",
       "       [-3.73644851e+00, -1.51296781e+00],\n",
       "       [-1.22951444e+00, -3.67417037e+00],\n",
       "       [-1.60482829e+00, -2.15274105e+00],\n",
       "       [-1.84166849e+00, -2.41109952e+00],\n",
       "       [-2.67332788e+00, -5.06630285e+00],\n",
       "       [-1.48546035e+00, -2.34187717e+00],\n",
       "       [-3.22791611e+00, -2.66248300e+00],\n",
       "       [-3.85924464e+00, -2.14329924e+00],\n",
       "       [-3.60696072e+00, -9.82065360e-01],\n",
       "       [-4.91591380e+00, -1.12077546e+00],\n",
       "       [-7.88327639e+00, -4.26167539e+00],\n",
       "       [-8.37220623e-01, -1.49796801e+00],\n",
       "       [-6.58615576e+00, -5.44960761e-01],\n",
       "       [-1.50149213e+00, -2.70416148e+00],\n",
       "       [-2.07773468e+00, -7.88901965e-01],\n",
       "       [-3.23479895e+00, -1.24919262e+00],\n",
       "       [-4.49424700e+00,  5.50549705e-01],\n",
       "       [-4.64602249e+00, -3.05207326e+00],\n",
       "       [-1.63279644e+00, -2.17190848e+00],\n",
       "       [-1.65311150e+00, -1.82414114e+00],\n",
       "       [ 1.35073192e+00, -6.39481931e-01],\n",
       "       [-2.01372357e+00, -2.59696466e+00],\n",
       "       [-1.54168301e+00, -1.04759898e+00],\n",
       "       [ 5.55721885e-01, -5.02530122e-01],\n",
       "       [-2.92216606e+00, -1.32645444e+00],\n",
       "       [-6.84622001e+00, -3.27195936e+00],\n",
       "       [-3.81185747e+00, -7.12971111e-01],\n",
       "       [-2.02293000e+00, -1.41632771e+00],\n",
       "       [-2.72558847e+00, -2.22999121e+00],\n",
       "       [ 1.73353983e+00, -2.61530260e+00],\n",
       "       [-6.52073512e+00, -2.78232246e+00],\n",
       "       [-2.45750095e+00, -1.77878526e+00],\n",
       "       [-2.88354721e+00, -8.71491693e-01],\n",
       "       [-5.09943108e+00, -3.39416244e+00],\n",
       "       [-4.15581893e+00, -2.39251261e+00],\n",
       "       [-6.60817213e+00, -1.91614379e-01],\n",
       "       [-4.63084101e+00,  1.42427029e-01],\n",
       "       [ 1.14548625e+00, -3.55544155e+00],\n",
       "       [-3.91199884e+00, -3.72192794e+00],\n",
       "       [-2.12957298e+00, -2.22803796e+00],\n",
       "       [-4.43716610e+00, -1.97820709e+00],\n",
       "       [-1.11236880e+00, -5.40193750e-01],\n",
       "       [-1.95803595e+00, -2.18543301e+00],\n",
       "       [-7.06032031e-01, -1.99899335e+00],\n",
       "       [-1.32166609e+00, -1.49133190e+00],\n",
       "       [-3.23257138e+00, -1.98782071e+00],\n",
       "       [-3.15623640e+00, -2.49232932e+00],\n",
       "       [-2.74273816e+00, -1.40706045e+00],\n",
       "       [-4.96307887e+00, -6.84271140e-01],\n",
       "       [-4.22942385e+00, -3.06635475e+00],\n",
       "       [-4.68002198e+00, -3.19052657e+00],\n",
       "       [-8.56637134e+00, -2.53771810e+00],\n",
       "       [-3.63495780e+00, -1.95173688e+00],\n",
       "       [-3.39974016e+00, -1.77123401e+00],\n",
       "       [-2.47374923e+00, -3.14759661e+00],\n",
       "       [-2.86283505e+00, -9.09064533e-01],\n",
       "       [-3.87162368e-01, -1.33183536e+00],\n",
       "       [ 5.67156983e-01, -1.17820827e+00],\n",
       "       [-3.14354667e+00, -2.89696383e+00],\n",
       "       [-7.75592428e+00, -3.08911665e+00],\n",
       "       [-1.47725437e+00, -3.75377008e-01],\n",
       "       [-5.12207594e+00, -2.24622632e+00],\n",
       "       [-3.06682399e+00,  1.26107817e-01],\n",
       "       [-1.64377137e+00, -7.79677610e-02],\n",
       "       [-2.09148459e+00, -2.46457636e+00],\n",
       "       [-1.28463185e+00, -5.24410518e+00],\n",
       "       [ 1.60800951e-02, -2.85851075e-01],\n",
       "       [-2.63165421e+00, -3.18735267e+00],\n",
       "       [-4.53662966e+00, -2.06101495e+00],\n",
       "       [-2.08954480e+00, -1.09446810e+00],\n",
       "       [-5.15752799e+00, -8.83118642e-01],\n",
       "       [-9.48301130e-01, -1.41566996e+00],\n",
       "       [ 3.10612705e-02, -2.10086848e+00],\n",
       "       [-1.75986640e+00, -1.78031155e+00],\n",
       "       [-1.91569015e+00, -7.74492999e-01],\n",
       "       [-2.25179623e+00, -1.72834424e+00],\n",
       "       [-2.93391095e+00, -1.31826838e+00],\n",
       "       [-3.89202980e+00, -2.42999754e+00],\n",
       "       [-4.87690350e+00, -2.97846176e+00],\n",
       "       [-5.95503261e+00, -1.20525087e+00],\n",
       "       [-3.69956566e+00, -2.51244600e+00],\n",
       "       [-3.98615703e+00, -1.28510631e+00],\n",
       "       [-6.10482161e+00, -1.75495983e-01],\n",
       "       [-3.91831879e+00, -1.74073017e+00],\n",
       "       [-9.68433174e-01, -1.70964451e+00],\n",
       "       [ 2.29798377e+00, -3.91738434e+00],\n",
       "       [-5.30957204e+00, -2.73511472e+00],\n",
       "       [-3.77664300e-01, -3.38925961e+00],\n",
       "       [-8.21185490e-01, -3.33528340e+00],\n",
       "       [-7.52991576e-01, -2.61556749e+00],\n",
       "       [-1.97638730e-01, -1.96381904e+00],\n",
       "       [-3.83586383e+00, -3.61057572e+00],\n",
       "       [-7.58005655e+00, -1.21992256e+00],\n",
       "       [-8.69327391e-01, -2.40284457e+00],\n",
       "       [-6.00200957e+00, -1.93195915e+00],\n",
       "       [-4.97267655e+00, -2.98341017e+00],\n",
       "       [-3.42927465e+00,  1.91496789e-01],\n",
       "       [-4.60712734e+00, -2.42621433e+00],\n",
       "       [-3.31763667e+00, -2.12496157e+00],\n",
       "       [-2.27508365e+00, -2.50684020e+00],\n",
       "       [-3.81892141e+00, -2.52968305e+00],\n",
       "       [-6.12209542e-01, -2.23680060e+00],\n",
       "       [-5.12027237e+00, -2.39895922e+00],\n",
       "       [-2.86921653e+00, -1.99476116e+00],\n",
       "       [-6.92367213e-01, -2.41440536e+00],\n",
       "       [-5.52272426e+00, -1.65688814e+00],\n",
       "       [-2.45593116e+00, -4.58861677e-01],\n",
       "       [-4.59418333e+00, -2.45802635e+00],\n",
       "       [-4.51052388e+00, -2.43163216e+00],\n",
       "       [-7.94913120e-01, -2.86739654e+00],\n",
       "       [-6.18142469e+00, -2.36954802e+00],\n",
       "       [-2.97876844e+00, -1.03883424e+00],\n",
       "       [-2.76336361e+00, -1.95825293e+00],\n",
       "       [-4.10746260e+00, -2.22472443e+00],\n",
       "       [ 9.23885751e-01, -2.58918000e+00],\n",
       "       [-1.60507269e+00, -1.83047664e+00],\n",
       "       [-2.36998552e+00, -9.74208109e-01],\n",
       "       [-2.40387725e+00, -1.87053967e+00],\n",
       "       [-2.32966682e+00, -1.34989055e+00],\n",
       "       [-2.85971017e+00, -8.33514072e-01]])"
      ]
     },
     "execution_count": 382,
     "metadata": {},
     "output_type": "execute_result"
    }
   ],
   "source": [
    "samples"
   ]
  },
  {
   "cell_type": "code",
   "execution_count": null,
   "metadata": {},
   "outputs": [],
   "source": []
  }
 ],
 "metadata": {
  "kernelspec": {
   "display_name": "Python 2",
   "language": "python",
   "name": "python2"
  }
 },
 "nbformat": 4,
 "nbformat_minor": 2
}
